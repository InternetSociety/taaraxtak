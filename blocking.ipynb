{
 "cells": [
  {
   "cell_type": "code",
   "execution_count": 2,
   "metadata": {},
   "outputs": [],
   "source": [
    "import logging\n",
    "import coloredlogs\n",
    "import requests\n",
    "from time import sleep"
   ]
  },
  {
   "cell_type": "code",
   "execution_count": 3,
   "metadata": {},
   "outputs": [],
   "source": [
    "logging.basicConfig()\n",
    "logger = logging.getLogger(\"poll-ooni\")\n",
    "# logger.setLevel(logging.DEBUG)\n",
    "coloredlogs.install()\n",
    "coloredlogs.install(level='DEBUG')\n",
    "# coloredlogs.install(level='INFO')"
   ]
  },
  {
   "cell_type": "code",
   "execution_count": 4,
   "metadata": {},
   "outputs": [],
   "source": [
    "config = {\n",
    "    \"sleep-times\": {\n",
    "        \"ooni-poll\": 60*5,\n",
    "        \"ooni-paginate\": 2,\n",
    "    }\n",
    "}\n"
   ]
  },
  {
   "cell_type": "code",
   "execution_count": 5,
   "metadata": {},
   "outputs": [],
   "source": [
    "# TODO make dry!\n",
    "def is_nonempty_str(my_str: str) -> bool:\n",
    "    return (type(my_str) == str) & (len(my_str) > 0)\n",
    "\n",
    "class Alpha2 ():\n",
    "    '''\n",
    "    Represents an ISO alpha-2 country code.\n",
    "    '''\n",
    "    def __init__(self,\n",
    "                 country_code: str):\n",
    "        assert(is_nonempty_str(country_code))\n",
    "        assert(len(country_code)==2)\n",
    "        self.country_code = country_code\n",
    "        \n",
    "    def __str__(self):\n",
    "        return f'{self.country_code}'\n",
    "    \n",
    "    def __repr__(self):\n",
    "        return self.__str__()\n"
   ]
  },
  {
   "cell_type": "markdown",
   "metadata": {},
   "source": [
    "# Getting the data we need\n",
    "\n",
    "## Measuremnets from OONI"
   ]
  },
  {
   "cell_type": "code",
   "execution_count": 98,
   "metadata": {},
   "outputs": [],
   "source": [
    "def api_query (query: str, results=[], queries=1, max_queries=None) -> list:\n",
    "    '''Recursively query the API, up to `max_queries`. (If `max_queries=None`, we\n",
    "    will paginate through the results as long as they run).\n",
    "    '''\n",
    "    base_url = 'https://api.ooni.io/api/v1/'\n",
    "    query = '{!s}{!s}'.format(base_url, query)\n",
    "    try:\n",
    "        resp =  requests.get(query).json()\n",
    "        results = results + resp['results']\n",
    "        next_url = resp['metadata']['next_url']\n",
    "        if max_queries is not None and queries > max_queries:\n",
    "            return results\n",
    "        if next_url:\n",
    "            # sleep so as to not overwhelm the endpoint\n",
    "            sleep(config['sleep-times']['ooni-paginate'])\n",
    "            # remove base url to perfrom the query\n",
    "            next_url = next_url.split('api/v1/')[1]\n",
    "            print(\"next URL\", next_url)\n",
    "            return api_query(next_url, results, queries+1, max_queries)\n",
    "        return results\n",
    "    except Exception as inst:\n",
    "        # if we have an error,\n",
    "        logger.warning(\"Error querying API: {!s}\".format(inst))\n",
    "        # just return what we've collected\n",
    "        # (at worst, `results` will be `[]`)\n",
    "        return results\n"
   ]
  },
  {
   "cell_type": "code",
   "execution_count": 100,
   "metadata": {},
   "outputs": [],
   "source": [
    "base_query = 'measurements?test_name=web_connectivity&anomaly=true&order_by=test_start_time&limit=1000'\n",
    "\n",
    "def query_recent_measurements (max_queries=5) -> list:\n",
    "    '''Queries all recent measurements, up to specified maximum number of queries.'''\n",
    "    return api_query(base_query, max_queries=max_queries)\n",
    "\n",
    "def get_blocking_type (measurement) -> str:\n",
    "    '''Get blocking type, if available.'''\n",
    "    try:\n",
    "        return measurement['scores']['analysis']['blocking_type']\n",
    "    except:\n",
    "        return None"
   ]
  },
  {
   "cell_type": "code",
   "execution_count": 101,
   "metadata": {},
   "outputs": [
    {
     "name": "stderr",
     "output_type": "stream",
     "text": [
      "2021-05-25 13:19:23 congratulations urllib3.connectionpool[4205] DEBUG Starting new HTTPS connection (1): api.ooni.io:443\n",
      "2021-05-25 13:19:24 congratulations urllib3.connectionpool[4205] DEBUG https://api.ooni.io:443 \"GET /api/v1/measurements?test_name=web_connectivity&anomaly=true&order_by=test_start_time&limit=1000 HTTP/1.1\" 200 824369\n",
      "2021-05-25 13:19:27 congratulations urllib3.connectionpool[4205] DEBUG Starting new HTTPS connection (1): api.ooni.io:443\n"
     ]
    },
    {
     "name": "stdout",
     "output_type": "stream",
     "text": [
      "next URL measurements?test_name=web_connectivity&anomaly=true&order_by=test_start_time&limit=1000&offset=1000\n"
     ]
    },
    {
     "name": "stderr",
     "output_type": "stream",
     "text": [
      "2021-05-25 13:19:28 congratulations urllib3.connectionpool[4205] DEBUG https://api.ooni.io:443 \"GET /api/v1/measurements?test_name=web_connectivity&anomaly=true&order_by=test_start_time&limit=1000&offset=1000 HTTP/1.1\" 200 827717\n",
      "2021-05-25 13:19:31 congratulations urllib3.connectionpool[4205] DEBUG Starting new HTTPS connection (1): api.ooni.io:443\n"
     ]
    },
    {
     "name": "stdout",
     "output_type": "stream",
     "text": [
      "next URL measurements?test_name=web_connectivity&anomaly=true&order_by=test_start_time&limit=1000&offset=2000\n"
     ]
    },
    {
     "name": "stderr",
     "output_type": "stream",
     "text": [
      "2021-05-25 13:19:32 congratulations urllib3.connectionpool[4205] DEBUG https://api.ooni.io:443 \"GET /api/v1/measurements?test_name=web_connectivity&anomaly=true&order_by=test_start_time&limit=1000&offset=2000 HTTP/1.1\" 200 830892\n",
      "2021-05-25 13:19:35 congratulations urllib3.connectionpool[4205] DEBUG Starting new HTTPS connection (1): api.ooni.io:443\n"
     ]
    },
    {
     "name": "stdout",
     "output_type": "stream",
     "text": [
      "next URL measurements?test_name=web_connectivity&anomaly=true&order_by=test_start_time&limit=1000&offset=3000\n"
     ]
    },
    {
     "name": "stderr",
     "output_type": "stream",
     "text": [
      "2021-05-25 13:19:36 congratulations urllib3.connectionpool[4205] DEBUG https://api.ooni.io:443 \"GET /api/v1/measurements?test_name=web_connectivity&anomaly=true&order_by=test_start_time&limit=1000&offset=3000 HTTP/1.1\" 200 827264\n",
      "2021-05-25 13:19:39 congratulations urllib3.connectionpool[4205] DEBUG Starting new HTTPS connection (1): api.ooni.io:443\n"
     ]
    },
    {
     "name": "stdout",
     "output_type": "stream",
     "text": [
      "next URL measurements?test_name=web_connectivity&anomaly=true&order_by=test_start_time&limit=1000&offset=4000\n"
     ]
    },
    {
     "name": "stderr",
     "output_type": "stream",
     "text": [
      "2021-05-25 13:19:40 congratulations urllib3.connectionpool[4205] DEBUG https://api.ooni.io:443 \"GET /api/v1/measurements?test_name=web_connectivity&anomaly=true&order_by=test_start_time&limit=1000&offset=4000 HTTP/1.1\" 200 830291\n",
      "2021-05-25 13:19:43 congratulations urllib3.connectionpool[4205] DEBUG Starting new HTTPS connection (1): api.ooni.io:443\n"
     ]
    },
    {
     "name": "stdout",
     "output_type": "stream",
     "text": [
      "next URL measurements?test_name=web_connectivity&anomaly=true&order_by=test_start_time&limit=1000&offset=5000\n"
     ]
    },
    {
     "name": "stderr",
     "output_type": "stream",
     "text": [
      "2021-05-25 13:19:44 congratulations urllib3.connectionpool[4205] DEBUG https://api.ooni.io:443 \"GET /api/v1/measurements?test_name=web_connectivity&anomaly=true&order_by=test_start_time&limit=1000&offset=5000 HTTP/1.1\" 200 825740\n"
     ]
    }
   ],
   "source": [
    "measurements = query_recent_measurements()"
   ]
  },
  {
   "cell_type": "code",
   "execution_count": 102,
   "metadata": {},
   "outputs": [
    {
     "data": {
      "text/plain": [
       "5995"
      ]
     },
     "execution_count": 102,
     "metadata": {},
     "output_type": "execute_result"
    }
   ],
   "source": [
    "len(measurements)"
   ]
  },
  {
   "cell_type": "code",
   "execution_count": 12,
   "metadata": {},
   "outputs": [
    {
     "name": "stderr",
     "output_type": "stream",
     "text": [
      "2021-05-25 12:59:39 congratulations urllib3.connectionpool[4205] DEBUG Starting new HTTPS connection (1): ams-pg.ooni.org:443\n",
      "2021-05-25 12:59:39 congratulations urllib3.connectionpool[4205] DEBUG https://ams-pg.ooni.org:443 \"GET /api/v1/raw_measurement?report_id=20210525T181651Z_webconnectivity_IN_55836_n1_v7tNboMf0kqxJ5gp&input=https%3A%2F%2Fwww.sendspace.com%2F HTTP/1.1\" 200 10333\n"
     ]
    },
    {
     "data": {
      "text/plain": [
       "{'annotations': {'engine_name': 'ooniprobe-engine',\n",
       "  'engine_version': '3.9.0',\n",
       "  'flavor': 'stableFull',\n",
       "  'network_type': 'wifi',\n",
       "  'platform': 'android'},\n",
       " 'data_format_version': '0.2.0',\n",
       " 'input': 'https://www.sendspace.com/',\n",
       " 'measurement_start_time': '2021-05-25 19:01:09',\n",
       " 'probe_asn': 'AS55836',\n",
       " 'probe_cc': 'IN',\n",
       " 'probe_ip': '127.0.0.1',\n",
       " 'probe_network_name': 'Reliance Jio Infocomm Limited',\n",
       " 'report_id': '20210525T181651Z_webconnectivity_IN_55836_n1_v7tNboMf0kqxJ5gp',\n",
       " 'resolver_asn': 'AS55836',\n",
       " 'resolver_ip': '49.45.31.116',\n",
       " 'resolver_network_name': 'Reliance Jio Infocomm Limited',\n",
       " 'software_name': 'ooniprobe-android',\n",
       " 'software_version': '2.11.0',\n",
       " 'test_helpers': {'backend': {'address': 'https://wcth.ooni.io',\n",
       "   'type': 'https'}},\n",
       " 'test_keys': {'agent': 'redirect',\n",
       "  'client_resolver': '49.45.31.116',\n",
       "  'retries': None,\n",
       "  'socksproxy': None,\n",
       "  'network_events': [{'address': '172.64.100.30:443',\n",
       "    'failure': None,\n",
       "    'operation': 'connect',\n",
       "    'proto': 'tcp',\n",
       "    't': 1.420860307,\n",
       "    'tags': ['tcptls_experiment']},\n",
       "   {'failure': None,\n",
       "    'operation': 'tls_handshake_start',\n",
       "    't': 1.420893231,\n",
       "    'tags': ['tcptls_experiment']},\n",
       "   {'failure': None,\n",
       "    'num_bytes': 287,\n",
       "    'operation': 'write',\n",
       "    't': 1.424357615,\n",
       "    'tags': ['tcptls_experiment']},\n",
       "   {'failure': 'connection_reset',\n",
       "    'operation': 'read',\n",
       "    't': 1.463324,\n",
       "    'tags': ['tcptls_experiment']},\n",
       "   {'failure': 'connection_reset',\n",
       "    'operation': 'tls_handshake_done',\n",
       "    't': 1.463410769,\n",
       "    'tags': ['tcptls_experiment']},\n",
       "   {'address': '172.64.101.30:443',\n",
       "    'failure': None,\n",
       "    'operation': 'connect',\n",
       "    'proto': 'tcp',\n",
       "    't': 1.420239769,\n",
       "    'tags': ['tcptls_experiment']},\n",
       "   {'failure': None,\n",
       "    'operation': 'tls_handshake_start',\n",
       "    't': 1.420278154,\n",
       "    'tags': ['tcptls_experiment']},\n",
       "   {'failure': None,\n",
       "    'num_bytes': 287,\n",
       "    'operation': 'write',\n",
       "    't': 1.423950846,\n",
       "    'tags': ['tcptls_experiment']},\n",
       "   {'failure': 'connection_reset',\n",
       "    'operation': 'read',\n",
       "    't': 1.464305846,\n",
       "    'tags': ['tcptls_experiment']},\n",
       "   {'failure': 'connection_reset',\n",
       "    'operation': 'tls_handshake_done',\n",
       "    't': 1.464379692,\n",
       "    'tags': ['tcptls_experiment']},\n",
       "   {'address': '[2606:4700:8d9c:9ac4:a5d7:11f:dadc:d5f8]:443',\n",
       "    'failure': None,\n",
       "    'operation': 'connect',\n",
       "    'proto': 'tcp',\n",
       "    't': 1.472819154,\n",
       "    'tags': ['tcptls_experiment']},\n",
       "   {'failure': None,\n",
       "    'operation': 'tls_handshake_start',\n",
       "    't': 1.472856615,\n",
       "    'tags': ['tcptls_experiment']},\n",
       "   {'failure': None,\n",
       "    'num_bytes': 287,\n",
       "    'operation': 'write',\n",
       "    't': 1.476498769,\n",
       "    'tags': ['tcptls_experiment']},\n",
       "   {'failure': None,\n",
       "    'num_bytes': 517,\n",
       "    'operation': 'read',\n",
       "    't': 1.618249,\n",
       "    'tags': ['tcptls_experiment']},\n",
       "   {'failure': None,\n",
       "    'num_bytes': 2276,\n",
       "    'operation': 'read',\n",
       "    't': 1.622115384,\n",
       "    'tags': ['tcptls_experiment']},\n",
       "   {'failure': None,\n",
       "    'num_bytes': 64,\n",
       "    'operation': 'write',\n",
       "    't': 1.631212077,\n",
       "    'tags': ['tcptls_experiment']},\n",
       "   {'failure': None,\n",
       "    'operation': 'tls_handshake_done',\n",
       "    't': 1.631271769,\n",
       "    'tags': ['tcptls_experiment']},\n",
       "   {'failure': None,\n",
       "    'num_bytes': 24,\n",
       "    'operation': 'write',\n",
       "    't': 1.631474769,\n",
       "    'tags': ['tcptls_experiment']}],\n",
       "  'tls_handshakes': [{'cipher_suite': '',\n",
       "    'failure': 'connection_reset',\n",
       "    'negotiated_protocol': '',\n",
       "    'no_tls_verify': False,\n",
       "    'peer_certificates': None,\n",
       "    'server_name': 'www.sendspace.com',\n",
       "    't': 1.463410769,\n",
       "    'tags': ['tcptls_experiment'],\n",
       "    'tls_version': ''},\n",
       "   {'cipher_suite': '',\n",
       "    'failure': 'connection_reset',\n",
       "    'negotiated_protocol': '',\n",
       "    'no_tls_verify': False,\n",
       "    'peer_certificates': None,\n",
       "    'server_name': 'www.sendspace.com',\n",
       "    't': 1.464379692,\n",
       "    'tags': ['tcptls_experiment'],\n",
       "    'tls_version': ''},\n",
       "   {'cipher_suite': 'TLS_CHACHA20_POLY1305_SHA256',\n",
       "    'failure': None,\n",
       "    'negotiated_protocol': 'h2',\n",
       "    'no_tls_verify': False,\n",
       "    'peer_certificates': [{'data': 'MIIEwDCCBGWgAwIBAgIQByJ8ippHDovzJr/ceXujQTAKBggqhkjOPQQDAjBKMQswCQYDVQQGEwJVUzEZMBcGA1UEChMQQ2xvdWRmbGFyZSwgSW5jLjEgMB4GA1UEAxMXQ2xvdWRmbGFyZSBJbmMgRUNDIENBLTMwHhcNMjEwMzA5MDAwMDAwWhcNMjIwMzA4MjM1OTU5WjB1MQswCQYDVQQGEwJVUzETMBEGA1UECBMKQ2FsaWZvcm5pYTEWMBQGA1UEBxMNU2FuIEZyYW5jaXNjbzEZMBcGA1UEChMQQ2xvdWRmbGFyZSwgSW5jLjEeMBwGA1UEAxMVc25pLmNsb3VkZmxhcmVzc2wuY29tMFkwEwYHKoZIzj0CAQYIKoZIzj0DAQcDQgAE4U3P8RbYnv72/A1Hxw6SappobqzN04uZnlvZr7KAAhyMZ66cFL4r2LzIb5Wbgul4vNfo7w7yFstOAn/AZBRgpqOCAwAwggL8MB8GA1UdIwQYMBaAFKXON+rrsHUOlGeItEX62SQQh5YfMB0GA1UdDgQWBBTIQzrnqVA9Oc4TjpmLLntd9QzIAjBABgNVHREEOTA3gg8qLnNlbmRzcGFjZS5jb22CFXNuaS5jbG91ZGZsYXJlc3NsLmNvbYINc2VuZHNwYWNlLmNvbTAOBgNVHQ8BAf8EBAMCB4AwHQYDVR0lBBYwFAYIKwYBBQUHAwEGCCsGAQUFBwMCMHsGA1UdHwR0MHIwN6A1oDOGMWh0dHA6Ly9jcmwzLmRpZ2ljZXJ0LmNvbS9DbG91ZGZsYXJlSW5jRUNDQ0EtMy5jcmwwN6A1oDOGMWh0dHA6Ly9jcmw0LmRpZ2ljZXJ0LmNvbS9DbG91ZGZsYXJlSW5jRUNDQ0EtMy5jcmwwPgYDVR0gBDcwNTAzBgZngQwBAgIwKTAnBggrBgEFBQcCARYbaHR0cDovL3d3dy5kaWdpY2VydC5jb20vQ1BTMHYGCCsGAQUFBwEBBGowaDAkBggrBgEFBQcwAYYYaHR0cDovL29jc3AuZGlnaWNlcnQuY29tMEAGCCsGAQUFBzAChjRodHRwOi8vY2FjZXJ0cy5kaWdpY2VydC5jb20vQ2xvdWRmbGFyZUluY0VDQ0NBLTMuY3J0MAwGA1UdEwEB/wQCMAAwggEEBgorBgEEAdZ5AgQCBIH1BIHyAPAAdQApeb7wnjk5IfBWc59jpXflvld9nGAK+PlNXSZcJV3HhAAAAXgXlRhWAAAEAwBGMEQCICUgIsOW92lf2R6BOQ+Ef5/wF4SUXaanJUxWb+HtcFZXAiAq2jpRHViScSNAdGUSQi9JHyu/kO+NmlES7FJ29CCrKAB3ACJFRQdZVSRWlj+hL/H3bYbgIyZjrcBLf13Gg1xu4g8CAAABeBeVGKEAAAQDAEgwRgIhAIw7m/2ZIVTH7QZsqcdD1TmuS5JOoxSmY8LS+2+FHjJnAiEArR5P+8+XrR8EE8HtN7/mNzuVUW6GA1eZ+0cifSoPGsswCgYIKoZIzj0EAwIDSQAwRgIhAJt5fBpK4GKfX1m7dqumjLncRes81R+XOU1tbhvVQsJ5AiEA3LnkMNs3mDzvzk16WgJVQXXU7QjcxV12+sb51TkuNR8=',\n",
       "      'format': 'base64'},\n",
       "     {'data': 'MIIDzTCCArWgAwIBAgIQCjeHZF5ftIwiTv0b7RQMPDANBgkqhkiG9w0BAQsFADBaMQswCQYDVQQGEwJJRTESMBAGA1UEChMJQmFsdGltb3JlMRMwEQYDVQQLEwpDeWJlclRydXN0MSIwIAYDVQQDExlCYWx0aW1vcmUgQ3liZXJUcnVzdCBSb290MB4XDTIwMDEyNzEyNDgwOFoXDTI0MTIzMTIzNTk1OVowSjELMAkGA1UEBhMCVVMxGTAXBgNVBAoTEENsb3VkZmxhcmUsIEluYy4xIDAeBgNVBAMTF0Nsb3VkZmxhcmUgSW5jIEVDQyBDQS0zMFkwEwYHKoZIzj0CAQYIKoZIzj0DAQcDQgAEua1NZpkUC0bsH4HRKlAenQMVLzQSfS2WuIg4m4Vfj7+7Te9hRsTJc9QkT+DuHM5ss1FxL2ruTAUJd9NyYqSb16OCAWgwggFkMB0GA1UdDgQWBBSlzjfq67B1DpRniLRF+tkkEIeWHzAfBgNVHSMEGDAWgBTlnVkwgkdYzKz6CFQ2hns6tQRN8DAOBgNVHQ8BAf8EBAMCAYYwHQYDVR0lBBYwFAYIKwYBBQUHAwEGCCsGAQUFBwMCMBIGA1UdEwEB/wQIMAYBAf8CAQAwNAYIKwYBBQUHAQEEKDAmMCQGCCsGAQUFBzABhhhodHRwOi8vb2NzcC5kaWdpY2VydC5jb20wOgYDVR0fBDMwMTAvoC2gK4YpaHR0cDovL2NybDMuZGlnaWNlcnQuY29tL09tbmlyb290MjAyNS5jcmwwbQYDVR0gBGYwZDA3BglghkgBhv1sAQEwKjAoBggrBgEFBQcCARYcaHR0cHM6Ly93d3cuZGlnaWNlcnQuY29tL0NQUzALBglghkgBhv1sAQIwCAYGZ4EMAQIBMAgGBmeBDAECAjAIBgZngQwBAgMwDQYJKoZIhvcNAQELBQADggEBAAUkHd0bsCrrmNaF4zlNXmtXnYJX/OvoMaJXkGUFvhZEOFp3ArnPEELG4ZKk40Un+ABHLGioVplTVI+tnkDB0A+21w0LOEhsUCxJkAZbZB2LzEgwLt4I4ptJIsCSDBFelpKU1fwg3FZs5ZKTv3ocwDfjhUkV+ivhdDkYD7fa86JXWGBPzI6UAPxGezQxPk1HgoE6y/SJXQ7vTQ1unBuCJN0yJV0ReFEQPaA1IwQvZW+cwdFD19Ae8zFnWSfda9J1CZMRJCQUzym+5iPDuI9yP+kHyCREU3qzuWFloUwOxkgAyXVjBYdwRVKD05WdRerw6DEdfgkfCv4+3ao8XnTSrLE=',\n",
       "      'format': 'base64'}],\n",
       "    'server_name': 'www.sendspace.com',\n",
       "    't': 1.631271769,\n",
       "    'tags': ['tcptls_experiment'],\n",
       "    'tls_version': 'TLSv1.3'}],\n",
       "  'queries': [{'answers': [{'asn': 13335,\n",
       "      'as_org_name': 'Cloudflare, Inc.',\n",
       "      'answer_type': 'A',\n",
       "      'ipv4': '172.64.100.30',\n",
       "      'ttl': None},\n",
       "     {'asn': 13335,\n",
       "      'as_org_name': 'Cloudflare, Inc.',\n",
       "      'answer_type': 'A',\n",
       "      'ipv4': '172.64.101.30',\n",
       "      'ttl': None}],\n",
       "    'engine': 'system',\n",
       "    'failure': None,\n",
       "    'hostname': 'www.sendspace.com',\n",
       "    'query_type': 'A',\n",
       "    'resolver_hostname': None,\n",
       "    'resolver_port': None,\n",
       "    'resolver_address': '',\n",
       "    't': 0.019887461},\n",
       "   {'answers': [{'asn': 13335,\n",
       "      'as_org_name': 'Cloudflare, Inc.',\n",
       "      'answer_type': 'AAAA',\n",
       "      'ipv6': '2606:4700:8d9c:9ac4:a5d7:11f:dadc:d5f8',\n",
       "      'ttl': None}],\n",
       "    'engine': 'system',\n",
       "    'failure': None,\n",
       "    'hostname': 'www.sendspace.com',\n",
       "    'query_type': 'AAAA',\n",
       "    'resolver_hostname': None,\n",
       "    'resolver_port': None,\n",
       "    'resolver_address': '',\n",
       "    't': 0.019887461}],\n",
       "  'dns_experiment_failure': None,\n",
       "  'dns_consistency': 'consistent',\n",
       "  'control_failure': None,\n",
       "  'control': {'tcp_connect': {'172.64.100.30:443': {'status': True,\n",
       "     'failure': None},\n",
       "    '172.64.101.30:443': {'status': True, 'failure': None},\n",
       "    '[2606:4700:8d9c:9ac4:a5d7:11f:dadc:d5f8]:443': {'status': False,\n",
       "     'failure': 'invalid_socket'}},\n",
       "   'http_request': {'body_length': 23221,\n",
       "    'failure': None,\n",
       "    'title': 'Free large file hosting. Send big files the easy way!',\n",
       "    'headers': {'CF-Cache-Status': 'DYNAMIC',\n",
       "     'CF-RAY': '655102c86fd3d8f1-AMS',\n",
       "     'Cache-Control': 'no-cache,no-store,max-age=0,s-maxage=0,must-revalidate',\n",
       "     'Content-Type': 'text/html; charset=UTF-8',\n",
       "     'Date': 'Tue, 25 May 2021 19:01:11 GMT',\n",
       "     'Expect-CT': 'max-age=604800, report-uri=\"https://report-uri.cloudflare.com/cdn-cgi/beacon/expect-ct\"',\n",
       "     'Expires': '0',\n",
       "     'Last-Modified': 'Tue, 25 May 2021 19:01:11 GMT',\n",
       "     'NEL': '{\"report_to\":\"cf-nel\",\"max_age\":604800}',\n",
       "     'Pragma': 'no-cache',\n",
       "     'Report-To': '{\"endpoints\":[{\"url\":\"https:\\\\/\\\\/a.nel.cloudflare.com\\\\/report\\\\/v2?s=1eqygU0EtuFJiPW2wIa6uBb9wfMMCh%2FPBeVxmSNicCPm1RkOUiLh8EY5JKG47Gw0UZO%2FtCnnSjRi0FY%2B8UPlRx9hkpw2wqHHuZTwNehXzfcNGFxTO%2B2AaFvjuDztPx0%3D\"}],\"group\":\"cf-nel\",\"max_age\":604800}',\n",
       "     'Server': 'cloudflare',\n",
       "     'Set-Cookie': 'SID=unqa9liku5u3sf2sef5l2836t5; path=/; domain=.sendspace.com',\n",
       "     'Vary': 'Accept-Encoding',\n",
       "     'X-Content-Type-Options': 'nosniff',\n",
       "     'X-Frame-Options': 'SAMEORIGIN',\n",
       "     'X-XSS-Protection': '1; mode=block',\n",
       "     'alt-svc': 'h3-27=\":443\"; ma=86400, h3-28=\":443\"; ma=86400, h3-29=\":443\"; ma=86400',\n",
       "     'cf-request-id': '0a4680113e0000d8f1618ac000000001'},\n",
       "    'status_code': 200},\n",
       "   'dns': {'failure': None, 'addrs': ['172.64.100.30', '172.64.101.30']}},\n",
       "  'tcp_connect': [{'ip': '172.64.100.30',\n",
       "    'port': 443,\n",
       "    'status': {'blocked': False, 'failure': None, 'success': True},\n",
       "    't': 1.420860307},\n",
       "   {'ip': '172.64.101.30',\n",
       "    'port': 443,\n",
       "    'status': {'blocked': False, 'failure': None, 'success': True},\n",
       "    't': 1.420239769},\n",
       "   {'ip': '2606:4700:8d9c:9ac4:a5d7:11f:dadc:d5f8',\n",
       "    'port': 443,\n",
       "    'status': {'blocked': False, 'failure': None, 'success': True},\n",
       "    't': 1.472819154}],\n",
       "  'requests': [{'failure': 'connection_reset',\n",
       "    'request': {'body': '',\n",
       "     'body_is_truncated': False,\n",
       "     'headers_list': [['Accept',\n",
       "       'text/html,application/xhtml+xml,application/xml;q=0.9,*/*;q=0.8'],\n",
       "      ['Accept-Language', 'en-US;q=0.8,en;q=0.5'],\n",
       "      ['Host', 'www.sendspace.com'],\n",
       "      ['User-Agent',\n",
       "       'Mozilla/5.0 (Windows NT 10.0; Win64; x64) AppleWebKit/537.36 (KHTML, like Gecko) Chrome/89.0.4389.90 Safari/537.36']],\n",
       "     'headers': {'Accept': 'text/html,application/xhtml+xml,application/xml;q=0.9,*/*;q=0.8',\n",
       "      'Accept-Language': 'en-US;q=0.8,en;q=0.5',\n",
       "      'Host': 'www.sendspace.com',\n",
       "      'User-Agent': 'Mozilla/5.0 (Windows NT 10.0; Win64; x64) AppleWebKit/537.36 (KHTML, like Gecko) Chrome/89.0.4389.90 Safari/537.36'},\n",
       "     'method': 'GET',\n",
       "     'tor': {'exit_ip': None, 'exit_name': None, 'is_tor': False},\n",
       "     'x_transport': 'tcp',\n",
       "     'url': 'https://www.sendspace.com/'},\n",
       "    'response': {'body': '',\n",
       "     'body_is_truncated': False,\n",
       "     'code': 0,\n",
       "     'headers_list': None,\n",
       "     'headers': None},\n",
       "    't': 1.633127077}],\n",
       "  'http_experiment_failure': 'connection_reset',\n",
       "  'body_length_match': None,\n",
       "  'body_proportion': 0,\n",
       "  'status_code_match': None,\n",
       "  'headers_match': None,\n",
       "  'title_match': None,\n",
       "  'accessible': False,\n",
       "  'blocking': 'http-failure',\n",
       "  'x_status': 8448},\n",
       " 'test_name': 'web_connectivity',\n",
       " 'test_runtime': 1.762224,\n",
       " 'test_start_time': '2021-05-25 18:16:49',\n",
       " 'test_version': '0.4.0'}"
      ]
     },
     "execution_count": 12,
     "metadata": {},
     "output_type": "execute_result"
    }
   ],
   "source": [
    "m_detail = requests.get(m['measurement_url']).json()\n",
    "\n",
    "m_detail['test_keys']['queries']\n",
    "m_detail"
   ]
  },
  {
   "cell_type": "markdown",
   "metadata": {},
   "source": [
    "## Get IP from URL"
   ]
  },
  {
   "cell_type": "code",
   "execution_count": 13,
   "metadata": {},
   "outputs": [],
   "source": [
    "inputs = [m['input'] for m in measurements]"
   ]
  },
  {
   "cell_type": "code",
   "execution_count": 22,
   "metadata": {},
   "outputs": [],
   "source": [
    "import socket\n",
    "import urllib.parse\n",
    "from typing import Optional\n",
    "\n",
    "def get_hostname (url):\n",
    "    return urllib.parse.urlparse(url).netloc\n",
    "\n",
    "def get_ip (hostname: str) ->  Optional[str]:\n",
    "    try:\n",
    "        hostname = socket.gethostbyname(hostname)\n",
    "        if hostname == '127.0.0.1' or hostname == '0.0.0.0':\n",
    "            return None\n",
    "        return hostname\n",
    "    except Exception as inst:\n",
    "            logger.warning(f\"Error looking up IP of hostname {hostname}: {inst}\")\n",
    "            return None\n"
   ]
  },
  {
   "cell_type": "code",
   "execution_count": 16,
   "metadata": {},
   "outputs": [
    {
     "data": {
      "text/plain": [
       "'104.21.28.97'"
      ]
     },
     "execution_count": 16,
     "metadata": {},
     "output_type": "execute_result"
    }
   ],
   "source": [
    "my_ip = get_ip(get_hostname(inputs[505]))\n",
    "my_ip"
   ]
  },
  {
   "cell_type": "markdown",
   "metadata": {},
   "source": [
    "## Get geolocation from IP"
   ]
  },
  {
   "cell_type": "code",
   "execution_count": 18,
   "metadata": {},
   "outputs": [
    {
     "data": {
      "text/plain": [
       "US"
      ]
     },
     "execution_count": 18,
     "metadata": {},
     "output_type": "execute_result"
    }
   ],
   "source": [
    "import geoip2.database\n",
    "from typing import Optional\n",
    "\n",
    "def ip_to_alpha2 (ip: str) -> Optional[Alpha2]:\n",
    "    with geoip2.database.Reader('dbip-country-lite-2021-05.mmdb') as reader:\n",
    "        try:\n",
    "            response = reader.country(ip)\n",
    "            return Alpha2(response.country.iso_code)\n",
    "        except Exception as inst:\n",
    "            # if we have an error,\n",
    "            logger.warning(f\"Error looking up country code of IP {ip}: {inst}\")\n",
    "            return None\n",
    "    \n",
    "ip_to_alpha2(my_ip)"
   ]
  },
  {
   "cell_type": "markdown",
   "metadata": {},
   "source": [
    "## Putting it all together"
   ]
  },
  {
   "cell_type": "code",
   "execution_count": 23,
   "metadata": {},
   "outputs": [
    {
     "data": {
      "text/plain": [
       "US"
      ]
     },
     "execution_count": 23,
     "metadata": {},
     "output_type": "execute_result"
    }
   ],
   "source": [
    "def url_to_alpha2 (url: str) -> Optional[Alpha2]:\n",
    "    hostname = get_hostname(url)\n",
    "    ip = get_ip(hostname)\n",
    "    return ip_to_alpha2(ip)\n",
    "\n",
    "url_to_alpha2('https://wikipedia.org/')"
   ]
  },
  {
   "cell_type": "markdown",
   "metadata": {},
   "source": [
    "## Get TLD jurisdiction"
   ]
  },
  {
   "cell_type": "code",
   "execution_count": 24,
   "metadata": {},
   "outputs": [],
   "source": [
    "from imp import reload\n",
    "from src.w3techs import utils as w3techs_utils\n",
    "reload(w3techs_utils)\n",
    "from tldextract import extract"
   ]
  },
  {
   "cell_type": "code",
   "execution_count": 26,
   "metadata": {},
   "outputs": [
    {
     "data": {
      "text/plain": [
       "BR"
      ]
     },
     "execution_count": 26,
     "metadata": {},
     "output_type": "execute_result"
    }
   ],
   "source": [
    "def get_tld_jurisdiction (url: str) -> Optional[Alpha2]:\n",
    "    '''\n",
    "    Takes a URL and gets an Alpha 2\n",
    "    representing the jurisdiction of the URL's top-level domain.\n",
    "    '''\n",
    "    tld = extract(url)\n",
    "    # get last item in url\n",
    "    # e.g., '.com.br' should be '.br'\n",
    "    tld = tld.suffix\n",
    "    tld = tld.split('.')[-1]\n",
    "    # put it\n",
    "    tld_str = f'.{tld}'\n",
    "#     return tld_str\n",
    "    # TODO put htis logic in get_country\n",
    "    cc =  w3techs_utils.get_country(tld_str)\n",
    "    if cc is not None:\n",
    "        return Alpha2(cc)\n",
    "    return None\n",
    "\n",
    "get_tld_jurisdiction('mycool.com.br')"
   ]
  },
  {
   "cell_type": "markdown",
   "metadata": {},
   "source": [
    "# Model the datatype"
   ]
  },
  {
   "cell_type": "code",
   "execution_count": 30,
   "metadata": {},
   "outputs": [
    {
     "data": {
      "text/plain": [
       "True"
      ]
     },
     "execution_count": 30,
     "metadata": {},
     "output_type": "execute_result"
    }
   ],
   "source": [
    "import pandas as pd\n",
    "\n",
    "def now () -> pd.Timestamp:\n",
    "    return pd.Timestamp.utcnow()\n",
    "\n",
    "def is_in_future (timestamp: pd.Timestamp) -> bool:\n",
    "    return timestamp > now()\n",
    "\n",
    "is_in_future(  pd.Timestamp('2021-06-24T20:36:06Z'))"
   ]
  },
  {
   "cell_type": "code",
   "execution_count": 31,
   "metadata": {},
   "outputs": [],
   "source": [
    "from psycopg2.extensions import cursor\n",
    "from psycopg2.extensions import connection\n",
    "import pandas as pd\n",
    "\n",
    "class OONIWebConnectivityTest():\n",
    "    '''\n",
    "    Class to capture results of an OONI web connectivity test.\n",
    "      - https://ooni.org/nettest/web-connectivity/\n",
    "    See README for more details on these fields.\n",
    "    \n",
    "    This is where validation happens.\n",
    "    TODO - Check for SQL injection attacks.\n",
    "    '''\n",
    "    def __init__(self,\n",
    "                  blocking_type: str,\n",
    "                  probe_alpha2: Alpha2,\n",
    "                  input_url: str,\n",
    "                  anomaly: bool,\n",
    "                  confirmed: bool,\n",
    "                  report_id: str,\n",
    "                  input_ip_alpha2: Alpha2,\n",
    "                  tld_jurisdiction_alpha2: Alpha2,\n",
    "                  measurement_start_time: pd.Timestamp):\n",
    "            # we only want stuff where blocking actually happened \n",
    "            assert(blocking_type != False)\n",
    "            self.blocking_type = blocking_type\n",
    "            \n",
    "            assert(type(probe_alpha2) == Alpha2)\n",
    "            self.probe_alpha2 = str(probe_alpha2)\n",
    "            \n",
    "            assert(is_nonempty_str(input_url))\n",
    "            self.input_url = input_url\n",
    "            \n",
    "            assert(type(anomaly) == bool)\n",
    "            self.anomaly = anomaly\n",
    "            \n",
    "            assert(type(confirmed) == bool)\n",
    "            self.confirmed = confirmed\n",
    "            \n",
    "            assert(is_nonempty_str(report_id))\n",
    "            self.report_id = report_id\n",
    "            \n",
    "            # type is optional\n",
    "            assert((type(input_ip_alpha2) == Alpha2) or \n",
    "                   (input_ip_alpha2 == None))\n",
    "            if input_ip_alpha2 == None:\n",
    "                self.input_ip_alpha2 = None\n",
    "            else:\n",
    "                self.input_ip_alpha2 = str(input_ip_alpha2)\n",
    "            \n",
    "            # type is optional\n",
    "            assert((type(tld_jurisdiction_alpha2) == Alpha2) or\n",
    "                   (tld_jurisdiction_alpha2 == None))\n",
    "            if tld_jurisdiction_alpha2 == None:\n",
    "                self.tld_jurisdiction_alpha2 = None\n",
    "            else:\n",
    "                self.tld_jurisdiction_alpha2 = str(tld_jurisdiction_alpha2)\n",
    "            \n",
    "            assert(type(measurement_start_time) == pd.Timestamp)\n",
    "            # if the timestamp is in the future...\n",
    "            if is_in_future(measurement_start_time):\n",
    "                # set the time to now.\n",
    "                self.measurement_start_time = now()\n",
    "            # otherwise\n",
    "            else:\n",
    "                # set it to whenever it was reported\n",
    "                self.measurement_start_time = measurement_start_time\n",
    "            \n",
    "    def create_table(\n",
    "            self,\n",
    "            cur: cursor,\n",
    "            conn: connection):\n",
    "        cmd = \"\"\"\n",
    "          CREATE TABLE ooni_web_connectivity_test (\n",
    "             blocking_type             VARCHAR,\n",
    "             probe_alpha2              CHAR(2) NOT NULL,\n",
    "             input_url                 VARCHAR NOT NULL,\n",
    "             anomaly                   BOOLEAN NOT NULL,\n",
    "             confirmed                 BOOLEAN NOT NULL,\n",
    "             report_id                 VARCHAR NOT NULL,\n",
    "             input_ip_alpha2           CHAR(2),\n",
    "             tld_jurisdiction_alpha2   CHAR(2),\n",
    "             measurement_start_time    TIMESTAMPTZ NOT NULL\n",
    "          )\n",
    "        \"\"\"\n",
    "        cur.execute(cmd)\n",
    "        conn.commit()\n",
    "\n",
    "    def write_to_db(\n",
    "            self,\n",
    "            cur: cursor,\n",
    "            conn: connection,\n",
    "            commit=True,\n",
    "    ):\n",
    "        cur.execute(\n",
    "            \"\"\"\n",
    "            INSERT INTO ooni_web_connectivity_test\n",
    "            (blocking_type, probe_alpha2, input_url, anomaly, confirmed, report_id,  \n",
    "            input_ip_alpha2, tld_jurisdiction_alpha2, measurement_start_time)   \n",
    "            VALUES\n",
    "            (%s, %s, %s, %s, %s, %s, %s, %s, %s)   \n",
    "            \"\"\", (self.blocking_type,\n",
    "                  self.probe_alpha2,\n",
    "                  self.input_url,\n",
    "                  self.anomaly,\n",
    "                  self.confirmed,\n",
    "                  self.report_id,\n",
    "                  self.input_ip_alpha2,\n",
    "                  self.tld_jurisdiction_alpha2,\n",
    "                  self.measurement_start_time))\n",
    "        if commit:\n",
    "            return conn.commit()\n",
    "        return\n",
    "\n",
    "    def __str__(self):\n",
    "        # TODO make DRY with write_to_db?\n",
    "        # TODO do this in general?\n",
    "        return f'{self.measurement_start_time} - {self.probe_alpha2} -> {self.input_ip_alpha2}, {self.tld_jurisdiction_alpha2} ({self.blocking_type} {self.input_url})'\n",
    "\n",
    "    def __repr__(self):\n",
    "        return self.__str__()\n"
   ]
  },
  {
   "cell_type": "markdown",
   "metadata": {},
   "source": [
    "# Marshall from datatype"
   ]
  },
  {
   "cell_type": "code",
   "execution_count": 32,
   "metadata": {},
   "outputs": [
    {
     "data": {
      "text/plain": [
       "2021-05-25 19:59:29+00:00 - BR -> US, US (dns http://www.bajstock.com/)"
      ]
     },
     "execution_count": 32,
     "metadata": {},
     "output_type": "execute_result"
    }
   ],
   "source": [
    "def ingest_api_measurement (measurement: dict) -> OONIWebConnectivityTest:\n",
    "    blocking_type = get_blocking_type(measurement)\n",
    "    probe_alpha2 = Alpha2(measurement['probe_cc'])\n",
    "    input_url = measurement['input']\n",
    "    anomaly = measurement['anomaly']\n",
    "    confirmed = measurement['confirmed']\n",
    "    report_id = measurement['report_id']\n",
    "    input_ip_alpha2 = url_to_alpha2(input_url) \n",
    "    tld_jurisdiction_alpha2 = get_tld_jurisdiction(input_url)\n",
    "    measurement_start_time = pd.Timestamp(measurement['measurement_start_time'])\n",
    "    return OONIWebConnectivityTest(\n",
    "        blocking_type,\n",
    "        probe_alpha2,\n",
    "        input_url,\n",
    "        anomaly,\n",
    "        confirmed,\n",
    "        report_id,\n",
    "        input_ip_alpha2,\n",
    "        tld_jurisdiction_alpha2,\n",
    "        measurement_start_time\n",
    "    )\n",
    "\n",
    "ingest_api_measurement(measurements[0])"
   ]
  },
  {
   "cell_type": "code",
   "execution_count": 105,
   "metadata": {},
   "outputs": [],
   "source": [
    "from multiprocessing import Pool\n",
    "from typing import List\n",
    "\n",
    "def ingest_api_measurements (measurement: List[dict]) -> List[OONIWebConnectivityTest]:\n",
    "    with Pool() as p:\n",
    "        return p.map(ingest_api_measurement, measurements)"
   ]
  },
  {
   "cell_type": "markdown",
   "metadata": {},
   "source": [
    "# Test it with the DB"
   ]
  },
  {
   "cell_type": "code",
   "execution_count": 33,
   "metadata": {},
   "outputs": [],
   "source": [
    "from config import config"
   ]
  },
  {
   "cell_type": "code",
   "execution_count": 34,
   "metadata": {},
   "outputs": [
    {
     "name": "stderr",
     "output_type": "stream",
     "text": [
      "2021-05-25 13:02:13 congratulations root[4205] INFO Connected to database.\n"
     ]
    }
   ],
   "source": [
    "import psycopg2\n",
    "\n",
    "# connect to the db\n",
    "my_connection = psycopg2.connect(**config['postgres'])\n",
    "my_cursor = my_connection.cursor()\n",
    "logging.info('Connected to database.')"
   ]
  },
  {
   "cell_type": "code",
   "execution_count": 35,
   "metadata": {
    "collapsed": true
   },
   "outputs": [
    {
     "ename": "ProgrammingError",
     "evalue": "relation \"ooni_web_connectivity_test\" already exists\n",
     "output_type": "error",
     "traceback": [
      "\u001b[0;31m---------------------------------------------------------------------------\u001b[0m",
      "\u001b[0;31mProgrammingError\u001b[0m                          Traceback (most recent call last)",
      "\u001b[0;32m<ipython-input-35-827aad29e7ab>\u001b[0m in \u001b[0;36m<module>\u001b[0;34m()\u001b[0m\n\u001b[1;32m     10\u001b[0m     \u001b[0mAlpha2\u001b[0m\u001b[0;34m(\u001b[0m\u001b[0;34m'US'\u001b[0m\u001b[0;34m)\u001b[0m\u001b[0;34m,\u001b[0m\u001b[0;34m\u001b[0m\u001b[0;34m\u001b[0m\u001b[0m\n\u001b[1;32m     11\u001b[0m     \u001b[0mpd\u001b[0m\u001b[0;34m.\u001b[0m\u001b[0mTimestamp\u001b[0m\u001b[0;34m(\u001b[0m\u001b[0;34m'2000-01-01 21:41:37+00:00'\u001b[0m\u001b[0;34m)\u001b[0m\u001b[0;34m\u001b[0m\u001b[0;34m\u001b[0m\u001b[0m\n\u001b[0;32m---> 12\u001b[0;31m ).create_table(my_cursor, my_connection)\n\u001b[0m",
      "\u001b[0;32m<ipython-input-31-0680899ddcf5>\u001b[0m in \u001b[0;36mcreate_table\u001b[0;34m(self, cur, conn)\u001b[0m\n\u001b[1;32m     84\u001b[0m           )\n\u001b[1;32m     85\u001b[0m         \"\"\"\n\u001b[0;32m---> 86\u001b[0;31m         \u001b[0mcur\u001b[0m\u001b[0;34m.\u001b[0m\u001b[0mexecute\u001b[0m\u001b[0;34m(\u001b[0m\u001b[0mcmd\u001b[0m\u001b[0;34m)\u001b[0m\u001b[0;34m\u001b[0m\u001b[0;34m\u001b[0m\u001b[0m\n\u001b[0m\u001b[1;32m     87\u001b[0m         \u001b[0mconn\u001b[0m\u001b[0;34m.\u001b[0m\u001b[0mcommit\u001b[0m\u001b[0;34m(\u001b[0m\u001b[0;34m)\u001b[0m\u001b[0;34m\u001b[0m\u001b[0;34m\u001b[0m\u001b[0m\n\u001b[1;32m     88\u001b[0m \u001b[0;34m\u001b[0m\u001b[0m\n",
      "\u001b[0;31mProgrammingError\u001b[0m: relation \"ooni_web_connectivity_test\" already exists\n"
     ]
    }
   ],
   "source": [
    "# dummy data\n",
    "OONIWebConnectivityTest(\n",
    "    'example',\n",
    "    Alpha2('US'),\n",
    "    'example',\n",
    "    False,\n",
    "    False,\n",
    "    'example',\n",
    "    Alpha2('US'),\n",
    "    Alpha2('US'),\n",
    "    pd.Timestamp('2000-01-01 21:41:37+00:00')\n",
    ").create_table(my_cursor, my_connection)"
   ]
  },
  {
   "cell_type": "code",
   "execution_count": 36,
   "metadata": {},
   "outputs": [],
   "source": [
    "def rollback():\n",
    "    my_cursor.execute(\"ROLLBACK\")\n",
    "    my_connection.commit()"
   ]
  },
  {
   "cell_type": "code",
   "execution_count": 42,
   "metadata": {},
   "outputs": [],
   "source": [
    "rollback()\n",
    "# test = None\n",
    "# for mt in my_types:\n",
    "#     try:\n",
    "#         mt.write_to_db(my_cursor, my_connection, commit=False) \n",
    "#     except Exception as e:\n",
    "#         test = mt\n",
    "#         print(mt)\n",
    "#         print(e)\n",
    "#         break\n",
    "        "
   ]
  },
  {
   "cell_type": "code",
   "execution_count": 38,
   "metadata": {},
   "outputs": [],
   "source": [
    "# my_connection.commit()"
   ]
  },
  {
   "cell_type": "markdown",
   "metadata": {},
   "source": [
    "# Set up a flow"
   ]
  },
  {
   "cell_type": "code",
   "execution_count": 113,
   "metadata": {},
   "outputs": [],
   "source": [
    "from datetime import datetime\n",
    "\n",
    "def get_latest_reading_time (cur: cursor) -> datetime:\n",
    "    '''Get time of most recent measurement'''\n",
    "    cur.execute('SELECT measurement_start_time from ooni_web_connectivity_test ORDER BY measurement_start_time DESC')\n",
    "    return cur.fetchone()[0]\n",
    "    \n",
    "most_recent_reading = get_latest_reading_time(my_cursor)"
   ]
  },
  {
   "cell_type": "code",
   "execution_count": 103,
   "metadata": {},
   "outputs": [
    {
     "name": "stderr",
     "output_type": "stream",
     "text": [
      "2021-05-25 13:20:17 congratulations urllib3.connectionpool[4205] DEBUG Starting new HTTPS connection (1): api.ooni.io:443\n",
      "2021-05-25 13:20:18 congratulations urllib3.connectionpool[4205] DEBUG https://api.ooni.io:443 \"GET /api/v1/measurements?test_name=web_connectivity&anomaly=true&order_by=test_start_time&limit=1000&since=2021-05-24T14:41:37 HTTP/1.1\" 200 824436\n",
      "2021-05-25 13:20:21 congratulations urllib3.connectionpool[4205] DEBUG Starting new HTTPS connection (1): api.ooni.io:443\n"
     ]
    },
    {
     "name": "stdout",
     "output_type": "stream",
     "text": [
      "next URL measurements?test_name=web_connectivity&anomaly=true&order_by=test_start_time&limit=1000&since=2021-05-24T14%3A41%3A37&offset=1000\n"
     ]
    },
    {
     "name": "stderr",
     "output_type": "stream",
     "text": [
      "2021-05-25 13:20:22 congratulations urllib3.connectionpool[4205] DEBUG https://api.ooni.io:443 \"GET /api/v1/measurements?test_name=web_connectivity&anomaly=true&order_by=test_start_time&limit=1000&since=2021-05-24T14%3A41%3A37&offset=1000 HTTP/1.1\" 200 827796\n",
      "2021-05-25 13:20:25 congratulations urllib3.connectionpool[4205] DEBUG Starting new HTTPS connection (1): api.ooni.io:443\n"
     ]
    },
    {
     "name": "stdout",
     "output_type": "stream",
     "text": [
      "next URL measurements?test_name=web_connectivity&anomaly=true&order_by=test_start_time&limit=1000&since=2021-05-24T14%3A41%3A37&offset=2000\n"
     ]
    },
    {
     "name": "stderr",
     "output_type": "stream",
     "text": [
      "2021-05-25 13:20:26 congratulations urllib3.connectionpool[4205] DEBUG https://api.ooni.io:443 \"GET /api/v1/measurements?test_name=web_connectivity&anomaly=true&order_by=test_start_time&limit=1000&since=2021-05-24T14%3A41%3A37&offset=2000 HTTP/1.1\" 200 830807\n",
      "2021-05-25 13:20:30 congratulations urllib3.connectionpool[4205] DEBUG Starting new HTTPS connection (1): api.ooni.io:443\n"
     ]
    },
    {
     "name": "stdout",
     "output_type": "stream",
     "text": [
      "next URL measurements?test_name=web_connectivity&anomaly=true&order_by=test_start_time&limit=1000&since=2021-05-24T14%3A41%3A37&offset=3000\n"
     ]
    },
    {
     "name": "stderr",
     "output_type": "stream",
     "text": [
      "2021-05-25 13:20:31 congratulations urllib3.connectionpool[4205] DEBUG https://api.ooni.io:443 \"GET /api/v1/measurements?test_name=web_connectivity&anomaly=true&order_by=test_start_time&limit=1000&since=2021-05-24T14%3A41%3A37&offset=3000 HTTP/1.1\" 200 827221\n",
      "2021-05-25 13:20:34 congratulations urllib3.connectionpool[4205] DEBUG Starting new HTTPS connection (1): api.ooni.io:443\n"
     ]
    },
    {
     "name": "stdout",
     "output_type": "stream",
     "text": [
      "next URL measurements?test_name=web_connectivity&anomaly=true&order_by=test_start_time&limit=1000&since=2021-05-24T14%3A41%3A37&offset=4000\n"
     ]
    },
    {
     "name": "stderr",
     "output_type": "stream",
     "text": [
      "2021-05-25 13:20:35 congratulations urllib3.connectionpool[4205] DEBUG https://api.ooni.io:443 \"GET /api/v1/measurements?test_name=web_connectivity&anomaly=true&order_by=test_start_time&limit=1000&since=2021-05-24T14%3A41%3A37&offset=4000 HTTP/1.1\" 200 830392\n",
      "2021-05-25 13:20:38 congratulations urllib3.connectionpool[4205] DEBUG Starting new HTTPS connection (1): api.ooni.io:443\n"
     ]
    },
    {
     "name": "stdout",
     "output_type": "stream",
     "text": [
      "next URL measurements?test_name=web_connectivity&anomaly=true&order_by=test_start_time&limit=1000&since=2021-05-24T14%3A41%3A37&offset=5000\n"
     ]
    },
    {
     "name": "stderr",
     "output_type": "stream",
     "text": [
      "2021-05-25 13:20:39 congratulations urllib3.connectionpool[4205] DEBUG https://api.ooni.io:443 \"GET /api/v1/measurements?test_name=web_connectivity&anomaly=true&order_by=test_start_time&limit=1000&since=2021-05-24T14%3A41%3A37&offset=5000 HTTP/1.1\" 200 825727\n",
      "2021-05-25 13:20:42 congratulations urllib3.connectionpool[4205] DEBUG Starting new HTTPS connection (1): api.ooni.io:443\n"
     ]
    },
    {
     "name": "stdout",
     "output_type": "stream",
     "text": [
      "next URL measurements?test_name=web_connectivity&anomaly=true&order_by=test_start_time&limit=1000&since=2021-05-24T14%3A41%3A37&offset=6000\n"
     ]
    },
    {
     "name": "stderr",
     "output_type": "stream",
     "text": [
      "2021-05-25 13:20:43 congratulations urllib3.connectionpool[4205] DEBUG https://api.ooni.io:443 \"GET /api/v1/measurements?test_name=web_connectivity&anomaly=true&order_by=test_start_time&limit=1000&since=2021-05-24T14%3A41%3A37&offset=6000 HTTP/1.1\" 200 828457\n",
      "2021-05-25 13:20:47 congratulations urllib3.connectionpool[4205] DEBUG Starting new HTTPS connection (1): api.ooni.io:443\n"
     ]
    },
    {
     "name": "stdout",
     "output_type": "stream",
     "text": [
      "next URL measurements?test_name=web_connectivity&anomaly=true&order_by=test_start_time&limit=1000&since=2021-05-24T14%3A41%3A37&offset=7000\n"
     ]
    },
    {
     "name": "stderr",
     "output_type": "stream",
     "text": [
      "2021-05-25 13:20:48 congratulations urllib3.connectionpool[4205] DEBUG https://api.ooni.io:443 \"GET /api/v1/measurements?test_name=web_connectivity&anomaly=true&order_by=test_start_time&limit=1000&since=2021-05-24T14%3A41%3A37&offset=7000 HTTP/1.1\" 200 826538\n",
      "2021-05-25 13:20:51 congratulations urllib3.connectionpool[4205] DEBUG Starting new HTTPS connection (1): api.ooni.io:443\n"
     ]
    },
    {
     "name": "stdout",
     "output_type": "stream",
     "text": [
      "next URL measurements?test_name=web_connectivity&anomaly=true&order_by=test_start_time&limit=1000&since=2021-05-24T14%3A41%3A37&offset=8000\n"
     ]
    },
    {
     "name": "stderr",
     "output_type": "stream",
     "text": [
      "2021-05-25 13:20:52 congratulations urllib3.connectionpool[4205] DEBUG https://api.ooni.io:443 \"GET /api/v1/measurements?test_name=web_connectivity&anomaly=true&order_by=test_start_time&limit=1000&since=2021-05-24T14%3A41%3A37&offset=8000 HTTP/1.1\" 200 823673\n",
      "2021-05-25 13:20:56 congratulations urllib3.connectionpool[4205] DEBUG Starting new HTTPS connection (1): api.ooni.io:443\n"
     ]
    },
    {
     "name": "stdout",
     "output_type": "stream",
     "text": [
      "next URL measurements?test_name=web_connectivity&anomaly=true&order_by=test_start_time&limit=1000&since=2021-05-24T14%3A41%3A37&offset=9000\n"
     ]
    },
    {
     "name": "stderr",
     "output_type": "stream",
     "text": [
      "2021-05-25 13:20:57 congratulations urllib3.connectionpool[4205] DEBUG https://api.ooni.io:443 \"GET /api/v1/measurements?test_name=web_connectivity&anomaly=true&order_by=test_start_time&limit=1000&since=2021-05-24T14%3A41%3A37&offset=9000 HTTP/1.1\" 200 825748\n",
      "2021-05-25 13:21:00 congratulations urllib3.connectionpool[4205] DEBUG Starting new HTTPS connection (1): api.ooni.io:443\n"
     ]
    },
    {
     "name": "stdout",
     "output_type": "stream",
     "text": [
      "next URL measurements?test_name=web_connectivity&anomaly=true&order_by=test_start_time&limit=1000&since=2021-05-24T14%3A41%3A37&offset=10000\n"
     ]
    },
    {
     "name": "stderr",
     "output_type": "stream",
     "text": [
      "2021-05-25 13:21:01 congratulations urllib3.connectionpool[4205] DEBUG https://api.ooni.io:443 \"GET /api/v1/measurements?test_name=web_connectivity&anomaly=true&order_by=test_start_time&limit=1000&since=2021-05-24T14%3A41%3A37&offset=10000 HTTP/1.1\" 200 822242\n",
      "2021-05-25 13:21:05 congratulations urllib3.connectionpool[4205] DEBUG Starting new HTTPS connection (1): api.ooni.io:443\n"
     ]
    },
    {
     "name": "stdout",
     "output_type": "stream",
     "text": [
      "next URL measurements?test_name=web_connectivity&anomaly=true&order_by=test_start_time&limit=1000&since=2021-05-24T14%3A41%3A37&offset=11000\n"
     ]
    },
    {
     "name": "stderr",
     "output_type": "stream",
     "text": [
      "2021-05-25 13:21:06 congratulations urllib3.connectionpool[4205] DEBUG https://api.ooni.io:443 \"GET /api/v1/measurements?test_name=web_connectivity&anomaly=true&order_by=test_start_time&limit=1000&since=2021-05-24T14%3A41%3A37&offset=11000 HTTP/1.1\" 200 825617\n",
      "2021-05-25 13:21:09 congratulations urllib3.connectionpool[4205] DEBUG Starting new HTTPS connection (1): api.ooni.io:443\n"
     ]
    },
    {
     "name": "stdout",
     "output_type": "stream",
     "text": [
      "next URL measurements?test_name=web_connectivity&anomaly=true&order_by=test_start_time&limit=1000&since=2021-05-24T14%3A41%3A37&offset=12000\n"
     ]
    },
    {
     "name": "stderr",
     "output_type": "stream",
     "text": [
      "2021-05-25 13:21:10 congratulations urllib3.connectionpool[4205] DEBUG https://api.ooni.io:443 \"GET /api/v1/measurements?test_name=web_connectivity&anomaly=true&order_by=test_start_time&limit=1000&since=2021-05-24T14%3A41%3A37&offset=12000 HTTP/1.1\" 200 831021\n",
      "2021-05-25 13:21:14 congratulations urllib3.connectionpool[4205] DEBUG Starting new HTTPS connection (1): api.ooni.io:443\n"
     ]
    },
    {
     "name": "stdout",
     "output_type": "stream",
     "text": [
      "next URL measurements?test_name=web_connectivity&anomaly=true&order_by=test_start_time&limit=1000&since=2021-05-24T14%3A41%3A37&offset=13000\n"
     ]
    },
    {
     "name": "stderr",
     "output_type": "stream",
     "text": [
      "2021-05-25 13:21:15 congratulations urllib3.connectionpool[4205] DEBUG https://api.ooni.io:443 \"GET /api/v1/measurements?test_name=web_connectivity&anomaly=true&order_by=test_start_time&limit=1000&since=2021-05-24T14%3A41%3A37&offset=13000 HTTP/1.1\" 200 822451\n",
      "2021-05-25 13:21:18 congratulations urllib3.connectionpool[4205] DEBUG Starting new HTTPS connection (1): api.ooni.io:443\n"
     ]
    },
    {
     "name": "stdout",
     "output_type": "stream",
     "text": [
      "next URL measurements?test_name=web_connectivity&anomaly=true&order_by=test_start_time&limit=1000&since=2021-05-24T14%3A41%3A37&offset=14000\n"
     ]
    },
    {
     "name": "stderr",
     "output_type": "stream",
     "text": [
      "2021-05-25 13:21:19 congratulations urllib3.connectionpool[4205] DEBUG https://api.ooni.io:443 \"GET /api/v1/measurements?test_name=web_connectivity&anomaly=true&order_by=test_start_time&limit=1000&since=2021-05-24T14%3A41%3A37&offset=14000 HTTP/1.1\" 200 822527\n",
      "2021-05-25 13:21:23 congratulations urllib3.connectionpool[4205] DEBUG Starting new HTTPS connection (1): api.ooni.io:443\n"
     ]
    },
    {
     "name": "stdout",
     "output_type": "stream",
     "text": [
      "next URL measurements?test_name=web_connectivity&anomaly=true&order_by=test_start_time&limit=1000&since=2021-05-24T14%3A41%3A37&offset=15000\n"
     ]
    },
    {
     "name": "stderr",
     "output_type": "stream",
     "text": [
      "2021-05-25 13:21:24 congratulations urllib3.connectionpool[4205] DEBUG https://api.ooni.io:443 \"GET /api/v1/measurements?test_name=web_connectivity&anomaly=true&order_by=test_start_time&limit=1000&since=2021-05-24T14%3A41%3A37&offset=15000 HTTP/1.1\" 200 826139\n",
      "2021-05-25 13:21:27 congratulations urllib3.connectionpool[4205] DEBUG Starting new HTTPS connection (1): api.ooni.io:443\n"
     ]
    },
    {
     "name": "stdout",
     "output_type": "stream",
     "text": [
      "next URL measurements?test_name=web_connectivity&anomaly=true&order_by=test_start_time&limit=1000&since=2021-05-24T14%3A41%3A37&offset=16000\n"
     ]
    },
    {
     "name": "stderr",
     "output_type": "stream",
     "text": [
      "2021-05-25 13:21:28 congratulations urllib3.connectionpool[4205] DEBUG https://api.ooni.io:443 \"GET /api/v1/measurements?test_name=web_connectivity&anomaly=true&order_by=test_start_time&limit=1000&since=2021-05-24T14%3A41%3A37&offset=16000 HTTP/1.1\" 200 826541\n",
      "2021-05-25 13:21:32 congratulations urllib3.connectionpool[4205] DEBUG Starting new HTTPS connection (1): api.ooni.io:443\n"
     ]
    },
    {
     "name": "stdout",
     "output_type": "stream",
     "text": [
      "next URL measurements?test_name=web_connectivity&anomaly=true&order_by=test_start_time&limit=1000&since=2021-05-24T14%3A41%3A37&offset=17000\n"
     ]
    },
    {
     "name": "stderr",
     "output_type": "stream",
     "text": [
      "2021-05-25 13:21:33 congratulations urllib3.connectionpool[4205] DEBUG https://api.ooni.io:443 \"GET /api/v1/measurements?test_name=web_connectivity&anomaly=true&order_by=test_start_time&limit=1000&since=2021-05-24T14%3A41%3A37&offset=17000 HTTP/1.1\" 200 841940\n",
      "2021-05-25 13:21:37 congratulations urllib3.connectionpool[4205] DEBUG Starting new HTTPS connection (1): api.ooni.io:443\n"
     ]
    },
    {
     "name": "stdout",
     "output_type": "stream",
     "text": [
      "next URL measurements?test_name=web_connectivity&anomaly=true&order_by=test_start_time&limit=1000&since=2021-05-24T14%3A41%3A37&offset=18000\n"
     ]
    },
    {
     "name": "stderr",
     "output_type": "stream",
     "text": [
      "2021-05-25 13:21:38 congratulations urllib3.connectionpool[4205] DEBUG https://api.ooni.io:443 \"GET /api/v1/measurements?test_name=web_connectivity&anomaly=true&order_by=test_start_time&limit=1000&since=2021-05-24T14%3A41%3A37&offset=18000 HTTP/1.1\" 200 841320\n",
      "2021-05-25 13:21:41 congratulations urllib3.connectionpool[4205] DEBUG Starting new HTTPS connection (1): api.ooni.io:443\n"
     ]
    },
    {
     "name": "stdout",
     "output_type": "stream",
     "text": [
      "next URL measurements?test_name=web_connectivity&anomaly=true&order_by=test_start_time&limit=1000&since=2021-05-24T14%3A41%3A37&offset=19000\n"
     ]
    },
    {
     "name": "stderr",
     "output_type": "stream",
     "text": [
      "2021-05-25 13:21:42 congratulations urllib3.connectionpool[4205] DEBUG https://api.ooni.io:443 \"GET /api/v1/measurements?test_name=web_connectivity&anomaly=true&order_by=test_start_time&limit=1000&since=2021-05-24T14%3A41%3A37&offset=19000 HTTP/1.1\" 200 830703\n",
      "2021-05-25 13:21:46 congratulations urllib3.connectionpool[4205] DEBUG Starting new HTTPS connection (1): api.ooni.io:443\n"
     ]
    },
    {
     "name": "stdout",
     "output_type": "stream",
     "text": [
      "next URL measurements?test_name=web_connectivity&anomaly=true&order_by=test_start_time&limit=1000&since=2021-05-24T14%3A41%3A37&offset=20000\n"
     ]
    },
    {
     "name": "stderr",
     "output_type": "stream",
     "text": [
      "2021-05-25 13:21:47 congratulations urllib3.connectionpool[4205] DEBUG https://api.ooni.io:443 \"GET /api/v1/measurements?test_name=web_connectivity&anomaly=true&order_by=test_start_time&limit=1000&since=2021-05-24T14%3A41%3A37&offset=20000 HTTP/1.1\" 200 832933\n",
      "2021-05-25 13:21:50 congratulations urllib3.connectionpool[4205] DEBUG Starting new HTTPS connection (1): api.ooni.io:443\n"
     ]
    },
    {
     "name": "stdout",
     "output_type": "stream",
     "text": [
      "next URL measurements?test_name=web_connectivity&anomaly=true&order_by=test_start_time&limit=1000&since=2021-05-24T14%3A41%3A37&offset=21000\n"
     ]
    },
    {
     "name": "stderr",
     "output_type": "stream",
     "text": [
      "2021-05-25 13:21:51 congratulations urllib3.connectionpool[4205] DEBUG https://api.ooni.io:443 \"GET /api/v1/measurements?test_name=web_connectivity&anomaly=true&order_by=test_start_time&limit=1000&since=2021-05-24T14%3A41%3A37&offset=21000 HTTP/1.1\" 200 829808\n",
      "2021-05-25 13:21:54 congratulations urllib3.connectionpool[4205] DEBUG Starting new HTTPS connection (1): api.ooni.io:443\n"
     ]
    },
    {
     "name": "stdout",
     "output_type": "stream",
     "text": [
      "next URL measurements?test_name=web_connectivity&anomaly=true&order_by=test_start_time&limit=1000&since=2021-05-24T14%3A41%3A37&offset=22000\n"
     ]
    },
    {
     "name": "stderr",
     "output_type": "stream",
     "text": [
      "2021-05-25 13:21:56 congratulations urllib3.connectionpool[4205] DEBUG https://api.ooni.io:443 \"GET /api/v1/measurements?test_name=web_connectivity&anomaly=true&order_by=test_start_time&limit=1000&since=2021-05-24T14%3A41%3A37&offset=22000 HTTP/1.1\" 200 832604\n",
      "2021-05-25 13:21:59 congratulations urllib3.connectionpool[4205] DEBUG Starting new HTTPS connection (1): api.ooni.io:443\n"
     ]
    },
    {
     "name": "stdout",
     "output_type": "stream",
     "text": [
      "next URL measurements?test_name=web_connectivity&anomaly=true&order_by=test_start_time&limit=1000&since=2021-05-24T14%3A41%3A37&offset=23000\n"
     ]
    },
    {
     "name": "stderr",
     "output_type": "stream",
     "text": [
      "2021-05-25 13:22:00 congratulations urllib3.connectionpool[4205] DEBUG https://api.ooni.io:443 \"GET /api/v1/measurements?test_name=web_connectivity&anomaly=true&order_by=test_start_time&limit=1000&since=2021-05-24T14%3A41%3A37&offset=23000 HTTP/1.1\" 200 765440\n"
     ]
    }
   ],
   "source": [
    "\n",
    "def query_measurements_after (time: datetime) -> list:\n",
    "    '''Queries all measurements after time.'''\n",
    "    def fmt_dt (t: datetime):\n",
    "        return t.strftime(\"%Y-%m-%dT%H:%M:%S\")\n",
    "    query_str = base_query + '&since={!s}'.format(fmt_dt(time))\n",
    "    return api_query(query_str)\n",
    "\n",
    "ms  = query_measurements_after(most_recent_reading)"
   ]
  },
  {
   "cell_type": "code",
   "execution_count": 106,
   "metadata": {},
   "outputs": [
    {
     "name": "stderr",
     "output_type": "stream",
     "text": [
      "2021-05-25 13:23:26 congratulations root[4884] INFO Cannot find country for .va\n",
      "2021-05-25 13:23:27 congratulations root[4884] INFO Cannot find country for .va\n",
      "2021-05-25 13:23:28 congratulations poll-ooni[4882] WARNING Error looking up country code of IP None: argument 1 must be a string or ipaddress object\n",
      "2021-05-25 13:23:28 congratulations poll-ooni[4883] WARNING Error looking up country code of IP None: argument 1 must be a string or ipaddress object\n",
      "2021-05-25 13:23:28 congratulations poll-ooni[4884] WARNING Error looking up country code of IP None: argument 1 must be a string or ipaddress object\n",
      "2021-05-25 13:23:29 congratulations poll-ooni[4883] WARNING Error looking up country code of IP 0.0.0.0: The address 0.0.0.0 is not in the database.\n",
      "2021-05-25 13:23:39 congratulations poll-ooni[4882] WARNING Error looking up IP of hostname www.midiacaricata.blogspot.com: [Errno -2] Name or service not known\n",
      "2021-05-25 13:23:39 congratulations poll-ooni[4881] WARNING Error looking up IP of hostname gaycity.love: [Errno -2] Name or service not known\n",
      "2021-05-25 13:23:39 congratulations poll-ooni[4883] WARNING Error looking up IP of hostname blogmarks.net: [Errno -2] Name or service not known\n",
      "2021-05-25 13:23:39 congratulations poll-ooni[4883] WARNING Error looking up country code of IP None: argument 1 must be a string or ipaddress object\n",
      "2021-05-25 13:23:39 congratulations poll-ooni[4884] WARNING Error looking up IP of hostname www.dalailamaworld.com: [Errno -2] Name or service not known\n",
      "2021-05-25 13:23:39 congratulations poll-ooni[4882] WARNING Error looking up country code of IP None: argument 1 must be a string or ipaddress object\n",
      "2021-05-25 13:23:39 congratulations poll-ooni[4881] WARNING Error looking up country code of IP None: argument 1 must be a string or ipaddress object\n",
      "2021-05-25 13:23:39 congratulations poll-ooni[4884] WARNING Error looking up country code of IP None: argument 1 must be a string or ipaddress object\n",
      "2021-05-25 13:23:39 congratulations root[4881] INFO Cannot find country for .love\n",
      "2021-05-25 13:23:40 congratulations poll-ooni[4882] WARNING Error looking up country code of IP None: argument 1 must be a string or ipaddress object\n",
      "2021-05-25 13:23:40 congratulations poll-ooni[4881] WARNING Error looking up country code of IP None: argument 1 must be a string or ipaddress object\n",
      "2021-05-25 13:23:41 congratulations poll-ooni[4883] WARNING Error looking up country code of IP None: argument 1 must be a string or ipaddress object\n",
      "2021-05-25 13:23:42 congratulations root[4883] INFO Cannot find country for .sx\n",
      "2021-05-25 13:23:50 congratulations poll-ooni[4884] WARNING Error looking up IP of hostname www.jsf.mil: [Errno -2] Name or service not known\n",
      "2021-05-25 13:23:50 congratulations poll-ooni[4881] WARNING Error looking up IP of hostname disqus.com: [Errno -2] Name or service not known\n",
      "2021-05-25 13:23:50 congratulations poll-ooni[4883] WARNING Error looking up IP of hostname www.torrentvia.com: [Errno -2] Name or service not known\n",
      "2021-05-25 13:23:50 congratulations poll-ooni[4881] WARNING Error looking up country code of IP None: argument 1 must be a string or ipaddress object\n",
      "2021-05-25 13:23:50 congratulations poll-ooni[4884] WARNING Error looking up country code of IP None: argument 1 must be a string or ipaddress object\n",
      "2021-05-25 13:23:50 congratulations poll-ooni[4882] WARNING Error looking up IP of hostname btguard.com: [Errno -2] Name or service not known\n",
      "2021-05-25 13:23:50 congratulations poll-ooni[4882] WARNING Error looking up country code of IP None: argument 1 must be a string or ipaddress object\n",
      "2021-05-25 13:23:50 congratulations poll-ooni[4883] WARNING Error looking up country code of IP None: argument 1 must be a string or ipaddress object\n",
      "2021-05-25 13:23:50 congratulations root[4882] INFO Cannot find country for .ws\n",
      "2021-05-25 13:23:50 congratulations poll-ooni[4882] WARNING Error looking up country code of IP None: argument 1 must be a string or ipaddress object\n",
      "2021-05-25 13:23:51 congratulations root[4883] INFO Cannot find country for .ws\n",
      "2021-05-25 13:23:52 congratulations root[4883] INFO Cannot find country for .sx\n",
      "2021-05-25 13:23:52 congratulations root[4883] INFO Cannot find country for .blue\n",
      "2021-05-25 13:23:52 congratulations poll-ooni[4881] WARNING Error looking up country code of IP None: argument 1 must be a string or ipaddress object\n",
      "2021-05-25 13:23:53 congratulations root[4881] INFO Cannot find country for .mobi\n",
      "2021-05-25 13:23:53 congratulations poll-ooni[4883] WARNING Error looking up country code of IP None: argument 1 must be a string or ipaddress object\n",
      "2021-05-25 13:24:02 congratulations poll-ooni[4884] WARNING Error looking up IP of hostname www.santatereza.to.gov.br: [Errno -2] Name or service not known\n",
      "2021-05-25 13:24:02 congratulations poll-ooni[4884] WARNING Error looking up country code of IP None: argument 1 must be a string or ipaddress object\n",
      "2021-05-25 13:24:03 congratulations poll-ooni[4882] WARNING Error looking up IP of hostname conversadefeira.blogspot.com: [Errno -2] Name or service not known\n",
      "2021-05-25 13:24:03 congratulations poll-ooni[4882] WARNING Error looking up country code of IP None: argument 1 must be a string or ipaddress object\n",
      "2021-05-25 13:24:08 congratulations poll-ooni[4881] WARNING Error looking up IP of hostname www.irna.ir: [Errno -2] Name or service not known\n",
      "2021-05-25 13:24:08 congratulations poll-ooni[4883] WARNING Error looking up IP of hostname www.freespeech.org: [Errno -2] Name or service not known\n",
      "2021-05-25 13:24:08 congratulations poll-ooni[4881] WARNING Error looking up country code of IP None: argument 1 must be a string or ipaddress object\n",
      "2021-05-25 13:24:08 congratulations poll-ooni[4884] WARNING Error looking up IP of hostname www.masr11.com: [Errno -2] Name or service not known\n",
      "2021-05-25 13:24:08 congratulations poll-ooni[4883] WARNING Error looking up country code of IP None: argument 1 must be a string or ipaddress object\n",
      "2021-05-25 13:24:08 congratulations poll-ooni[4884] WARNING Error looking up country code of IP None: argument 1 must be a string or ipaddress object\n",
      "2021-05-25 13:24:10 congratulations poll-ooni[4884] WARNING Error looking up country code of IP None: argument 1 must be a string or ipaddress object\n",
      "2021-05-25 13:24:18 congratulations poll-ooni[4881] WARNING Error looking up IP of hostname transsexual.org: [Errno -2] Name or service not known\n",
      "2021-05-25 13:24:18 congratulations poll-ooni[4881] WARNING Error looking up country code of IP None: argument 1 must be a string or ipaddress object\n",
      "2021-05-25 13:24:19 congratulations poll-ooni[4884] WARNING Error looking up IP of hostname www.metacrawler.com: [Errno -2] Name or service not known\n",
      "2021-05-25 13:24:19 congratulations poll-ooni[4883] WARNING Error looking up IP of hostname www.repubblica.com: [Errno -2] Name or service not known\n",
      "2021-05-25 13:24:19 congratulations poll-ooni[4882] WARNING Error looking up IP of hostname tinder.com: [Errno -2] Name or service not known\n",
      "2021-05-25 13:24:19 congratulations poll-ooni[4883] WARNING Error looking up country code of IP None: argument 1 must be a string or ipaddress object\n",
      "2021-05-25 13:24:19 congratulations poll-ooni[4884] WARNING Error looking up country code of IP None: argument 1 must be a string or ipaddress object\n",
      "2021-05-25 13:24:19 congratulations poll-ooni[4882] WARNING Error looking up country code of IP None: argument 1 must be a string or ipaddress object\n",
      "2021-05-25 13:24:20 congratulations poll-ooni[4882] WARNING Error looking up country code of IP None: argument 1 must be a string or ipaddress object\n",
      "2021-05-25 13:24:20 congratulations poll-ooni[4884] WARNING Error looking up country code of IP None: argument 1 must be a string or ipaddress object\n",
      "2021-05-25 13:24:21 congratulations root[4882] INFO Cannot find country for .kg\n",
      "2021-05-25 13:24:21 congratulations poll-ooni[4884] WARNING Error looking up country code of IP None: argument 1 must be a string or ipaddress object\n",
      "2021-05-25 13:24:21 congratulations poll-ooni[4883] WARNING Error looking up country code of IP None: argument 1 must be a string or ipaddress object\n",
      "2021-05-25 13:24:21 congratulations root[4883] INFO Cannot find country for .ps\n"
     ]
    },
    {
     "name": "stderr",
     "output_type": "stream",
     "text": [
      "2021-05-25 13:24:22 congratulations poll-ooni[4882] WARNING Error looking up country code of IP None: argument 1 must be a string or ipaddress object\n",
      "2021-05-25 13:24:22 congratulations root[4882] INFO Cannot find country for .qa\n",
      "2021-05-25 13:24:23 congratulations root[4881] INFO Cannot find country for .ws\n",
      "2021-05-25 13:24:26 congratulations poll-ooni[4882] WARNING Error looking up country code of IP None: argument 1 must be a string or ipaddress object\n",
      "2021-05-25 13:24:26 congratulations poll-ooni[4882] WARNING Error looking up country code of IP None: argument 1 must be a string or ipaddress object\n",
      "2021-05-25 13:24:26 congratulations poll-ooni[4882] WARNING Error looking up country code of IP None: argument 1 must be a string or ipaddress object\n",
      "2021-05-25 13:24:27 congratulations root[4882] INFO Cannot find country for .sc\n",
      "2021-05-25 13:24:27 congratulations poll-ooni[4882] WARNING Error looking up country code of IP None: argument 1 must be a string or ipaddress object\n",
      "2021-05-25 13:24:38 congratulations poll-ooni[4883] WARNING Error looking up IP of hostname almalaf.net: [Errno -2] Name or service not known\n",
      "2021-05-25 13:24:38 congratulations poll-ooni[4883] WARNING Error looking up country code of IP None: argument 1 must be a string or ipaddress object\n",
      "2021-05-25 13:24:39 congratulations poll-ooni[4881] WARNING Error looking up IP of hostname forum.grasscity.com: [Errno -2] Name or service not known\n",
      "2021-05-25 13:24:39 congratulations poll-ooni[4881] WARNING Error looking up country code of IP None: argument 1 must be a string or ipaddress object\n",
      "2021-05-25 13:24:43 congratulations poll-ooni[4884] WARNING Error looking up IP of hostname www.camapua.ms.gov.br: [Errno -2] Name or service not known\n",
      "2021-05-25 13:24:43 congratulations poll-ooni[4884] WARNING Error looking up country code of IP None: argument 1 must be a string or ipaddress object\n",
      "2021-05-25 13:24:48 congratulations poll-ooni[4882] WARNING Error looking up IP of hostname listen320.com: [Errno -2] Name or service not known\n",
      "2021-05-25 13:24:48 congratulations poll-ooni[4882] WARNING Error looking up country code of IP None: argument 1 must be a string or ipaddress object\n",
      "2021-05-25 13:24:59 congratulations poll-ooni[4884] WARNING Error looking up IP of hostname www.asgharagha.com: [Errno -2] Name or service not known\n",
      "2021-05-25 13:24:59 congratulations poll-ooni[4881] WARNING Error looking up IP of hostname forum.grasscity.com: [Errno -2] Name or service not known\n",
      "2021-05-25 13:24:59 congratulations poll-ooni[4883] WARNING Error looking up IP of hostname www.ned.org: [Errno -2] Name or service not known\n",
      "2021-05-25 13:24:59 congratulations poll-ooni[4881] WARNING Error looking up country code of IP None: argument 1 must be a string or ipaddress object\n",
      "2021-05-25 13:24:59 congratulations poll-ooni[4882] WARNING Error looking up IP of hostname ddlhqfilm.com: [Errno -2] Name or service not known\n",
      "2021-05-25 13:24:59 congratulations poll-ooni[4883] WARNING Error looking up country code of IP None: argument 1 must be a string or ipaddress object\n",
      "2021-05-25 13:24:59 congratulations poll-ooni[4884] WARNING Error looking up country code of IP None: argument 1 must be a string or ipaddress object\n",
      "2021-05-25 13:24:59 congratulations poll-ooni[4882] WARNING Error looking up country code of IP None: argument 1 must be a string or ipaddress object\n",
      "2021-05-25 13:24:59 congratulations root[4882] INFO Cannot find country for .\n",
      "2021-05-25 13:24:59 congratulations root[4883] INFO Cannot find country for .ps\n",
      "2021-05-25 13:24:59 congratulations root[4882] INFO Cannot find country for .cafe\n",
      "2021-05-25 13:25:05 congratulations root[4883] INFO Cannot find country for .ps\n",
      "2021-05-25 13:25:15 congratulations poll-ooni[4882] WARNING Error looking up IP of hostname www.teenhealthfx.com: [Errno -2] Name or service not known\n",
      "2021-05-25 13:25:15 congratulations poll-ooni[4884] WARNING Error looking up IP of hostname www.almalaf.net: [Errno -2] Name or service not known\n",
      "2021-05-25 13:25:15 congratulations poll-ooni[4883] WARNING Error looking up IP of hostname www.prolife.com: [Errno -2] Name or service not known\n",
      "2021-05-25 13:25:15 congratulations poll-ooni[4882] WARNING Error looking up country code of IP None: argument 1 must be a string or ipaddress object\n",
      "2021-05-25 13:25:15 congratulations poll-ooni[4881] WARNING Error looking up IP of hostname filmpertutti.co: [Errno -2] Name or service not known\n",
      "2021-05-25 13:25:15 congratulations poll-ooni[4884] WARNING Error looking up country code of IP None: argument 1 must be a string or ipaddress object\n",
      "2021-05-25 13:25:15 congratulations poll-ooni[4883] WARNING Error looking up country code of IP None: argument 1 must be a string or ipaddress object\n",
      "2021-05-25 13:25:15 congratulations poll-ooni[4881] WARNING Error looking up country code of IP None: argument 1 must be a string or ipaddress object\n",
      "2021-05-25 13:25:15 congratulations poll-ooni[4883] WARNING Error looking up IP of hostname boerse.to: [Errno -2] Name or service not known\n",
      "2021-05-25 13:25:15 congratulations poll-ooni[4883] WARNING Error looking up country code of IP None: argument 1 must be a string or ipaddress object\n",
      "2021-05-25 13:25:15 congratulations poll-ooni[4883] WARNING Error looking up country code of IP None: argument 1 must be a string or ipaddress object\n",
      "2021-05-25 13:25:18 congratulations poll-ooni[4884] WARNING Error looking up country code of IP None: argument 1 must be a string or ipaddress object\n",
      "2021-05-25 13:25:25 congratulations poll-ooni[4882] WARNING Error looking up IP of hostname www.fgmnetwork.org: [Errno -2] Name or service not known\n",
      "2021-05-25 13:25:25 congratulations poll-ooni[4882] WARNING Error looking up country code of IP None: argument 1 must be a string or ipaddress object\n",
      "2021-05-25 13:25:35 congratulations poll-ooni[4881] WARNING Error looking up IP of hostname portalzuca.net: [Errno -2] Name or service not known\n",
      "2021-05-25 13:25:35 congratulations poll-ooni[4883] WARNING Error looking up IP of hostname bridges.torproject.org: [Errno -2] Name or service not known\n",
      "2021-05-25 13:25:35 congratulations poll-ooni[4884] WARNING Error looking up IP of hostname protonvpn.com: [Errno -2] Name or service not known\n",
      "2021-05-25 13:25:36 congratulations poll-ooni[4884] WARNING Error looking up country code of IP None: argument 1 must be a string or ipaddress object\n",
      "2021-05-25 13:25:36 congratulations poll-ooni[4881] WARNING Error looking up country code of IP None: argument 1 must be a string or ipaddress object\n",
      "2021-05-25 13:25:36 congratulations poll-ooni[4883] WARNING Error looking up country code of IP None: argument 1 must be a string or ipaddress object\n",
      "2021-05-25 13:25:36 congratulations poll-ooni[4882] WARNING Error looking up IP of hostname www.agazeta-acre.com.br: [Errno -2] Name or service not known\n",
      "2021-05-25 13:25:36 congratulations poll-ooni[4882] WARNING Error looking up country code of IP None: argument 1 must be a string or ipaddress object\n",
      "2021-05-25 13:25:36 congratulations root[4881] INFO Cannot find country for .space\n",
      "2021-05-25 13:25:36 congratulations poll-ooni[4882] WARNING Error looking up IP of hostname www.romeudantas.com: [Errno -2] Name or service not known\n",
      "2021-05-25 13:25:36 congratulations poll-ooni[4882] WARNING Error looking up country code of IP None: argument 1 must be a string or ipaddress object\n",
      "2021-05-25 13:25:36 congratulations root[4883] INFO Cannot find country for .uy\n",
      "2021-05-25 13:25:36 congratulations poll-ooni[4881] WARNING Error looking up country code of IP None: argument 1 must be a string or ipaddress object\n",
      "2021-05-25 13:25:37 congratulations poll-ooni[4882] WARNING Error looking up country code of IP None: argument 1 must be a string or ipaddress object\n",
      "2021-05-25 13:25:46 congratulations poll-ooni[4884] WARNING Error looking up IP of hostname www.roulette.sh: [Errno -2] Name or service not known\n",
      "2021-05-25 13:25:46 congratulations poll-ooni[4884] WARNING Error looking up country code of IP None: argument 1 must be a string or ipaddress object\n",
      "2021-05-25 13:25:46 congratulations root[4884] INFO Cannot find country for .sh\n",
      "2021-05-25 13:25:47 congratulations poll-ooni[4883] WARNING Error looking up IP of hostname www.esteio.rs.gov.br: [Errno -2] Name or service not known\n"
     ]
    },
    {
     "name": "stderr",
     "output_type": "stream",
     "text": [
      "2021-05-25 13:25:47 congratulations poll-ooni[4883] WARNING Error looking up country code of IP None: argument 1 must be a string or ipaddress object\n",
      "2021-05-25 13:25:52 congratulations poll-ooni[4881] WARNING Error looking up IP of hostname www.presscenter.kz: [Errno -2] Name or service not known\n",
      "2021-05-25 13:25:52 congratulations poll-ooni[4881] WARNING Error looking up country code of IP None: argument 1 must be a string or ipaddress object\n",
      "2021-05-25 13:25:57 congratulations poll-ooni[4883] WARNING Error looking up IP of hostname www.derechos.org: [Errno -2] Name or service not known\n",
      "2021-05-25 13:25:57 congratulations poll-ooni[4883] WARNING Error looking up country code of IP None: argument 1 must be a string or ipaddress object\n",
      "2021-05-25 13:25:59 congratulations poll-ooni[4883] WARNING Error looking up country code of IP None: argument 1 must be a string or ipaddress object\n",
      "2021-05-25 13:25:59 congratulations poll-ooni[4883] WARNING Error looking up country code of IP None: argument 1 must be a string or ipaddress object\n",
      "2021-05-25 13:25:59 congratulations poll-ooni[4883] WARNING Error looking up country code of IP None: argument 1 must be a string or ipaddress object\n",
      "2021-05-25 13:26:02 congratulations poll-ooni[4882] WARNING Error looking up IP of hostname blogdogilmardarosa.blogspot.com: [Errno -2] Name or service not known\n",
      "2021-05-25 13:26:02 congratulations poll-ooni[4884] WARNING Error looking up IP of hostname mastodon.host: [Errno -2] Name or service not known\n",
      "2021-05-25 13:26:02 congratulations poll-ooni[4882] WARNING Error looking up country code of IP None: argument 1 must be a string or ipaddress object\n",
      "2021-05-25 13:26:02 congratulations poll-ooni[4884] WARNING Error looking up country code of IP None: argument 1 must be a string or ipaddress object\n",
      "2021-05-25 13:26:02 congratulations poll-ooni[4881] WARNING Error looking up IP of hostname www.mizzima.com: [Errno -2] Name or service not known\n",
      "2021-05-25 13:26:02 congratulations poll-ooni[4881] WARNING Error looking up country code of IP None: argument 1 must be a string or ipaddress object\n",
      "2021-05-25 13:26:03 congratulations poll-ooni[4882] WARNING Error looking up country code of IP None: argument 1 must be a string or ipaddress object\n",
      "2021-05-25 13:26:03 congratulations poll-ooni[4882] WARNING Error looking up country code of IP None: argument 1 must be a string or ipaddress object\n",
      "2021-05-25 13:26:03 congratulations poll-ooni[4884] WARNING Error looking up country code of IP None: argument 1 must be a string or ipaddress object\n",
      "2021-05-25 13:26:03 congratulations poll-ooni[4884] WARNING Error looking up country code of IP None: argument 1 must be a string or ipaddress object\n",
      "2021-05-25 13:26:04 congratulations root[4881] INFO Cannot find country for .ws\n",
      "2021-05-25 13:26:04 congratulations root[4881] INFO Cannot find country for .la\n",
      "2021-05-25 13:26:04 congratulations poll-ooni[4883] WARNING Error looking up country code of IP None: argument 1 must be a string or ipaddress object\n",
      "2021-05-25 13:26:04 congratulations poll-ooni[4881] WARNING Error looking up IP of hostname guljan.org: [Errno -2] Name or service not known\n",
      "2021-05-25 13:26:04 congratulations poll-ooni[4881] WARNING Error looking up country code of IP None: argument 1 must be a string or ipaddress object\n",
      "2021-05-25 13:26:04 congratulations root[4881] INFO Cannot find country for .jo\n",
      "2021-05-25 13:26:20 congratulations poll-ooni[4882] WARNING Error looking up IP of hostname www.diariodopovo.com.br: [Errno -2] Name or service not known\n",
      "2021-05-25 13:26:20 congratulations poll-ooni[4884] WARNING Error looking up IP of hostname www.diariodopovo.com.br: [Errno -2] Name or service not known\n",
      "2021-05-25 13:26:20 congratulations poll-ooni[4882] WARNING Error looking up country code of IP None: argument 1 must be a string or ipaddress object\n",
      "2021-05-25 13:26:20 congratulations poll-ooni[4881] WARNING Error looking up IP of hostname www.fgmnetwork.org: [Errno -2] Name or service not known\n",
      "2021-05-25 13:26:20 congratulations poll-ooni[4884] WARNING Error looking up country code of IP None: argument 1 must be a string or ipaddress object\n",
      "2021-05-25 13:26:20 congratulations poll-ooni[4881] WARNING Error looking up country code of IP None: argument 1 must be a string or ipaddress object\n",
      "2021-05-25 13:26:25 congratulations poll-ooni[4883] WARNING Error looking up IP of hostname asl19.org: [Errno -2] Name or service not known\n",
      "2021-05-25 13:26:25 congratulations poll-ooni[4883] WARNING Error looking up country code of IP None: argument 1 must be a string or ipaddress object\n",
      "2021-05-25 13:26:30 congratulations poll-ooni[4882] WARNING Error looking up IP of hostname www.sealswcc.com: [Errno -2] Name or service not known\n",
      "2021-05-25 13:26:30 congratulations poll-ooni[4882] WARNING Error looking up country code of IP None: argument 1 must be a string or ipaddress object\n",
      "2021-05-25 13:26:32 congratulations poll-ooni[4883] WARNING Error looking up country code of IP None: argument 1 must be a string or ipaddress object\n",
      "2021-05-25 13:26:32 congratulations poll-ooni[4883] WARNING Error looking up country code of IP None: argument 1 must be a string or ipaddress object\n",
      "2021-05-25 13:26:32 congratulations root[4883] INFO Cannot find country for .im\n",
      "2021-05-25 13:26:34 congratulations poll-ooni[4883] WARNING Error looking up country code of IP None: argument 1 must be a string or ipaddress object\n",
      "2021-05-25 13:26:34 congratulations root[4883] INFO Cannot find country for .mm\n",
      "2021-05-25 13:26:35 congratulations root[4883] INFO Cannot find country for .mm\n",
      "2021-05-25 13:26:35 congratulations root[4883] INFO Cannot find country for .mm\n",
      "2021-05-25 13:26:40 congratulations poll-ooni[4881] WARNING Error looking up IP of hostname scontent-ams4-1.cdninstagram.com: [Errno -2] Name or service not known\n",
      "2021-05-25 13:26:40 congratulations poll-ooni[4884] WARNING Error looking up IP of hostname onlybingo.com: [Errno -2] Name or service not known\n",
      "2021-05-25 13:26:40 congratulations poll-ooni[4881] WARNING Error looking up country code of IP None: argument 1 must be a string or ipaddress object\n",
      "2021-05-25 13:26:40 congratulations poll-ooni[4884] WARNING Error looking up country code of IP None: argument 1 must be a string or ipaddress object\n",
      "2021-05-25 13:26:40 congratulations poll-ooni[4882] WARNING Error looking up IP of hostname www.mywebdigest.net: [Errno -2] Name or service not known\n",
      "2021-05-25 13:26:40 congratulations poll-ooni[4882] WARNING Error looking up country code of IP None: argument 1 must be a string or ipaddress object\n",
      "2021-05-25 13:26:40 congratulations root[4882] INFO Cannot find country for .ps\n",
      "2021-05-25 13:26:40 congratulations root[4882] INFO Cannot find country for .ws\n",
      "2021-05-25 13:26:40 congratulations poll-ooni[4883] WARNING Error looking up country code of IP None: argument 1 must be a string or ipaddress object\n",
      "2021-05-25 13:26:40 congratulations poll-ooni[4882] WARNING Error looking up country code of IP None: argument 1 must be a string or ipaddress object\n",
      "2021-05-25 13:26:40 congratulations poll-ooni[4882] WARNING Error looking up country code of IP None: argument 1 must be a string or ipaddress object\n",
      "2021-05-25 13:26:40 congratulations poll-ooni[4882] WARNING Error looking up country code of IP None: argument 1 must be a string or ipaddress object\n",
      "2021-05-25 13:26:56 congratulations poll-ooni[4883] WARNING Error looking up IP of hostname www.grandonline.com: [Errno -2] Name or service not known\n",
      "2021-05-25 13:26:56 congratulations poll-ooni[4883] WARNING Error looking up country code of IP None: argument 1 must be a string or ipaddress object\n",
      "2021-05-25 13:27:01 congratulations poll-ooni[4881] WARNING Error looking up IP of hostname www.irna.ir: [Errno -2] Name or service not known\n",
      "2021-05-25 13:27:01 congratulations poll-ooni[4884] WARNING Error looking up IP of hostname brasilianoverdeamarelo.blogspot.com: [Errno -2] Name or service not known\n",
      "2021-05-25 13:27:01 congratulations poll-ooni[4881] WARNING Error looking up country code of IP None: argument 1 must be a string or ipaddress object\n",
      "2021-05-25 13:27:01 congratulations poll-ooni[4882] WARNING Error looking up IP of hostname malditodesbocado.blogspot.com: [Errno -2] Name or service not known\n"
     ]
    },
    {
     "name": "stderr",
     "output_type": "stream",
     "text": [
      "2021-05-25 13:27:01 congratulations poll-ooni[4884] WARNING Error looking up country code of IP None: argument 1 must be a string or ipaddress object\n",
      "2021-05-25 13:27:01 congratulations poll-ooni[4882] WARNING Error looking up country code of IP None: argument 1 must be a string or ipaddress object\n",
      "2021-05-25 13:27:01 congratulations poll-ooni[4881] WARNING Error looking up country code of IP None: argument 1 must be a string or ipaddress object\n",
      "2021-05-25 13:27:01 congratulations poll-ooni[4883] WARNING Error looking up country code of IP None: argument 1 must be a string or ipaddress object\n",
      "2021-05-25 13:27:12 congratulations poll-ooni[4883] WARNING Error looking up IP of hostname www.fgmnetwork.org: [Errno -2] Name or service not known\n",
      "2021-05-25 13:27:12 congratulations poll-ooni[4883] WARNING Error looking up country code of IP None: argument 1 must be a string or ipaddress object\n",
      "2021-05-25 13:27:17 congratulations poll-ooni[4882] WARNING Error looking up IP of hostname www.facebook.com: [Errno -2] Name or service not known\n",
      "2021-05-25 13:27:17 congratulations poll-ooni[4882] WARNING Error looking up country code of IP None: argument 1 must be a string or ipaddress object\n",
      "2021-05-25 13:27:22 congratulations poll-ooni[4884] WARNING Error looking up IP of hostname www.fgmnetwork.org: [Errno -2] Name or service not known\n",
      "2021-05-25 13:27:22 congratulations poll-ooni[4881] WARNING Error looking up IP of hostname anonymouse.org: [Errno -2] Name or service not known\n",
      "2021-05-25 13:27:22 congratulations poll-ooni[4881] WARNING Error looking up country code of IP None: argument 1 must be a string or ipaddress object\n",
      "2021-05-25 13:27:22 congratulations poll-ooni[4884] WARNING Error looking up country code of IP None: argument 1 must be a string or ipaddress object\n",
      "2021-05-25 13:27:22 congratulations poll-ooni[4883] WARNING Error looking up IP of hostname torrentz.eu: [Errno -2] Name or service not known\n",
      "2021-05-25 13:27:22 congratulations poll-ooni[4883] WARNING Error looking up country code of IP None: argument 1 must be a string or ipaddress object\n",
      "2021-05-25 13:27:22 congratulations poll-ooni[4882] WARNING Error looking up country code of IP None: argument 1 must be a string or ipaddress object\n",
      "2021-05-25 13:27:22 congratulations poll-ooni[4884] WARNING Error looking up country code of IP None: argument 1 must be a string or ipaddress object\n",
      "2021-05-25 13:27:32 congratulations poll-ooni[4881] WARNING Error looking up IP of hostname felixmaier.blogspot.com: [Errno -2] Name or service not known\n",
      "2021-05-25 13:27:32 congratulations poll-ooni[4882] WARNING Error looking up IP of hostname go.com: [Errno -2] Name or service not known\n",
      "2021-05-25 13:27:32 congratulations poll-ooni[4884] WARNING Error looking up IP of hostname www.iwantim.com: [Errno -2] Name or service not known\n",
      "2021-05-25 13:27:32 congratulations poll-ooni[4882] WARNING Error looking up country code of IP None: argument 1 must be a string or ipaddress object\n",
      "2021-05-25 13:27:32 congratulations poll-ooni[4881] WARNING Error looking up country code of IP None: argument 1 must be a string or ipaddress object\n",
      "2021-05-25 13:27:32 congratulations poll-ooni[4884] WARNING Error looking up country code of IP None: argument 1 must be a string or ipaddress object\n",
      "2021-05-25 13:27:32 congratulations poll-ooni[4883] WARNING Error looking up IP of hostname www.webbox.com: [Errno -2] Name or service not known\n",
      "2021-05-25 13:27:32 congratulations poll-ooni[4883] WARNING Error looking up country code of IP None: argument 1 must be a string or ipaddress object\n",
      "2021-05-25 13:27:33 congratulations poll-ooni[4884] WARNING Error looking up country code of IP None: argument 1 must be a string or ipaddress object\n",
      "2021-05-25 13:27:33 congratulations poll-ooni[4884] WARNING Error looking up country code of IP None: argument 1 must be a string or ipaddress object\n",
      "2021-05-25 13:27:33 congratulations root[4881] INFO Cannot find country for .mm\n",
      "2021-05-25 13:27:34 congratulations poll-ooni[4884] WARNING Error looking up country code of IP None: argument 1 must be a string or ipaddress object\n",
      "2021-05-25 13:27:44 congratulations poll-ooni[4882] WARNING Error looking up IP of hostname www.paltalk.com: [Errno -2] Name or service not known\n",
      "2021-05-25 13:27:44 congratulations poll-ooni[4884] WARNING Error looking up IP of hostname www.sex.com: [Errno -2] Name or service not known\n",
      "2021-05-25 13:27:44 congratulations poll-ooni[4883] WARNING Error looking up IP of hostname wpd-mm.blogspot.com: [Errno -2] Name or service not known\n",
      "2021-05-25 13:27:44 congratulations poll-ooni[4882] WARNING Error looking up country code of IP None: argument 1 must be a string or ipaddress object\n",
      "2021-05-25 13:27:44 congratulations poll-ooni[4881] WARNING Error looking up IP of hostname blogdoweiss.blogspot.com: [Errno -2] Name or service not known\n",
      "2021-05-25 13:27:44 congratulations poll-ooni[4884] WARNING Error looking up country code of IP None: argument 1 must be a string or ipaddress object\n",
      "2021-05-25 13:27:44 congratulations poll-ooni[4881] WARNING Error looking up country code of IP None: argument 1 must be a string or ipaddress object\n",
      "2021-05-25 13:27:44 congratulations poll-ooni[4883] WARNING Error looking up country code of IP None: argument 1 must be a string or ipaddress object\n",
      "2021-05-25 13:27:44 congratulations poll-ooni[4882] WARNING Error looking up country code of IP None: argument 1 must be a string or ipaddress object\n",
      "2021-05-25 13:27:44 congratulations poll-ooni[4883] WARNING Error looking up country code of IP None: argument 1 must be a string or ipaddress object\n",
      "2021-05-25 13:27:54 congratulations poll-ooni[4884] WARNING Error looking up IP of hostname cinemasubito.me: [Errno -2] Name or service not known\n",
      "2021-05-25 13:27:54 congratulations poll-ooni[4884] WARNING Error looking up country code of IP None: argument 1 must be a string or ipaddress object\n",
      "2021-05-25 13:27:59 congratulations poll-ooni[4883] WARNING Error looking up IP of hostname www.maisqualidadedevida.com.br: [Errno -2] Name or service not known\n",
      "2021-05-25 13:27:59 congratulations poll-ooni[4883] WARNING Error looking up country code of IP None: argument 1 must be a string or ipaddress object\n",
      "2021-05-25 13:27:59 congratulations poll-ooni[4881] WARNING Error looking up IP of hostname www.khilafah.com: [Errno -2] Name or service not known\n",
      "2021-05-25 13:27:59 congratulations poll-ooni[4881] WARNING Error looking up country code of IP None: argument 1 must be a string or ipaddress object\n",
      "2021-05-25 13:28:09 congratulations poll-ooni[4884] WARNING Error looking up IP of hostname signal.org: [Errno -2] Name or service not known\n",
      "2021-05-25 13:28:09 congratulations poll-ooni[4882] WARNING Error looking up IP of hostname abs.twimg.com: [Errno -2] Name or service not known\n",
      "2021-05-25 13:28:09 congratulations poll-ooni[4884] WARNING Error looking up country code of IP None: argument 1 must be a string or ipaddress object\n",
      "2021-05-25 13:28:09 congratulations poll-ooni[4882] WARNING Error looking up country code of IP None: argument 1 must be a string or ipaddress object\n",
      "2021-05-25 13:28:14 congratulations poll-ooni[4883] WARNING Error looking up IP of hostname myanmarinternetseminar.blogspot.com: [Errno -2] Name or service not known\n",
      "2021-05-25 13:28:14 congratulations poll-ooni[4883] WARNING Error looking up country code of IP None: argument 1 must be a string or ipaddress object\n",
      "2021-05-25 13:28:19 congratulations poll-ooni[4881] WARNING Error looking up IP of hostname twitter.com: [Errno -2] Name or service not known\n",
      "2021-05-25 13:28:19 congratulations poll-ooni[4881] WARNING Error looking up country code of IP None: argument 1 must be a string or ipaddress object\n",
      "2021-05-25 13:28:19 congratulations poll-ooni[4882] WARNING Error looking up IP of hostname www.thaigirls100.net: [Errno -2] Name or service not known\n",
      "2021-05-25 13:28:19 congratulations poll-ooni[4882] WARNING Error looking up country code of IP None: argument 1 must be a string or ipaddress object\n",
      "2021-05-25 13:28:19 congratulations poll-ooni[4882] WARNING Error looking up country code of IP None: argument 1 must be a string or ipaddress object\n",
      "2021-05-25 13:28:20 congratulations poll-ooni[4882] WARNING Error looking up country code of IP None: argument 1 must be a string or ipaddress object\n"
     ]
    },
    {
     "name": "stderr",
     "output_type": "stream",
     "text": [
      "2021-05-25 13:28:24 congratulations poll-ooni[4884] WARNING Error looking up IP of hostname www.antstores.com: [Errno -2] Name or service not known\n",
      "2021-05-25 13:28:24 congratulations poll-ooni[4881] WARNING Error looking up IP of hostname www.newnownext.com: [Errno -2] Name or service not known\n",
      "2021-05-25 13:28:24 congratulations poll-ooni[4881] WARNING Error looking up country code of IP None: argument 1 must be a string or ipaddress object\n",
      "2021-05-25 13:28:24 congratulations poll-ooni[4883] WARNING Error looking up IP of hostname www.metacafe.com: [Errno -2] Name or service not known\n",
      "2021-05-25 13:28:24 congratulations poll-ooni[4883] WARNING Error looking up country code of IP None: argument 1 must be a string or ipaddress object\n",
      "2021-05-25 13:28:24 congratulations poll-ooni[4884] WARNING Error looking up country code of IP None: argument 1 must be a string or ipaddress object\n",
      "2021-05-25 13:28:24 congratulations root[4883] INFO Cannot find country for .qa\n",
      "2021-05-25 13:28:25 congratulations poll-ooni[4883] WARNING Error looking up country code of IP None: argument 1 must be a string or ipaddress object\n",
      "2021-05-25 13:28:25 congratulations root[4884] INFO Cannot find country for .ec\n",
      "2021-05-25 13:28:25 congratulations root[4884] INFO Cannot find country for .ec\n",
      "2021-05-25 13:28:26 congratulations root[4884] INFO Cannot find country for .black\n",
      "2021-05-25 13:28:26 congratulations poll-ooni[4882] WARNING Error looking up country code of IP None: argument 1 must be a string or ipaddress object\n",
      "2021-05-25 13:28:36 congratulations poll-ooni[4884] WARNING Error looking up IP of hostname www.javjunkies.com: [Errno -2] Name or service not known\n",
      "2021-05-25 13:28:36 congratulations poll-ooni[4882] WARNING Error looking up IP of hostname adilsonsantosfotografo.blogspot.com: [Errno -2] Name or service not known\n",
      "2021-05-25 13:28:36 congratulations poll-ooni[4881] WARNING Error looking up IP of hostname www.freespeechcoalition.com: [Errno -2] Name or service not known\n",
      "2021-05-25 13:28:36 congratulations poll-ooni[4883] WARNING Error looking up IP of hostname nptcouncil.gov.mm: [Errno -2] Name or service not known\n",
      "2021-05-25 13:28:36 congratulations poll-ooni[4882] WARNING Error looking up country code of IP None: argument 1 must be a string or ipaddress object\n",
      "2021-05-25 13:28:36 congratulations poll-ooni[4883] WARNING Error looking up country code of IP None: argument 1 must be a string or ipaddress object\n",
      "2021-05-25 13:28:36 congratulations poll-ooni[4881] WARNING Error looking up country code of IP None: argument 1 must be a string or ipaddress object\n",
      "2021-05-25 13:28:36 congratulations poll-ooni[4884] WARNING Error looking up country code of IP None: argument 1 must be a string or ipaddress object\n",
      "2021-05-25 13:28:36 congratulations root[4883] INFO Cannot find country for .mm\n",
      "2021-05-25 13:28:36 congratulations root[4884] INFO Cannot find country for .sc\n",
      "2021-05-25 13:28:36 congratulations poll-ooni[4881] WARNING Error looking up country code of IP None: argument 1 must be a string or ipaddress object\n",
      "2021-05-25 13:28:37 congratulations poll-ooni[4881] WARNING Error looking up country code of IP None: argument 1 must be a string or ipaddress object\n",
      "2021-05-25 13:28:37 congratulations root[4883] INFO Cannot find country for .mm\n",
      "2021-05-25 13:28:47 congratulations poll-ooni[4884] WARNING Error looking up IP of hostname audiopoisk.com: [Errno -2] Name or service not known\n",
      "2021-05-25 13:28:47 congratulations poll-ooni[4882] WARNING Error looking up IP of hostname www.on-instant.com: [Errno -2] Name or service not known\n",
      "2021-05-25 13:28:47 congratulations poll-ooni[4883] WARNING Error looking up IP of hostname www.lgbtglobalfaith.org: [Errno -2] Name or service not known\n",
      "2021-05-25 13:28:47 congratulations poll-ooni[4883] WARNING Error looking up country code of IP None: argument 1 must be a string or ipaddress object\n",
      "2021-05-25 13:28:47 congratulations poll-ooni[4882] WARNING Error looking up country code of IP None: argument 1 must be a string or ipaddress object\n",
      "2021-05-25 13:28:47 congratulations poll-ooni[4881] WARNING Error looking up IP of hostname www.newnownext.com: [Errno -2] Name or service not known\n",
      "2021-05-25 13:28:47 congratulations poll-ooni[4881] WARNING Error looking up country code of IP None: argument 1 must be a string or ipaddress object\n",
      "2021-05-25 13:28:47 congratulations poll-ooni[4884] WARNING Error looking up country code of IP None: argument 1 must be a string or ipaddress object\n",
      "2021-05-25 13:28:47 congratulations poll-ooni[4882] WARNING Error looking up country code of IP None: argument 1 must be a string or ipaddress object\n",
      "2021-05-25 13:28:47 congratulations poll-ooni[4883] WARNING Error looking up country code of IP None: argument 1 must be a string or ipaddress object\n",
      "2021-05-25 13:28:48 congratulations poll-ooni[4884] WARNING Error looking up country code of IP None: argument 1 must be a string or ipaddress object\n",
      "2021-05-25 13:28:48 congratulations poll-ooni[4882] WARNING Error looking up IP of hostname www.romeudantas.com: [Errno -2] Name or service not known\n",
      "2021-05-25 13:28:48 congratulations poll-ooni[4882] WARNING Error looking up country code of IP None: argument 1 must be a string or ipaddress object\n",
      "2021-05-25 13:28:48 congratulations poll-ooni[4882] WARNING Error looking up country code of IP None: argument 1 must be a string or ipaddress object\n",
      "2021-05-25 13:28:48 congratulations root[4881] INFO Cannot find country for .uy\n",
      "2021-05-25 13:28:50 congratulations poll-ooni[4882] WARNING Error looking up country code of IP None: argument 1 must be a string or ipaddress object\n",
      "2021-05-25 13:28:50 congratulations poll-ooni[4881] WARNING Error looking up country code of IP None: argument 1 must be a string or ipaddress object\n",
      "2021-05-25 13:28:51 congratulations root[4882] INFO Cannot find country for .\n",
      "2021-05-25 13:28:52 congratulations root[4881] INFO Cannot find country for .chat\n",
      "2021-05-25 13:28:52 congratulations poll-ooni[4881] WARNING Error looking up country code of IP None: argument 1 must be a string or ipaddress object\n",
      "2021-05-25 13:28:52 congratulations root[4881] INFO Cannot find country for .im\n",
      "2021-05-25 13:28:52 congratulations root[4882] INFO Cannot find country for .ec\n",
      "2021-05-25 13:28:53 congratulations root[4882] INFO Cannot find country for .ooo\n",
      "2021-05-25 13:28:53 congratulations root[4881] INFO Cannot find country for .ws\n",
      "2021-05-25 13:28:54 congratulations root[4881] INFO Cannot find country for .jo\n",
      "2021-05-25 13:28:54 congratulations poll-ooni[4881] WARNING Error looking up country code of IP None: argument 1 must be a string or ipaddress object\n",
      "2021-05-25 13:28:54 congratulations root[4881] INFO Cannot find country for .ws\n",
      "2021-05-25 13:28:58 congratulations poll-ooni[4883] WARNING Error looking up IP of hostname www.fgmnetwork.org: [Errno -2] Name or service not known\n",
      "2021-05-25 13:28:58 congratulations poll-ooni[4883] WARNING Error looking up country code of IP None: argument 1 must be a string or ipaddress object\n",
      "2021-05-25 13:28:58 congratulations poll-ooni[4884] WARNING Error looking up IP of hostname storylog.co: [Errno -2] Name or service not known\n",
      "2021-05-25 13:28:58 congratulations poll-ooni[4884] WARNING Error looking up country code of IP None: argument 1 must be a string or ipaddress object\n",
      "2021-05-25 13:28:58 congratulations poll-ooni[4881] WARNING Error looking up IP of hostname mcclgbt.com: [Errno -2] Name or service not known\n",
      "2021-05-25 13:28:58 congratulations poll-ooni[4881] WARNING Error looking up country code of IP None: argument 1 must be a string or ipaddress object\n",
      "2021-05-25 13:28:58 congratulations root[4881] INFO Cannot find country for .click\n",
      "2021-05-25 13:29:04 congratulations root[4883] INFO Cannot find country for .\n",
      "2021-05-25 13:29:13 congratulations poll-ooni[4882] WARNING Error looking up IP of hostname torrentvia.com: [Errno -2] Name or service not known\n",
      "2021-05-25 13:29:13 congratulations poll-ooni[4882] WARNING Error looking up country code of IP None: argument 1 must be a string or ipaddress object\n",
      "2021-05-25 13:29:14 congratulations poll-ooni[4883] WARNING Error looking up IP of hostname mastodon.host: [Errno -2] Name or service not known\n",
      "2021-05-25 13:29:14 congratulations poll-ooni[4883] WARNING Error looking up country code of IP None: argument 1 must be a string or ipaddress object\n"
     ]
    },
    {
     "name": "stderr",
     "output_type": "stream",
     "text": [
      "2021-05-25 13:29:15 congratulations poll-ooni[4881] WARNING Error looking up IP of hostname www.khilafah.com: [Errno -2] Name or service not known\n",
      "2021-05-25 13:29:15 congratulations poll-ooni[4881] WARNING Error looking up country code of IP None: argument 1 must be a string or ipaddress object\n",
      "2021-05-25 13:29:20 congratulations poll-ooni[4882] WARNING Error looking up IP of hostname www.interactworldwide.org: [Errno -2] Name or service not known\n",
      "2021-05-25 13:29:20 congratulations poll-ooni[4882] WARNING Error looking up country code of IP None: argument 1 must be a string or ipaddress object\n",
      "2021-05-25 13:29:20 congratulations poll-ooni[4883] WARNING Error looking up IP of hostname www.interactworldwide.org: [Errno -2] Name or service not known\n",
      "2021-05-25 13:29:20 congratulations poll-ooni[4883] WARNING Error looking up country code of IP None: argument 1 must be a string or ipaddress object\n",
      "2021-05-25 13:29:20 congratulations root[4882] INFO Cannot find country for .sc\n",
      "2021-05-25 13:29:22 congratulations poll-ooni[4883] WARNING Error looking up country code of IP None: argument 1 must be a string or ipaddress object\n",
      "2021-05-25 13:29:25 congratulations poll-ooni[4884] WARNING Error looking up IP of hostname xhamster.com: [Errno -2] Name or service not known\n",
      "2021-05-25 13:29:25 congratulations poll-ooni[4881] WARNING Error looking up IP of hostname intertran.tranexp.com: [Errno -2] Name or service not known\n",
      "2021-05-25 13:29:25 congratulations poll-ooni[4884] WARNING Error looking up country code of IP None: argument 1 must be a string or ipaddress object\n",
      "2021-05-25 13:29:25 congratulations poll-ooni[4881] WARNING Error looking up country code of IP None: argument 1 must be a string or ipaddress object\n",
      "2021-05-25 13:29:25 congratulations root[4884] INFO Cannot find country for .jo\n",
      "2021-05-25 13:29:26 congratulations root[4881] INFO Cannot find country for .ug\n",
      "2021-05-25 13:29:27 congratulations root[4884] INFO Cannot find country for .ws\n",
      "2021-05-25 13:29:27 congratulations root[4882] INFO Cannot find country for .sh\n",
      "2021-05-25 13:29:27 congratulations root[4882] INFO Cannot find country for .\n",
      "2021-05-25 13:29:27 congratulations root[4882] INFO Cannot find country for .\n",
      "2021-05-25 13:29:27 congratulations root[4882] INFO Cannot find country for .\n",
      "2021-05-25 13:29:27 congratulations root[4882] INFO Cannot find country for .\n",
      "2021-05-25 13:29:27 congratulations root[4882] INFO Cannot find country for .\n",
      "2021-05-25 13:29:28 congratulations poll-ooni[4883] WARNING Error looking up country code of IP None: argument 1 must be a string or ipaddress object\n",
      "2021-05-25 13:29:34 congratulations root[4882] INFO Cannot find country for .\n",
      "2021-05-25 13:29:34 congratulations root[4882] INFO Cannot find country for .\n",
      "2021-05-25 13:29:34 congratulations root[4882] INFO Cannot find country for .\n",
      "2021-05-25 13:29:34 congratulations poll-ooni[4882] WARNING Error looking up country code of IP None: argument 1 must be a string or ipaddress object\n",
      "2021-05-25 13:29:35 congratulations root[4882] INFO Cannot find country for .sx\n",
      "2021-05-25 13:29:37 congratulations poll-ooni[4882] WARNING Error looking up IP of hostname www.poker.com: [Errno -2] Name or service not known\n",
      "2021-05-25 13:29:37 congratulations poll-ooni[4882] WARNING Error looking up country code of IP None: argument 1 must be a string or ipaddress object\n",
      "2021-05-25 13:29:37 congratulations poll-ooni[4882] WARNING Error looking up country code of IP None: argument 1 must be a string or ipaddress object\n",
      "2021-05-25 13:29:37 congratulations poll-ooni[4881] WARNING Error looking up IP of hostname www.santaines.pb.gov.br: [Errno -2] Name or service not known\n",
      "2021-05-25 13:29:37 congratulations poll-ooni[4881] WARNING Error looking up country code of IP None: argument 1 must be a string or ipaddress object\n",
      "2021-05-25 13:29:37 congratulations poll-ooni[4881] WARNING Error looking up country code of IP None: argument 1 must be a string or ipaddress object\n",
      "2021-05-25 13:29:43 congratulations poll-ooni[4883] WARNING Error looking up IP of hostname www.learningpartnership.org: [Errno -2] Name or service not known\n",
      "2021-05-25 13:29:43 congratulations poll-ooni[4883] WARNING Error looking up country code of IP None: argument 1 must be a string or ipaddress object\n",
      "2021-05-25 13:29:45 congratulations poll-ooni[4883] WARNING Error looking up country code of IP None: argument 1 must be a string or ipaddress object\n",
      "2021-05-25 13:29:46 congratulations poll-ooni[4883] WARNING Error looking up IP of hostname www.poker.com: [Errno -2] Name or service not known\n",
      "2021-05-25 13:29:46 congratulations poll-ooni[4883] WARNING Error looking up country code of IP None: argument 1 must be a string or ipaddress object\n",
      "2021-05-25 13:29:48 congratulations poll-ooni[4884] WARNING Error looking up IP of hostname www.grandonline.com: [Errno -2] Name or service not known\n",
      "2021-05-25 13:29:48 congratulations poll-ooni[4884] WARNING Error looking up country code of IP None: argument 1 must be a string or ipaddress object\n",
      "2021-05-25 13:29:48 congratulations poll-ooni[4882] WARNING Error looking up IP of hostname www.mate1.com: [Errno -2] Name or service not known\n",
      "2021-05-25 13:29:48 congratulations poll-ooni[4881] WARNING Error looking up IP of hostname www.amnesty.org.hk: [Errno -2] Name or service not known\n",
      "2021-05-25 13:29:48 congratulations poll-ooni[4882] WARNING Error looking up country code of IP None: argument 1 must be a string or ipaddress object\n",
      "2021-05-25 13:29:48 congratulations poll-ooni[4881] WARNING Error looking up country code of IP None: argument 1 must be a string or ipaddress object\n",
      "2021-05-25 13:30:04 congratulations poll-ooni[4884] WARNING Error looking up IP of hostname www.lingerieatlarge.com: [Errno -2] Name or service not known\n",
      "2021-05-25 13:30:04 congratulations poll-ooni[4884] WARNING Error looking up country code of IP None: argument 1 must be a string or ipaddress object\n",
      "2021-05-25 13:30:04 congratulations poll-ooni[4881] WARNING Error looking up IP of hostname supchina.com: [Errno -2] Name or service not known\n",
      "2021-05-25 13:30:04 congratulations poll-ooni[4881] WARNING Error looking up country code of IP None: argument 1 must be a string or ipaddress object\n",
      "2021-05-25 13:30:05 congratulations poll-ooni[4881] WARNING Error looking up IP of hostname www.poker.com: [Errno -2] Name or service not known\n",
      "2021-05-25 13:30:05 congratulations poll-ooni[4881] WARNING Error looking up country code of IP None: argument 1 must be a string or ipaddress object\n",
      "2021-05-25 13:30:06 congratulations root[4881] INFO Cannot find country for .mobi\n",
      "2021-05-25 13:30:07 congratulations poll-ooni[4881] WARNING Error looking up country code of IP None: argument 1 must be a string or ipaddress object\n",
      "2021-05-25 13:30:09 congratulations poll-ooni[4884] WARNING Error looking up country code of IP None: argument 1 must be a string or ipaddress object\n",
      "2021-05-25 13:30:09 congratulations poll-ooni[4883] WARNING Error looking up IP of hostname mauropinheiro.blogspot.com: [Errno -2] Name or service not known\n",
      "2021-05-25 13:30:09 congratulations poll-ooni[4882] WARNING Error looking up IP of hostname www.albalqanews.net: [Errno -2] Name or service not known\n",
      "2021-05-25 13:30:09 congratulations poll-ooni[4883] WARNING Error looking up country code of IP None: argument 1 must be a string or ipaddress object\n",
      "2021-05-25 13:30:09 congratulations poll-ooni[4882] WARNING Error looking up country code of IP None: argument 1 must be a string or ipaddress object\n",
      "2021-05-25 13:30:14 congratulations poll-ooni[4883] WARNING Error looking up country code of IP None: argument 1 must be a string or ipaddress object\n",
      "2021-05-25 13:30:19 congratulations poll-ooni[4881] WARNING Error looking up IP of hostname www.fgmnetwork.org: [Errno -2] Name or service not known\n",
      "2021-05-25 13:30:19 congratulations poll-ooni[4881] WARNING Error looking up country code of IP None: argument 1 must be a string or ipaddress object\n",
      "2021-05-25 13:30:21 congratulations poll-ooni[4881] WARNING Error looking up country code of IP None: argument 1 must be a string or ipaddress object\n",
      "2021-05-25 13:30:21 congratulations poll-ooni[4881] WARNING Error looking up country code of IP None: argument 1 must be a string or ipaddress object\n"
     ]
    },
    {
     "name": "stderr",
     "output_type": "stream",
     "text": [
      "2021-05-25 13:30:24 congratulations poll-ooni[4882] WARNING Error looking up IP of hostname www.newnownext.com: [Errno -2] Name or service not known\n",
      "2021-05-25 13:30:24 congratulations poll-ooni[4884] WARNING Error looking up IP of hostname www.watchmyexgf.net: [Errno -2] Name or service not known\n",
      "2021-05-25 13:30:24 congratulations poll-ooni[4882] WARNING Error looking up country code of IP None: argument 1 must be a string or ipaddress object\n",
      "2021-05-25 13:30:24 congratulations poll-ooni[4884] WARNING Error looking up country code of IP None: argument 1 must be a string or ipaddress object\n",
      "2021-05-25 13:30:24 congratulations poll-ooni[4883] WARNING Error looking up IP of hostname www.gboysiam.com: [Errno -2] Name or service not known\n",
      "2021-05-25 13:30:24 congratulations poll-ooni[4883] WARNING Error looking up country code of IP None: argument 1 must be a string or ipaddress object\n",
      "2021-05-25 13:30:24 congratulations poll-ooni[4882] WARNING Error looking up country code of IP None: argument 1 must be a string or ipaddress object\n",
      "2021-05-25 13:30:24 congratulations poll-ooni[4883] WARNING Error looking up country code of IP None: argument 1 must be a string or ipaddress object\n",
      "2021-05-25 13:30:24 congratulations poll-ooni[4883] WARNING Error looking up country code of IP None: argument 1 must be a string or ipaddress object\n",
      "2021-05-25 13:30:24 congratulations poll-ooni[4882] WARNING Error looking up country code of IP None: argument 1 must be a string or ipaddress object\n",
      "2021-05-25 13:30:25 congratulations root[4884] INFO Cannot find country for .im\n",
      "2021-05-25 13:30:25 congratulations root[4884] INFO Cannot find country for .ps\n",
      "2021-05-25 13:30:25 congratulations root[4884] INFO Cannot find country for .cool\n",
      "2021-05-25 13:30:25 congratulations root[4884] INFO Cannot find country for .ooo\n",
      "2021-05-25 13:30:36 congratulations poll-ooni[4883] WARNING Error looking up IP of hostname coronavirus-map.com: [Errno -2] Name or service not known\n",
      "2021-05-25 13:30:36 congratulations poll-ooni[4882] WARNING Error looking up IP of hostname www.startmail.com: [Errno -2] Name or service not known\n",
      "2021-05-25 13:30:36 congratulations poll-ooni[4881] WARNING Error looking up IP of hostname www.gboysiam.com: [Errno -2] Name or service not known\n",
      "2021-05-25 13:30:36 congratulations poll-ooni[4881] WARNING Error looking up country code of IP None: argument 1 must be a string or ipaddress object\n",
      "2021-05-25 13:30:36 congratulations poll-ooni[4882] WARNING Error looking up country code of IP None: argument 1 must be a string or ipaddress object\n",
      "2021-05-25 13:30:36 congratulations poll-ooni[4883] WARNING Error looking up country code of IP None: argument 1 must be a string or ipaddress object\n",
      "2021-05-25 13:30:36 congratulations poll-ooni[4884] WARNING Error looking up IP of hostname www.on-instant.com: [Errno -2] Name or service not known\n",
      "2021-05-25 13:30:36 congratulations poll-ooni[4884] WARNING Error looking up country code of IP None: argument 1 must be a string or ipaddress object\n",
      "2021-05-25 13:30:36 congratulations poll-ooni[4882] WARNING Error looking up country code of IP None: argument 1 must be a string or ipaddress object\n",
      "2021-05-25 13:30:36 congratulations poll-ooni[4883] WARNING Error looking up IP of hostname nnm-club.me: [Errno -2] Name or service not known\n",
      "2021-05-25 13:30:36 congratulations poll-ooni[4883] WARNING Error looking up country code of IP None: argument 1 must be a string or ipaddress object\n",
      "2021-05-25 13:30:37 congratulations poll-ooni[4882] WARNING Error looking up country code of IP None: argument 1 must be a string or ipaddress object\n",
      "2021-05-25 13:30:37 congratulations root[4884] INFO Cannot find country for .uy\n",
      "2021-05-25 13:30:48 congratulations poll-ooni[4884] WARNING Error looking up IP of hostname spys.ru: [Errno -2] Name or service not known\n",
      "2021-05-25 13:30:48 congratulations poll-ooni[4884] WARNING Error looking up country code of IP None: argument 1 must be a string or ipaddress object\n",
      "2021-05-25 13:30:48 congratulations poll-ooni[4882] WARNING Error looking up IP of hostname www.fgmnetwork.org: [Errno -2] Name or service not known\n",
      "2021-05-25 13:30:48 congratulations poll-ooni[4881] WARNING Error looking up IP of hostname www.doovi.com: [Errno -2] Name or service not known\n",
      "2021-05-25 13:30:48 congratulations poll-ooni[4883] WARNING Error looking up IP of hostname www.hambastegi.org: [Errno -2] Name or service not known\n",
      "2021-05-25 13:30:48 congratulations poll-ooni[4881] WARNING Error looking up country code of IP None: argument 1 must be a string or ipaddress object\n",
      "2021-05-25 13:30:48 congratulations poll-ooni[4882] WARNING Error looking up country code of IP None: argument 1 must be a string or ipaddress object\n",
      "2021-05-25 13:30:48 congratulations poll-ooni[4883] WARNING Error looking up country code of IP None: argument 1 must be a string or ipaddress object\n",
      "2021-05-25 13:30:48 congratulations poll-ooni[4881] WARNING Error looking up country code of IP None: argument 1 must be a string or ipaddress object\n",
      "2021-05-25 13:30:48 congratulations poll-ooni[4883] WARNING Error looking up country code of IP None: argument 1 must be a string or ipaddress object\n",
      "2021-05-25 13:30:48 congratulations root[4884] INFO Cannot find country for .sx\n",
      "2021-05-25 13:30:48 congratulations root[4883] INFO Cannot find country for .im\n",
      "2021-05-25 13:30:49 congratulations poll-ooni[4883] WARNING Error looking up IP of hostname www.poker.com: [Errno -2] Name or service not known\n",
      "2021-05-25 13:30:49 congratulations poll-ooni[4883] WARNING Error looking up country code of IP None: argument 1 must be a string or ipaddress object\n",
      "2021-05-25 13:31:04 congratulations poll-ooni[4883] WARNING Error looking up IP of hostname doh.centraleu.pi-dns.com: [Errno -2] Name or service not known\n",
      "2021-05-25 13:31:04 congratulations poll-ooni[4882] WARNING Error looking up IP of hostname www.efindlove.com: [Errno -2] Name or service not known\n",
      "2021-05-25 13:31:04 congratulations poll-ooni[4883] WARNING Error looking up country code of IP None: argument 1 must be a string or ipaddress object\n",
      "2021-05-25 13:31:04 congratulations poll-ooni[4882] WARNING Error looking up country code of IP None: argument 1 must be a string or ipaddress object\n",
      "2021-05-25 13:31:04 congratulations poll-ooni[4881] WARNING Error looking up IP of hostname orientaldaily.on.cc: [Errno -2] Name or service not known\n",
      "2021-05-25 13:31:04 congratulations poll-ooni[4881] WARNING Error looking up country code of IP None: argument 1 must be a string or ipaddress object\n",
      "2021-05-25 13:31:09 congratulations poll-ooni[4884] WARNING Error looking up IP of hostname gaysdedireita.blogspot.com: [Errno -2] Name or service not known\n",
      "2021-05-25 13:31:09 congratulations poll-ooni[4884] WARNING Error looking up country code of IP None: argument 1 must be a string or ipaddress object\n",
      "2021-05-25 13:31:14 congratulations poll-ooni[4883] WARNING Error looking up IP of hostname queerteam.blogspot.com: [Errno -2] Name or service not known\n",
      "2021-05-25 13:31:14 congratulations poll-ooni[4884] WARNING Error looking up IP of hostname foreignpolicy.com: [Errno -2] Name or service not known\n",
      "2021-05-25 13:31:14 congratulations poll-ooni[4881] WARNING Error looking up IP of hostname www.askmoses.com: [Errno -2] Name or service not known\n",
      "2021-05-25 13:31:14 congratulations poll-ooni[4883] WARNING Error looking up country code of IP None: argument 1 must be a string or ipaddress object\n",
      "2021-05-25 13:31:14 congratulations poll-ooni[4884] WARNING Error looking up country code of IP None: argument 1 must be a string or ipaddress object\n",
      "2021-05-25 13:31:14 congratulations poll-ooni[4881] WARNING Error looking up country code of IP None: argument 1 must be a string or ipaddress object\n",
      "2021-05-25 13:31:14 congratulations poll-ooni[4882] WARNING Error looking up IP of hostname www.reddit.com: [Errno -2] Name or service not known\n",
      "2021-05-25 13:31:14 congratulations root[4884] INFO Cannot find country for .\n",
      "2021-05-25 13:31:14 congratulations poll-ooni[4882] WARNING Error looking up country code of IP None: argument 1 must be a string or ipaddress object\n",
      "2021-05-25 13:31:14 congratulations root[4884] INFO Cannot find country for .\n",
      "2021-05-25 13:31:14 congratulations root[4884] INFO Cannot find country for .social\n"
     ]
    },
    {
     "name": "stderr",
     "output_type": "stream",
     "text": [
      "2021-05-25 13:31:14 congratulations poll-ooni[4882] WARNING Error looking up country code of IP None: argument 1 must be a string or ipaddress object\n",
      "2021-05-25 13:31:15 congratulations poll-ooni[4884] WARNING Error looking up country code of IP None: argument 1 must be a string or ipaddress object\n",
      "2021-05-25 13:31:15 congratulations poll-ooni[4882] WARNING Error looking up country code of IP None: argument 1 must be a string or ipaddress object\n",
      "2021-05-25 13:31:15 congratulations poll-ooni[4883] WARNING Error looking up country code of IP None: argument 1 must be a string or ipaddress object\n",
      "2021-05-25 13:31:15 congratulations poll-ooni[4883] WARNING Error looking up country code of IP None: argument 1 must be a string or ipaddress object\n",
      "2021-05-25 13:31:15 congratulations poll-ooni[4883] WARNING Error looking up IP of hostname www.poker.com: [Errno -2] Name or service not known\n",
      "2021-05-25 13:31:15 congratulations poll-ooni[4883] WARNING Error looking up country code of IP None: argument 1 must be a string or ipaddress object\n",
      "2021-05-25 13:31:16 congratulations poll-ooni[4884] WARNING Error looking up country code of IP None: argument 1 must be a string or ipaddress object\n",
      "2021-05-25 13:31:16 congratulations root[4882] INFO Cannot find country for .onl\n",
      "2021-05-25 13:31:16 congratulations root[4882] INFO Cannot find country for .blog\n",
      "2021-05-25 13:31:16 congratulations root[4882] INFO Cannot find country for .lb\n",
      "2021-05-25 13:31:17 congratulations poll-ooni[4884] WARNING Error looking up country code of IP None: argument 1 must be a string or ipaddress object\n",
      "2021-05-25 13:31:17 congratulations root[4884] INFO Cannot find country for .\n",
      "2021-05-25 13:31:17 congratulations poll-ooni[4884] WARNING Error looking up IP of hostname www.poker.com: [Errno -2] Name or service not known\n",
      "2021-05-25 13:31:17 congratulations poll-ooni[4884] WARNING Error looking up country code of IP None: argument 1 must be a string or ipaddress object\n",
      "2021-05-25 13:31:17 congratulations root[4884] INFO Cannot find country for .\n",
      "2021-05-25 13:31:24 congratulations poll-ooni[4882] WARNING Error looking up country code of IP None: argument 1 must be a string or ipaddress object\n",
      "2021-05-25 13:31:24 congratulations poll-ooni[4882] WARNING Error looking up country code of IP None: argument 1 must be a string or ipaddress object\n",
      "2021-05-25 13:31:24 congratulations poll-ooni[4882] WARNING Error looking up country code of IP None: argument 1 must be a string or ipaddress object\n",
      "2021-05-25 13:31:25 congratulations poll-ooni[4882] WARNING Error looking up country code of IP None: argument 1 must be a string or ipaddress object\n",
      "2021-05-25 13:31:26 congratulations poll-ooni[4882] WARNING Error looking up country code of IP None: argument 1 must be a string or ipaddress object\n",
      "2021-05-25 13:31:27 congratulations root[4882] INFO Cannot find country for .ve\n",
      "2021-05-25 13:31:27 congratulations root[4882] INFO Cannot find country for .ve\n",
      "2021-05-25 13:31:27 congratulations poll-ooni[4884] WARNING Error looking up IP of hostname www.jsf.mil: [Errno -2] Name or service not known\n",
      "2021-05-25 13:31:27 congratulations poll-ooni[4884] WARNING Error looking up country code of IP None: argument 1 must be a string or ipaddress object\n",
      "2021-05-25 13:31:27 congratulations poll-ooni[4881] WARNING Error looking up IP of hostname www.sportingbet.com: [Errno -2] Name or service not known\n",
      "2021-05-25 13:31:27 congratulations poll-ooni[4881] WARNING Error looking up country code of IP None: argument 1 must be a string or ipaddress object\n",
      "2021-05-25 13:31:27 congratulations root[4881] INFO Cannot find country for .\n",
      "2021-05-25 13:31:28 congratulations poll-ooni[4882] WARNING Error looking up IP of hostname www.poker.com: [Errno -2] Name or service not known\n",
      "2021-05-25 13:31:28 congratulations poll-ooni[4882] WARNING Error looking up country code of IP None: argument 1 must be a string or ipaddress object\n",
      "2021-05-25 13:31:28 congratulations root[4881] INFO Cannot find country for .social\n",
      "2021-05-25 13:31:28 congratulations root[4881] INFO Cannot find country for .ve\n",
      "2021-05-25 13:31:28 congratulations poll-ooni[4881] WARNING Error looking up country code of IP None: argument 1 must be a string or ipaddress object\n",
      "2021-05-25 13:31:32 congratulations poll-ooni[4883] WARNING Error looking up IP of hostname www.diariodopovo.com.br: [Errno -2] Name or service not known\n",
      "2021-05-25 13:31:32 congratulations poll-ooni[4883] WARNING Error looking up country code of IP None: argument 1 must be a string or ipaddress object\n",
      "2021-05-25 13:31:32 congratulations poll-ooni[4883] WARNING Error looking up country code of IP None: argument 1 must be a string or ipaddress object\n",
      "2021-05-25 13:31:33 congratulations poll-ooni[4883] WARNING Error looking up country code of IP None: argument 1 must be a string or ipaddress object\n",
      "2021-05-25 13:31:33 congratulations root[4882] INFO Cannot find country for .ve\n",
      "2021-05-25 13:31:33 congratulations poll-ooni[4883] WARNING Error looking up country code of IP None: argument 1 must be a string or ipaddress object\n",
      "2021-05-25 13:31:43 congratulations poll-ooni[4884] WARNING Error looking up IP of hostname www.fgmnetwork.org: [Errno -2] Name or service not known\n",
      "2021-05-25 13:31:43 congratulations poll-ooni[4884] WARNING Error looking up country code of IP None: argument 1 must be a string or ipaddress object\n",
      "2021-05-25 13:31:43 congratulations poll-ooni[4881] WARNING Error looking up IP of hostname www.aporrea.org: [Errno -2] Name or service not known\n",
      "2021-05-25 13:31:43 congratulations poll-ooni[4883] WARNING Error looking up IP of hostname www.af.mil: [Errno -2] Name or service not known\n",
      "2021-05-25 13:31:43 congratulations poll-ooni[4883] WARNING Error looking up country code of IP None: argument 1 must be a string or ipaddress object\n",
      "2021-05-25 13:31:43 congratulations poll-ooni[4881] WARNING Error looking up country code of IP None: argument 1 must be a string or ipaddress object\n",
      "2021-05-25 13:31:43 congratulations poll-ooni[4882] WARNING Error looking up IP of hostname adilsonsantosfotografo.blogspot.com: [Errno -2] Name or service not known\n",
      "2021-05-25 13:31:43 congratulations poll-ooni[4882] WARNING Error looking up country code of IP None: argument 1 must be a string or ipaddress object\n",
      "2021-05-25 13:31:43 congratulations poll-ooni[4883] WARNING Error looking up country code of IP None: argument 1 must be a string or ipaddress object\n",
      "2021-05-25 13:31:43 congratulations root[4882] INFO Cannot find country for .xn--p1ai\n",
      "2021-05-25 13:31:43 congratulations poll-ooni[4882] WARNING Error looking up IP of hostname www.poker.com: [Errno -2] Name or service not known\n",
      "2021-05-25 13:31:43 congratulations poll-ooni[4882] WARNING Error looking up country code of IP None: argument 1 must be a string or ipaddress object\n",
      "2021-05-25 13:31:43 congratulations poll-ooni[4883] WARNING Error looking up country code of IP None: argument 1 must be a string or ipaddress object\n",
      "2021-05-25 13:31:44 congratulations root[4883] INFO Cannot find country for .mobi\n",
      "2021-05-25 13:31:44 congratulations root[4881] INFO Cannot find country for .mobi\n",
      "2021-05-25 13:31:44 congratulations root[4884] INFO Cannot find country for .lb\n",
      "2021-05-25 13:31:44 congratulations root[4882] INFO Cannot find country for .ve\n",
      "2021-05-25 13:31:44 congratulations root[4883] INFO Cannot find country for .ve\n",
      "2021-05-25 13:31:44 congratulations poll-ooni[4881] WARNING Error looking up IP of hostname www.poker.com: [Errno -2] Name or service not known\n",
      "2021-05-25 13:31:44 congratulations poll-ooni[4881] WARNING Error looking up country code of IP None: argument 1 must be a string or ipaddress object\n",
      "2021-05-25 13:31:44 congratulations poll-ooni[4883] WARNING Error looking up country code of IP None: argument 1 must be a string or ipaddress object\n",
      "2021-05-25 13:31:45 congratulations poll-ooni[4883] WARNING Error looking up country code of IP None: argument 1 must be a string or ipaddress object\n",
      "2021-05-25 13:31:45 congratulations root[4883] INFO Cannot find country for .xn--p1ai\n",
      "2021-05-25 13:31:46 congratulations poll-ooni[4881] WARNING Error looking up country code of IP None: argument 1 must be a string or ipaddress object\n",
      "2021-05-25 13:32:02 congratulations poll-ooni[4882] WARNING Error looking up IP of hostname bluesystem.info: [Errno -2] Name or service not known\n"
     ]
    },
    {
     "name": "stderr",
     "output_type": "stream",
     "text": [
      "2021-05-25 13:32:02 congratulations poll-ooni[4884] WARNING Error looking up IP of hostname zawaghalal.com: [Errno -2] Name or service not known\n",
      "2021-05-25 13:32:02 congratulations poll-ooni[4882] WARNING Error looking up country code of IP None: argument 1 must be a string or ipaddress object\n",
      "2021-05-25 13:32:02 congratulations poll-ooni[4884] WARNING Error looking up country code of IP None: argument 1 must be a string or ipaddress object\n",
      "2021-05-25 13:32:02 congratulations poll-ooni[4881] WARNING Error looking up IP of hostname tgp.babesnetwork.com: [Errno -2] Name or service not known\n",
      "2021-05-25 13:32:02 congratulations poll-ooni[4881] WARNING Error looking up country code of IP None: argument 1 must be a string or ipaddress object\n",
      "2021-05-25 13:32:02 congratulations poll-ooni[4883] WARNING Error looking up IP of hostname www.judaism.com: [Errno -2] Name or service not known\n",
      "2021-05-25 13:32:02 congratulations poll-ooni[4883] WARNING Error looking up country code of IP None: argument 1 must be a string or ipaddress object\n",
      "2021-05-25 13:32:02 congratulations poll-ooni[4884] WARNING Error looking up country code of IP None: argument 1 must be a string or ipaddress object\n",
      "2021-05-25 13:32:02 congratulations poll-ooni[4883] WARNING Error looking up country code of IP None: argument 1 must be a string or ipaddress object\n",
      "2021-05-25 13:32:02 congratulations poll-ooni[4884] WARNING Error looking up country code of IP None: argument 1 must be a string or ipaddress object\n",
      "2021-05-25 13:32:02 congratulations poll-ooni[4882] WARNING Error looking up country code of IP None: argument 1 must be a string or ipaddress object\n",
      "2021-05-25 13:32:02 congratulations poll-ooni[4882] WARNING Error looking up country code of IP None: argument 1 must be a string or ipaddress object\n",
      "2021-05-25 13:32:12 congratulations poll-ooni[4882] WARNING Error looking up IP of hostname www.aport.ru: [Errno -2] Name or service not known\n",
      "2021-05-25 13:32:12 congratulations poll-ooni[4883] WARNING Error looking up IP of hostname www.hightail.com: [Errno -2] Name or service not known\n",
      "2021-05-25 13:32:12 congratulations poll-ooni[4881] WARNING Error looking up IP of hostname cloacanews.blogspot.com: [Errno -2] Name or service not known\n",
      "2021-05-25 13:32:12 congratulations poll-ooni[4882] WARNING Error looking up country code of IP None: argument 1 must be a string or ipaddress object\n",
      "2021-05-25 13:32:12 congratulations poll-ooni[4884] WARNING Error looking up IP of hostname guardster.com: [Errno -2] Name or service not known\n",
      "2021-05-25 13:32:12 congratulations poll-ooni[4881] WARNING Error looking up country code of IP None: argument 1 must be a string or ipaddress object\n",
      "2021-05-25 13:32:12 congratulations poll-ooni[4884] WARNING Error looking up country code of IP None: argument 1 must be a string or ipaddress object\n",
      "2021-05-25 13:32:12 congratulations poll-ooni[4883] WARNING Error looking up country code of IP None: argument 1 must be a string or ipaddress object\n",
      "2021-05-25 13:32:12 congratulations poll-ooni[4883] WARNING Error looking up country code of IP None: argument 1 must be a string or ipaddress object\n",
      "2021-05-25 13:32:12 congratulations root[4884] INFO Cannot find country for .mobi\n",
      "2021-05-25 13:32:12 congratulations root[4884] INFO Cannot find country for .\n",
      "2021-05-25 13:32:12 congratulations root[4883] INFO Cannot find country for .xn--p1ai\n",
      "2021-05-25 13:32:12 congratulations root[4884] INFO Cannot find country for .\n",
      "2021-05-25 13:32:23 congratulations poll-ooni[4881] WARNING Error looking up IP of hostname www.peoplesproxy.com: [Errno -2] Name or service not known\n",
      "2021-05-25 13:32:23 congratulations poll-ooni[4884] WARNING Error looking up IP of hostname www.fgmnetwork.org: [Errno -2] Name or service not known\n",
      "2021-05-25 13:32:23 congratulations poll-ooni[4884] WARNING Error looking up country code of IP None: argument 1 must be a string or ipaddress object\n",
      "2021-05-25 13:32:23 congratulations poll-ooni[4883] WARNING Error looking up IP of hostname phynatura.blogspot.com: [Errno -2] Name or service not known\n",
      "2021-05-25 13:32:23 congratulations poll-ooni[4882] WARNING Error looking up IP of hostname fergana.news: [Errno -2] Name or service not known\n",
      "2021-05-25 13:32:23 congratulations poll-ooni[4883] WARNING Error looking up country code of IP None: argument 1 must be a string or ipaddress object\n",
      "2021-05-25 13:32:23 congratulations poll-ooni[4882] WARNING Error looking up country code of IP None: argument 1 must be a string or ipaddress object\n",
      "2021-05-25 13:32:23 congratulations poll-ooni[4881] WARNING Error looking up country code of IP None: argument 1 must be a string or ipaddress object\n",
      "2021-05-25 13:32:23 congratulations root[4881] INFO Cannot find country for .social\n",
      "2021-05-25 13:32:24 congratulations root[4882] INFO Cannot find country for .xn--p1ai\n",
      "2021-05-25 13:32:24 congratulations root[4881] INFO Cannot find country for .\n",
      "2021-05-25 13:32:24 congratulations poll-ooni[4883] WARNING Error looking up country code of IP None: argument 1 must be a string or ipaddress object\n",
      "2021-05-25 13:32:25 congratulations root[4884] INFO Cannot find country for .zw\n",
      "2021-05-25 13:32:35 congratulations poll-ooni[4881] WARNING Error looking up IP of hostname www.resilio.com: [Errno -2] Name or service not known\n",
      "2021-05-25 13:32:35 congratulations poll-ooni[4883] WARNING Error looking up IP of hostname www.serrabranca.pb.gov.br: [Errno -2] Name or service not known\n",
      "2021-05-25 13:32:35 congratulations poll-ooni[4882] WARNING Error looking up IP of hostname yazdfarda.com: [Errno -2] Name or service not known\n",
      "2021-05-25 13:32:35 congratulations poll-ooni[4884] WARNING Error looking up IP of hostname www.mailinator.com: [Errno -2] Name or service not known\n",
      "2021-05-25 13:32:35 congratulations poll-ooni[4884] WARNING Error looking up country code of IP None: argument 1 must be a string or ipaddress object\n",
      "2021-05-25 13:32:35 congratulations poll-ooni[4882] WARNING Error looking up country code of IP None: argument 1 must be a string or ipaddress object\n",
      "2021-05-25 13:32:35 congratulations poll-ooni[4881] WARNING Error looking up country code of IP None: argument 1 must be a string or ipaddress object\n",
      "2021-05-25 13:32:35 congratulations poll-ooni[4883] WARNING Error looking up country code of IP None: argument 1 must be a string or ipaddress object\n",
      "2021-05-25 13:32:35 congratulations root[4883] INFO Cannot find country for .ws\n",
      "2021-05-25 13:32:36 congratulations poll-ooni[4883] WARNING Error looking up country code of IP None: argument 1 must be a string or ipaddress object\n",
      "2021-05-25 13:32:36 congratulations poll-ooni[4881] WARNING Error looking up IP of hostname www.poker.com: [Errno -2] Name or service not known\n",
      "2021-05-25 13:32:36 congratulations poll-ooni[4881] WARNING Error looking up country code of IP None: argument 1 must be a string or ipaddress object\n",
      "2021-05-25 13:32:37 congratulations root[4881] INFO Cannot find country for .ve\n",
      "2021-05-25 13:32:37 congratulations root[4883] INFO Cannot find country for .zw\n",
      "2021-05-25 13:32:37 congratulations poll-ooni[4883] WARNING Error looking up country code of IP None: argument 1 must be a string or ipaddress object\n",
      "2021-05-25 13:32:38 congratulations root[4884] INFO Cannot find country for .ec\n",
      "2021-05-25 13:32:39 congratulations poll-ooni[4881] WARNING Error looking up IP of hostname www.poker.com: [Errno -2] Name or service not known\n",
      "2021-05-25 13:32:39 congratulations poll-ooni[4881] WARNING Error looking up country code of IP None: argument 1 must be a string or ipaddress object\n",
      "2021-05-25 13:32:40 congratulations root[4884] INFO Cannot find country for .ve\n",
      "2021-05-25 13:32:40 congratulations poll-ooni[4881] WARNING Error looking up country code of IP None: argument 1 must be a string or ipaddress object\n",
      "2021-05-25 13:32:41 congratulations root[4884] INFO Cannot find country for .ve\n",
      "2021-05-25 13:32:41 congratulations root[4884] INFO Cannot find country for .ec\n",
      "2021-05-25 13:32:41 congratulations poll-ooni[4884] WARNING Error looking up IP of hostname b.growerz.online: [Errno -2] Name or service not known\n",
      "2021-05-25 13:32:41 congratulations poll-ooni[4884] WARNING Error looking up country code of IP None: argument 1 must be a string or ipaddress object\n"
     ]
    },
    {
     "name": "stderr",
     "output_type": "stream",
     "text": [
      "2021-05-25 13:32:42 congratulations root[4884] INFO Cannot find country for .ve\n",
      "2021-05-25 13:32:42 congratulations poll-ooni[4884] WARNING Error looking up country code of IP None: argument 1 must be a string or ipaddress object\n",
      "2021-05-25 13:32:42 congratulations poll-ooni[4884] WARNING Error looking up IP of hostname ov.openrussia.org: [Errno -2] Name or service not known\n",
      "2021-05-25 13:32:42 congratulations poll-ooni[4884] WARNING Error looking up country code of IP None: argument 1 must be a string or ipaddress object\n",
      "2021-05-25 13:32:42 congratulations root[4884] INFO Cannot find country for .team\n",
      "2021-05-25 13:32:43 congratulations poll-ooni[4884] WARNING Error looking up IP of hostname legalrc.com: [Errno -2] Name or service not known\n",
      "2021-05-25 13:32:43 congratulations poll-ooni[4884] WARNING Error looking up country code of IP None: argument 1 must be a string or ipaddress object\n",
      "2021-05-25 13:32:43 congratulations poll-ooni[4884] WARNING Error looking up IP of hostname goldfishka66.com: [Errno -2] Name or service not known\n",
      "2021-05-25 13:32:43 congratulations poll-ooni[4884] WARNING Error looking up country code of IP None: argument 1 must be a string or ipaddress object\n",
      "2021-05-25 13:32:44 congratulations root[4884] INFO Cannot find country for .ec\n",
      "2021-05-25 13:32:44 congratulations poll-ooni[4884] WARNING Error looking up IP of hostname www.national-socialist.tk: [Errno -2] Name or service not known\n",
      "2021-05-25 13:32:44 congratulations poll-ooni[4884] WARNING Error looking up country code of IP None: argument 1 must be a string or ipaddress object\n",
      "2021-05-25 13:32:44 congratulations poll-ooni[4884] WARNING Error looking up IP of hostname www.gulag.ipvnews.org: [Errno -2] Name or service not known\n",
      "2021-05-25 13:32:44 congratulations poll-ooni[4884] WARNING Error looking up country code of IP None: argument 1 must be a string or ipaddress object\n",
      "2021-05-25 13:32:53 congratulations poll-ooni[4884] WARNING Error looking up country code of IP None: argument 1 must be a string or ipaddress object\n"
     ]
    }
   ],
   "source": [
    "ooni_web_connectivity_tests = ingest_api_measurements(ms)"
   ]
  },
  {
   "cell_type": "code",
   "execution_count": 108,
   "metadata": {},
   "outputs": [],
   "source": [
    "def write_to_db (cur: cursor, conn: connection, connectivity_tests: List[OONIWebConnectivityTest]) -> None:\n",
    "    for t in connectivity_tests:\n",
    "        t.write_to_db(cur, conn, commit=False) \n",
    "    conn.commit()\n"
   ]
  },
  {
   "cell_type": "code",
   "execution_count": null,
   "metadata": {},
   "outputs": [],
   "source": [
    "write_to_db(my_cursor, my_connection, ooni_web_connectivity_tests)"
   ]
  },
  {
   "cell_type": "markdown",
   "metadata": {},
   "source": [
    "# Tying it all together"
   ]
  },
  {
   "cell_type": "code",
   "execution_count": 114,
   "metadata": {},
   "outputs": [],
   "source": [
    "def scrape (cur: cursor, conn: connection) -> None:\n",
    "    t = get_latest_reading_time(cur)\n",
    "    ms = query_measurements_after(t)\n",
    "    ingested = ingest_api_measurements(ms)\n",
    "    return write_to_db(cur, conn, ingested)"
   ]
  },
  {
   "cell_type": "code",
   "execution_count": null,
   "metadata": {},
   "outputs": [
    {
     "name": "stderr",
     "output_type": "stream",
     "text": [
      "2021-05-25 13:47:02 congratulations urllib3.connectionpool[4205] DEBUG Starting new HTTPS connection (1): api.ooni.io:443\n",
      "2021-05-25 13:47:03 congratulations urllib3.connectionpool[4205] DEBUG https://api.ooni.io:443 \"GET /api/v1/measurements?test_name=web_connectivity&anomaly=true&order_by=test_start_time&limit=1000&since=2021-05-25T13:19:18 HTTP/1.1\" 200 823748\n",
      "2021-05-25 13:47:07 congratulations urllib3.connectionpool[4205] DEBUG Starting new HTTPS connection (1): api.ooni.io:443\n"
     ]
    },
    {
     "name": "stdout",
     "output_type": "stream",
     "text": [
      "next URL measurements?test_name=web_connectivity&anomaly=true&order_by=test_start_time&limit=1000&since=2021-05-25T13%3A19%3A18&offset=1000\n"
     ]
    },
    {
     "name": "stderr",
     "output_type": "stream",
     "text": [
      "2021-05-25 13:47:08 congratulations urllib3.connectionpool[4205] DEBUG https://api.ooni.io:443 \"GET /api/v1/measurements?test_name=web_connectivity&anomaly=true&order_by=test_start_time&limit=1000&since=2021-05-25T13%3A19%3A18&offset=1000 HTTP/1.1\" 200 828261\n",
      "2021-05-25 13:47:12 congratulations urllib3.connectionpool[4205] DEBUG Starting new HTTPS connection (1): api.ooni.io:443\n"
     ]
    },
    {
     "name": "stdout",
     "output_type": "stream",
     "text": [
      "next URL measurements?test_name=web_connectivity&anomaly=true&order_by=test_start_time&limit=1000&since=2021-05-25T13%3A19%3A18&offset=2000\n"
     ]
    },
    {
     "name": "stderr",
     "output_type": "stream",
     "text": [
      "2021-05-25 13:47:13 congratulations urllib3.connectionpool[4205] DEBUG https://api.ooni.io:443 \"GET /api/v1/measurements?test_name=web_connectivity&anomaly=true&order_by=test_start_time&limit=1000&since=2021-05-25T13%3A19%3A18&offset=2000 HTTP/1.1\" 200 830246\n",
      "2021-05-25 13:47:17 congratulations urllib3.connectionpool[4205] DEBUG Starting new HTTPS connection (1): api.ooni.io:443\n"
     ]
    },
    {
     "name": "stdout",
     "output_type": "stream",
     "text": [
      "next URL measurements?test_name=web_connectivity&anomaly=true&order_by=test_start_time&limit=1000&since=2021-05-25T13%3A19%3A18&offset=3000\n"
     ]
    },
    {
     "name": "stderr",
     "output_type": "stream",
     "text": [
      "2021-05-25 13:47:18 congratulations urllib3.connectionpool[4205] DEBUG https://api.ooni.io:443 \"GET /api/v1/measurements?test_name=web_connectivity&anomaly=true&order_by=test_start_time&limit=1000&since=2021-05-25T13%3A19%3A18&offset=3000 HTTP/1.1\" 200 179929\n",
      "2021-05-25 13:47:19 congratulations root[7695] INFO Cannot find country for .va\n",
      "2021-05-25 13:47:19 congratulations root[7695] INFO Cannot find country for .va\n",
      "2021-05-25 13:47:20 congratulations poll-ooni[7694] WARNING Error looking up country code of IP None: argument 1 must be a string or ipaddress object\n",
      "2021-05-25 13:47:20 congratulations poll-ooni[7696] WARNING Error looking up country code of IP None: argument 1 must be a string or ipaddress object\n",
      "2021-05-25 13:47:21 congratulations poll-ooni[7695] WARNING Error looking up country code of IP None: argument 1 must be a string or ipaddress object\n",
      "2021-05-25 13:47:21 congratulations root[7693] INFO Cannot find country for .love\n",
      "2021-05-25 13:47:21 congratulations poll-ooni[7693] WARNING Error looking up country code of IP None: argument 1 must be a string or ipaddress object\n",
      "2021-05-25 13:47:21 congratulations poll-ooni[7696] WARNING Error looking up country code of IP 0.0.0.0: The address 0.0.0.0 is not in the database.\n",
      "2021-05-25 13:47:21 congratulations poll-ooni[7694] WARNING Error looking up country code of IP None: argument 1 must be a string or ipaddress object\n",
      "2021-05-25 13:47:22 congratulations root[7694] INFO Cannot find country for .ws\n",
      "2021-05-25 13:47:22 congratulations poll-ooni[7694] WARNING Error looking up country code of IP None: argument 1 must be a string or ipaddress object\n",
      "2021-05-25 13:47:32 congratulations poll-ooni[7694] WARNING Error looking up IP of hostname www.anonymizer.ru: [Errno -2] Name or service not known\n",
      "2021-05-25 13:47:32 congratulations poll-ooni[7694] WARNING Error looking up country code of IP None: argument 1 must be a string or ipaddress object\n",
      "2021-05-25 13:47:37 congratulations poll-ooni[7695] WARNING Error looking up IP of hostname www.talafone.com: [Errno -2] Name or service not known\n",
      "2021-05-25 13:47:37 congratulations poll-ooni[7695] WARNING Error looking up country code of IP None: argument 1 must be a string or ipaddress object\n",
      "2021-05-25 13:47:42 congratulations poll-ooni[7696] WARNING Error looking up IP of hostname www.lemonde.fr: [Errno -2] Name or service not known\n",
      "2021-05-25 13:47:42 congratulations poll-ooni[7696] WARNING Error looking up country code of IP None: argument 1 must be a string or ipaddress object\n",
      "2021-05-25 13:47:42 congratulations poll-ooni[7696] WARNING Error looking up country code of IP None: argument 1 must be a string or ipaddress object\n",
      "2021-05-25 13:47:43 congratulations root[7696] INFO Cannot find country for .sx\n",
      "2021-05-25 13:47:47 congratulations poll-ooni[7693] WARNING Error looking up IP of hostname www.breastenlargementmagazine.com: [Errno -2] Name or service not known\n",
      "2021-05-25 13:47:47 congratulations poll-ooni[7694] WARNING Error looking up IP of hostname www.collegehumor.com: [Errno -2] Name or service not known\n",
      "2021-05-25 13:47:47 congratulations poll-ooni[7693] WARNING Error looking up country code of IP None: argument 1 must be a string or ipaddress object\n",
      "2021-05-25 13:47:47 congratulations poll-ooni[7694] WARNING Error looking up country code of IP None: argument 1 must be a string or ipaddress object\n",
      "2021-05-25 13:47:52 congratulations poll-ooni[7696] WARNING Error looking up IP of hostname www.torrentvia.com: [Errno -2] Name or service not known\n",
      "2021-05-25 13:47:52 congratulations poll-ooni[7695] WARNING Error looking up IP of hostname www.ifeminists.com: [Errno -2] Name or service not known\n",
      "2021-05-25 13:47:52 congratulations poll-ooni[7696] WARNING Error looking up country code of IP None: argument 1 must be a string or ipaddress object\n",
      "2021-05-25 13:47:52 congratulations poll-ooni[7695] WARNING Error looking up country code of IP None: argument 1 must be a string or ipaddress object\n",
      "2021-05-25 13:47:53 congratulations root[7696] INFO Cannot find country for .ws\n",
      "2021-05-25 13:48:04 congratulations poll-ooni[7693] WARNING Error looking up IP of hostname www.globalr2p.org: [Errno -2] Name or service not known\n",
      "2021-05-25 13:48:04 congratulations poll-ooni[7693] WARNING Error looking up country code of IP None: argument 1 must be a string or ipaddress object\n",
      "2021-05-25 13:48:14 congratulations poll-ooni[7695] WARNING Error looking up IP of hostname www.mazagao.ap.gov.br: [Errno -2] Name or service not known\n",
      "2021-05-25 13:48:14 congratulations poll-ooni[7696] WARNING Error looking up IP of hostname www.belaruspartizan.org: [Errno -2] Name or service not known\n",
      "2021-05-25 13:48:14 congratulations poll-ooni[7694] WARNING Error looking up IP of hostname de.lirio.us: [Errno -2] Name or service not known\n",
      "2021-05-25 13:48:14 congratulations poll-ooni[7695] WARNING Error looking up country code of IP None: argument 1 must be a string or ipaddress object\n",
      "2021-05-25 13:48:14 congratulations poll-ooni[7696] WARNING Error looking up country code of IP None: argument 1 must be a string or ipaddress object\n",
      "2021-05-25 13:48:14 congratulations poll-ooni[7694] WARNING Error looking up country code of IP None: argument 1 must be a string or ipaddress object\n",
      "2021-05-25 13:48:19 congratulations root[7696] INFO Cannot find country for .sx\n",
      "2021-05-25 13:48:24 congratulations poll-ooni[7693] WARNING Error looking up IP of hostname filmimusic.com: [Errno -2] Name or service not known\n",
      "2021-05-25 13:48:24 congratulations poll-ooni[7693] WARNING Error looking up country code of IP None: argument 1 must be a string or ipaddress object\n",
      "2021-05-25 13:48:29 congratulations poll-ooni[7694] WARNING Error looking up IP of hostname tinder.com: [Errno -2] Name or service not known\n",
      "2021-05-25 13:48:29 congratulations poll-ooni[7695] WARNING Error looking up IP of hostname www.santatereza.to.gov.br: [Errno -2] Name or service not known\n",
      "2021-05-25 13:48:29 congratulations poll-ooni[7694] WARNING Error looking up country code of IP None: argument 1 must be a string or ipaddress object\n",
      "2021-05-25 13:48:29 congratulations poll-ooni[7695] WARNING Error looking up country code of IP None: argument 1 must be a string or ipaddress object\n",
      "2021-05-25 13:48:34 congratulations poll-ooni[7696] WARNING Error looking up IP of hostname torrentz.eu: [Errno -2] Name or service not known\n",
      "2021-05-25 13:48:34 congratulations poll-ooni[7696] WARNING Error looking up country code of IP None: argument 1 must be a string or ipaddress object\n",
      "2021-05-25 13:48:34 congratulations root[7696] INFO Cannot find country for .blue\n",
      "2021-05-25 13:48:36 congratulations poll-ooni[7696] WARNING Error looking up country code of IP None: argument 1 must be a string or ipaddress object\n",
      "2021-05-25 13:48:39 congratulations poll-ooni[7693] WARNING Error looking up IP of hostname dishant.com: [Errno -2] Name or service not known\n",
      "2021-05-25 13:48:39 congratulations poll-ooni[7693] WARNING Error looking up country code of IP None: argument 1 must be a string or ipaddress object\n",
      "2021-05-25 13:48:44 congratulations poll-ooni[7695] WARNING Error looking up IP of hostname www.newnownext.com: [Errno -2] Name or service not known\n",
      "2021-05-25 13:48:44 congratulations poll-ooni[7696] WARNING Error looking up IP of hostname www.newnownext.com: [Errno -2] Name or service not known\n",
      "2021-05-25 13:48:44 congratulations poll-ooni[7694] WARNING Error looking up IP of hostname www.liveleak.com: [Errno -2] Name or service not known\n",
      "2021-05-25 13:48:44 congratulations poll-ooni[7694] WARNING Error looking up country code of IP None: argument 1 must be a string or ipaddress object\n",
      "2021-05-25 13:48:44 congratulations poll-ooni[7696] WARNING Error looking up country code of IP None: argument 1 must be a string or ipaddress object\n",
      "2021-05-25 13:48:44 congratulations poll-ooni[7695] WARNING Error looking up country code of IP None: argument 1 must be a string or ipaddress object\n",
      "2021-05-25 13:48:44 congratulations poll-ooni[7694] WARNING Error looking up country code of IP None: argument 1 must be a string or ipaddress object\n",
      "2021-05-25 13:48:44 congratulations poll-ooni[7693] WARNING Error looking up country code of IP None: argument 1 must be a string or ipaddress object\n"
     ]
    },
    {
     "name": "stderr",
     "output_type": "stream",
     "text": [
      "2021-05-25 13:48:45 congratulations poll-ooni[7695] WARNING Error looking up country code of IP None: argument 1 must be a string or ipaddress object\n",
      "2021-05-25 13:48:45 congratulations root[7694] INFO Cannot find country for .kg\n",
      "2021-05-25 13:48:45 congratulations root[7693] INFO Cannot find country for .mobi\n",
      "2021-05-25 13:48:46 congratulations poll-ooni[7696] WARNING Error looking up country code of IP None: argument 1 must be a string or ipaddress object\n",
      "2021-05-25 13:48:57 congratulations poll-ooni[7696] WARNING Error looking up IP of hostname proxy.org: [Errno -2] Name or service not known\n",
      "2021-05-25 13:48:57 congratulations poll-ooni[7693] WARNING Error looking up IP of hostname de.lirio.us: [Errno -2] Name or service not known\n",
      "2021-05-25 13:48:57 congratulations poll-ooni[7694] WARNING Error looking up IP of hostname krishna.com: [Errno -2] Name or service not known\n",
      "2021-05-25 13:48:57 congratulations poll-ooni[7695] WARNING Error looking up IP of hostname www.khilafah.com: [Errno -2] Name or service not known\n",
      "2021-05-25 13:48:57 congratulations poll-ooni[7695] WARNING Error looking up country code of IP None: argument 1 must be a string or ipaddress object\n",
      "2021-05-25 13:48:57 congratulations poll-ooni[7694] WARNING Error looking up country code of IP None: argument 1 must be a string or ipaddress object\n",
      "2021-05-25 13:48:57 congratulations poll-ooni[7693] WARNING Error looking up country code of IP None: argument 1 must be a string or ipaddress object\n",
      "2021-05-25 13:48:57 congratulations poll-ooni[7696] WARNING Error looking up country code of IP None: argument 1 must be a string or ipaddress object\n",
      "2021-05-25 13:48:57 congratulations root[7696] INFO Cannot find country for .ps\n",
      "2021-05-25 13:48:58 congratulations poll-ooni[7694] WARNING Error looking up country code of IP None: argument 1 must be a string or ipaddress object\n",
      "2021-05-25 13:48:58 congratulations root[7694] INFO Cannot find country for .qa\n",
      "2021-05-25 13:48:59 congratulations poll-ooni[7695] WARNING Error looking up country code of IP None: argument 1 must be a string or ipaddress object\n",
      "2021-05-25 13:48:59 congratulations poll-ooni[7695] WARNING Error looking up country code of IP None: argument 1 must be a string or ipaddress object\n"
     ]
    }
   ],
   "source": [
    "scrape(my_cursor, my_connection)"
   ]
  }
 ],
 "metadata": {
  "kernelspec": {
   "display_name": "Python 3",
   "language": "python",
   "name": "python3"
  },
  "language_info": {
   "codemirror_mode": {
    "name": "ipython",
    "version": 3
   },
   "file_extension": ".py",
   "mimetype": "text/x-python",
   "name": "python",
   "nbconvert_exporter": "python",
   "pygments_lexer": "ipython3",
   "version": "3.6.9"
  }
 },
 "nbformat": 4,
 "nbformat_minor": 2
}
