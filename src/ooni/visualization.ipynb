{
 "cells": [
  {
   "cell_type": "code",
   "execution_count": 1,
   "metadata": {},
   "outputs": [],
   "source": [
    "import logging\n",
    "import coloredlogs\n",
    "import requests\n",
    "from time import sleep\n",
    "\n",
    "from psycopg2.extensions import cursor\n",
    "from psycopg2.extensions import connection\n",
    "import pandas as pd"
   ]
  },
  {
   "cell_type": "code",
   "execution_count": 2,
   "metadata": {},
   "outputs": [],
   "source": [
    "logging.basicConfig()\n",
    "# logger = logging.getLogger(\"poll-ooni\")\n",
    "# logger.setLevel(logging.DEBUG)\n",
    "coloredlogs.install()\n",
    "coloredlogs.install(level='DEBUG')\n",
    "# coloredlogs.install(level='INFO')"
   ]
  },
  {
   "cell_type": "code",
   "execution_count": 3,
   "metadata": {},
   "outputs": [
    {
     "name": "stderr",
     "output_type": "stream",
     "text": [
      "2021-05-31 09:19:20 congratulations root[14452] INFO Connected to database.\n"
     ]
    }
   ],
   "source": [
    "import config\n",
    "from imp import reload\n",
    "reload(config)\n",
    "from config import config\n",
    "import psycopg2\n",
    "\n",
    "# connect to the db\n",
    "my_connection = psycopg2.connect(**config['postgres'])\n",
    "my_cursor = my_connection.cursor()\n",
    "logging.info('Connected to database.')"
   ]
  },
  {
   "cell_type": "code",
   "execution_count": 4,
   "metadata": {},
   "outputs": [
    {
     "ename": "TypeError",
     "evalue": "__init__() got an unexpected keyword argument 'cache_dir'",
     "output_type": "error",
     "traceback": [
      "\u001b[0;31m---------------------------------------------------\u001b[0m",
      "\u001b[0;31mTypeError\u001b[0m         Traceback (most recent call last)",
      "\u001b[0;32m<ipython-input-4-a7b7c669ab66>\u001b[0m in \u001b[0;36m<module>\u001b[0;34m()\u001b[0m\n\u001b[0;32m----> 1\u001b[0;31m \u001b[0;32mimport\u001b[0m \u001b[0msrc\u001b[0m\u001b[0;34m.\u001b[0m\u001b[0mooni\u001b[0m\u001b[0;34m.\u001b[0m\u001b[0mutils\u001b[0m \u001b[0;32mas\u001b[0m \u001b[0mooni_utils\u001b[0m\u001b[0;34m\u001b[0m\u001b[0;34m\u001b[0m\u001b[0m\n\u001b[0m",
      "\u001b[0;32m~/Programs/taaraxtak/src/ooni/utils.py\u001b[0m in \u001b[0;36m<module>\u001b[0;34m()\u001b[0m\n\u001b[1;32m    214\u001b[0m \u001b[0;31m# this should make an HTTP request on first call, then refer to cache.\u001b[0m\u001b[0;34m\u001b[0m\u001b[0;34m\u001b[0m\u001b[0;34m\u001b[0m\u001b[0m\n\u001b[1;32m    215\u001b[0m \u001b[0;31m# TODO - update this cache occasionally.\u001b[0m\u001b[0;34m\u001b[0m\u001b[0;34m\u001b[0m\u001b[0;34m\u001b[0m\u001b[0m\n\u001b[0;32m--> 216\u001b[0;31m \u001b[0mextract_tld\u001b[0m \u001b[0;34m=\u001b[0m \u001b[0mtldextract\u001b[0m\u001b[0;34m.\u001b[0m\u001b[0mTLDExtract\u001b[0m\u001b[0;34m(\u001b[0m\u001b[0mcache_dir\u001b[0m\u001b[0;34m=\u001b[0m\u001b[0;34m'my-tld-cache'\u001b[0m\u001b[0;34m)\u001b[0m\u001b[0;34m\u001b[0m\u001b[0;34m\u001b[0m\u001b[0m\n\u001b[0m\u001b[1;32m    217\u001b[0m \u001b[0;34m\u001b[0m\u001b[0m\n\u001b[1;32m    218\u001b[0m \u001b[0;34m\u001b[0m\u001b[0m\n",
      "\u001b[0;31mTypeError\u001b[0m: __init__() got an unexpected keyword argument 'cache_dir'"
     ]
    }
   ],
   "source": [
    "import src.ooni.utils as ooni_utils"
   ]
  },
  {
   "cell_type": "code",
   "execution_count": 5,
   "metadata": {},
   "outputs": [],
   "source": [
    "def rollback():\n",
    "    my_cursor.execute(\"ROLLBACK\")\n",
    "    my_connection.commit()"
   ]
  },
  {
   "cell_type": "markdown",
   "metadata": {},
   "source": [
    "# Visualization!\n",
    "\n",
    "just connect to database to run cells below."
   ]
  },
  {
   "cell_type": "code",
   "execution_count": 6,
   "metadata": {},
   "outputs": [],
   "source": [
    "import json\n",
    "\n",
    "def load (f):\n",
    "    return json.load(open(f, 'r'))\n",
    "\n",
    "sampleData = load('../../visualizations/globe/data/sampleData.json')"
   ]
  },
  {
   "cell_type": "markdown",
   "metadata": {},
   "source": [
    "import country\n",
    "export country\n",
    "value\n",
    "\n",
    "e -> i\n",
    "\n",
    "\n",
    "countries are CC2s (perfect)"
   ]
  },
  {
   "cell_type": "markdown",
   "metadata": {},
   "source": [
    "# Get directed data from the db"
   ]
  },
  {
   "cell_type": "code",
   "execution_count": 7,
   "metadata": {},
   "outputs": [],
   "source": [
    "# rollback()\n",
    "\n",
    "import pandas as pd\n",
    "\n",
    "def unique_pairs (target_attribute:str, confirmed_only=True) -> pd.DataFrame:\n",
    "    '''\n",
    "    These are unique inputs that are blocked.\n",
    "    \n",
    "    We don't want every blocking example - if a site appears once or more, that's enough.\n",
    "    '''\n",
    "    my_cursor.execute(f'''\n",
    "    SELECT DISTINCT input_url, probe_alpha2, {target_attribute} \n",
    "    from ooni_web_connectivity_test\n",
    "    {\"where confirmed=True\" if confirmed_only else \"\"}\n",
    "    ''')\n",
    "    pairs = my_cursor.fetchall()\n",
    "    return pd.DataFrame(pairs, columns=['input', 'e', 'i']).dropna()\n"
   ]
  },
  {
   "cell_type": "code",
   "execution_count": 8,
   "metadata": {},
   "outputs": [],
   "source": [
    "# rollback()\n",
    "from funcy import flatten\n",
    "\n",
    "def create_weights (**kwargs) -> dict:\n",
    "    # get data\n",
    "    pairs_tld = unique_pairs('tld_jurisdiction_alpha2', **kwargs)\n",
    "    pairs_ip = unique_pairs('input_ip_alpha2', **kwargs)\n",
    "#     attacks = pairs_tld\n",
    "    attacks = pd.concat([pairs_tld, pairs_ip])\n",
    "    # find discrete lines of attack\n",
    "    lines_of_attack = set([(v[0], v[1]) for v in attacks[['e', 'i']].values])\n",
    "    # find safe/approved CC2s\n",
    "    cc2_in_our =  set(flatten(attacks[['e', 'i']].values.tolist()))\n",
    "    cc2_in_their =  set(flatten([(s['e'], s['i']) for s in sampleData]))\n",
    "    possibly_unsafe_cc2 = cc2_in_our.difference(cc2_in_their)\n",
    "    # construct weights\n",
    "    weights = []\n",
    "    for line in lines_of_attack:\n",
    "        e, i = line\n",
    "        # TODO - hack\n",
    "        if e not in possibly_unsafe_cc2 and i not in possibly_unsafe_cc2 and e != i:\n",
    "            num_attacks = len(attacks[(attacks['e']==e) & (attacks['i']==i)])\n",
    "            weight = num_attacks*10000\n",
    "            weights.append({\n",
    "                'e': e,\n",
    "                'i': i,\n",
    "                'v': weight\n",
    "            })\n",
    "    return weights"
   ]
  },
  {
   "cell_type": "code",
   "execution_count": 9,
   "metadata": {},
   "outputs": [],
   "source": [
    "# my_connection.commit()"
   ]
  },
  {
   "cell_type": "code",
   "execution_count": 10,
   "metadata": {},
   "outputs": [],
   "source": [
    "weights_confirmed = create_weights(confirmed_only=True)\n",
    "weights_all = create_weights(confirmed_only=False)\n",
    "\n",
    "weights = {\n",
    "    'dataSetKeys': ['confirmed', 'all'],\n",
    "    'initDataSetKey': 'confirmed',\n",
    "    'confirmed': weights_confirmed,\n",
    "    'all': weights_all\n",
    "}\n"
   ]
  },
  {
   "cell_type": "code",
   "execution_count": 11,
   "metadata": {},
   "outputs": [],
   "source": [
    "json.dump(weights, open('../../visualizations/globe/data/attacks.json', 'w'))"
   ]
  },
  {
   "cell_type": "markdown",
   "metadata": {},
   "source": [
    "# Some basic questions\n",
    "\n",
    "how many 'bullets' do we see going by?"
   ]
  },
  {
   "cell_type": "code",
   "execution_count": 35,
   "metadata": {},
   "outputs": [
    {
     "data": {
      "text/html": [
       "<div>\n",
       "<style scoped>\n",
       "    .dataframe tbody tr th:only-of-type {\n",
       "        vertical-align: middle;\n",
       "    }\n",
       "\n",
       "    .dataframe tbody tr th {\n",
       "        vertical-align: top;\n",
       "    }\n",
       "\n",
       "    .dataframe thead th {\n",
       "        text-align: right;\n",
       "    }\n",
       "</style>\n",
       "<table border=\"1\" class=\"dataframe\">\n",
       "  <thead>\n",
       "    <tr style=\"text-align: right;\">\n",
       "      <th></th>\n",
       "      <th>input</th>\n",
       "      <th>e</th>\n",
       "      <th>i</th>\n",
       "    </tr>\n",
       "  </thead>\n",
       "  <tbody>\n",
       "    <tr>\n",
       "      <th>0</th>\n",
       "      <td>http://www.turkpress.co/</td>\n",
       "      <td>SA</td>\n",
       "      <td>CO</td>\n",
       "    </tr>\n",
       "    <tr>\n",
       "      <th>1</th>\n",
       "      <td>http://www.anonymsurfen.com/</td>\n",
       "      <td>SA</td>\n",
       "      <td>US</td>\n",
       "    </tr>\n",
       "    <tr>\n",
       "      <th>2</th>\n",
       "      <td>http://www.babylon-x.com/</td>\n",
       "      <td>SA</td>\n",
       "      <td>US</td>\n",
       "    </tr>\n",
       "    <tr>\n",
       "      <th>3</th>\n",
       "      <td>http://thenationalcampaign.org/</td>\n",
       "      <td>IR</td>\n",
       "      <td>US</td>\n",
       "    </tr>\n",
       "    <tr>\n",
       "      <th>4</th>\n",
       "      <td>http://www.ansar.org/</td>\n",
       "      <td>IR</td>\n",
       "      <td>US</td>\n",
       "    </tr>\n",
       "    <tr>\n",
       "      <th>...</th>\n",
       "      <td>...</td>\n",
       "      <td>...</td>\n",
       "      <td>...</td>\n",
       "    </tr>\n",
       "    <tr>\n",
       "      <th>716</th>\n",
       "      <td>http://www.centcom.mil/</td>\n",
       "      <td>IR</td>\n",
       "      <td>US</td>\n",
       "    </tr>\n",
       "    <tr>\n",
       "      <th>717</th>\n",
       "      <td>http://baskino.me/</td>\n",
       "      <td>RU</td>\n",
       "      <td>US</td>\n",
       "    </tr>\n",
       "    <tr>\n",
       "      <th>718</th>\n",
       "      <td>http://www.cbsnews.com/</td>\n",
       "      <td>IR</td>\n",
       "      <td>US</td>\n",
       "    </tr>\n",
       "    <tr>\n",
       "      <th>719</th>\n",
       "      <td>http://www.hustler.com/</td>\n",
       "      <td>IR</td>\n",
       "      <td>US</td>\n",
       "    </tr>\n",
       "    <tr>\n",
       "      <th>720</th>\n",
       "      <td>http://www.thegailygrind.com/</td>\n",
       "      <td>IR</td>\n",
       "      <td>US</td>\n",
       "    </tr>\n",
       "  </tbody>\n",
       "</table>\n",
       "<p>720 rows × 3 columns</p>\n",
       "</div>"
      ],
      "text/plain": [
       "                               input   e   i\n",
       "0           http://www.turkpress.co/  SA  CO\n",
       "1       http://www.anonymsurfen.com/  SA  US\n",
       "2          http://www.babylon-x.com/  SA  US\n",
       "3    http://thenationalcampaign.org/  IR  US\n",
       "4              http://www.ansar.org/  IR  US\n",
       "..                               ...  ..  ..\n",
       "716          http://www.centcom.mil/  IR  US\n",
       "717               http://baskino.me/  RU  US\n",
       "718          http://www.cbsnews.com/  IR  US\n",
       "719          http://www.hustler.com/  IR  US\n",
       "720    http://www.thegailygrind.com/  IR  US\n",
       "\n",
       "[720 rows x 3 columns]"
      ]
     },
     "execution_count": 35,
     "metadata": {},
     "output_type": "execute_result"
    }
   ],
   "source": [
    "pairs_tld = unique_pairs('tld_jurisdiction_alpha2', confirmed_only=True)\n",
    "pairs_tld\n",
    "# about 418?"
   ]
  },
  {
   "cell_type": "markdown",
   "metadata": {},
   "source": [
    "about 418/day?\n",
    "\n",
    "by destination, who's receiving them?"
   ]
  },
  {
   "cell_type": "code",
   "execution_count": 38,
   "metadata": {},
   "outputs": [
    {
     "ename": "NameError",
     "evalue": "name 'pairs_ip' is not defined",
     "output_type": "error",
     "traceback": [
      "\u001b[0;31m---------------------------------------------------\u001b[0m",
      "\u001b[0;31mNameError\u001b[0m         Traceback (most recent call last)",
      "\u001b[0;32m<ipython-input-38-611fdd3b8051>\u001b[0m in \u001b[0;36m<module>\u001b[0;34m()\u001b[0m\n\u001b[0;32m----> 1\u001b[0;31m \u001b[0mpairs_ip\u001b[0m\u001b[0;34m.\u001b[0m\u001b[0mgroupby\u001b[0m\u001b[0;34m(\u001b[0m\u001b[0;34m'i'\u001b[0m\u001b[0;34m)\u001b[0m\u001b[0;34m.\u001b[0m\u001b[0mcount\u001b[0m\u001b[0;34m(\u001b[0m\u001b[0;34m)\u001b[0m\u001b[0;34m.\u001b[0m\u001b[0msort_values\u001b[0m\u001b[0;34m(\u001b[0m\u001b[0;34m'e'\u001b[0m\u001b[0;34m,\u001b[0m \u001b[0mascending\u001b[0m\u001b[0;34m=\u001b[0m\u001b[0;32mFalse\u001b[0m\u001b[0;34m)\u001b[0m\u001b[0;34m\u001b[0m\u001b[0;34m\u001b[0m\u001b[0m\n\u001b[0m",
      "\u001b[0;31mNameError\u001b[0m: name 'pairs_ip' is not defined"
     ]
    }
   ],
   "source": [
    "pairs_ip.groupby('i').count().sort_values('e', ascending=False)"
   ]
  },
  {
   "cell_type": "code",
   "execution_count": null,
   "metadata": {},
   "outputs": [],
   "source": []
  },
  {
   "cell_type": "markdown",
   "metadata": {},
   "source": [
    "maybe just a big datacenter there...? load balancer? unclear.\n",
    "unclear what to make of input IP in general..."
   ]
  }
 ],
 "metadata": {
  "kernelspec": {
   "display_name": "Python 3",
   "language": "python",
   "name": "python3"
  },
  "language_info": {
   "codemirror_mode": {
    "name": "ipython",
    "version": 3
   },
   "file_extension": ".py",
   "mimetype": "text/x-python",
   "name": "python",
   "nbconvert_exporter": "python",
   "pygments_lexer": "ipython3",
   "version": "3.6.9"
  }
 },
 "nbformat": 4,
 "nbformat_minor": 2
}
