{
 "cells": [
  {
   "cell_type": "code",
   "execution_count": 2,
   "metadata": {},
   "outputs": [],
   "source": [
    "import logging\n",
    "import coloredlogs\n",
    "import requests\n",
    "from time import sleep"
   ]
  },
  {
   "cell_type": "code",
   "execution_count": 3,
   "metadata": {},
   "outputs": [],
   "source": [
    "logging.basicConfig()\n",
    "logger = logging.getLogger(\"poll-ooni\")\n",
    "# logger.setLevel(logging.DEBUG)\n",
    "coloredlogs.install()\n",
    "coloredlogs.install(level='DEBUG')\n",
    "# coloredlogs.install(level='INFO')"
   ]
  },
  {
   "cell_type": "code",
   "execution_count": 4,
   "metadata": {},
   "outputs": [],
   "source": [
    "config = {\n",
    "    \"sleep-times\": {\n",
    "        \"ooni-poll\": 60*5,\n",
    "        \"ooni-paginate\": 2,\n",
    "    }\n",
    "}\n"
   ]
  },
  {
   "cell_type": "code",
   "execution_count": 5,
   "metadata": {},
   "outputs": [],
   "source": [
    "# TODO make dry!\n",
    "def is_nonempty_str(my_str: str) -> bool:\n",
    "    return (type(my_str) == str) & (len(my_str) > 0)\n",
    "\n",
    "class Alpha2 ():\n",
    "    '''\n",
    "    Represents an ISO alpha-2 country code.\n",
    "    '''\n",
    "    def __init__(self,\n",
    "                 country_code: str):\n",
    "        assert(is_nonempty_str(country_code))\n",
    "        assert(len(country_code)==2)\n",
    "        self.country_code = country_code\n",
    "        \n",
    "    def __str__(self):\n",
    "        return f'{self.country_code}'\n",
    "    \n",
    "    def __repr__(self):\n",
    "        return self.__str__()\n"
   ]
  },
  {
   "cell_type": "markdown",
   "metadata": {},
   "source": [
    "# Getting the data we need\n",
    "\n",
    "## Measuremnets from OONI"
   ]
  },
  {
   "cell_type": "code",
   "execution_count": 98,
   "metadata": {},
   "outputs": [],
   "source": [
    "def api_query (query: str, results=[], queries=1, max_queries=None) -> list:\n",
    "    '''Recursively query the API, up to `max_queries`. (If `max_queries=None`, we\n",
    "    will paginate through the results as long as they run).\n",
    "    '''\n",
    "    base_url = 'https://api.ooni.io/api/v1/'\n",
    "    query = '{!s}{!s}'.format(base_url, query)\n",
    "    try:\n",
    "        resp =  requests.get(query).json()\n",
    "        results = results + resp['results']\n",
    "        next_url = resp['metadata']['next_url']\n",
    "        if max_queries is not None and queries > max_queries:\n",
    "            return results\n",
    "        if next_url:\n",
    "            # sleep so as to not overwhelm the endpoint\n",
    "            sleep(config['sleep-times']['ooni-paginate'])\n",
    "            # remove base url to perfrom the query\n",
    "            next_url = next_url.split('api/v1/')[1]\n",
    "            print(\"next URL\", next_url)\n",
    "            return api_query(next_url, results, queries+1, max_queries)\n",
    "        return results\n",
    "    except Exception as inst:\n",
    "        # if we have an error,\n",
    "        logger.warning(\"Error querying API: {!s}\".format(inst))\n",
    "        # just return what we've collected\n",
    "        # (at worst, `results` will be `[]`)\n",
    "        return results\n"
   ]
  },
  {
   "cell_type": "code",
   "execution_count": 100,
   "metadata": {},
   "outputs": [],
   "source": [
    "base_query = 'measurements?test_name=web_connectivity&anomaly=true&order_by=test_start_time&limit=1000'\n",
    "\n",
    "def query_recent_measurements (max_queries=5) -> list:\n",
    "    '''Queries all recent measurements, up to specified maximum number of queries.'''\n",
    "    return api_query(base_query, max_queries=max_queries)\n",
    "\n",
    "def get_blocking_type (measurement) -> str:\n",
    "    '''Get blocking type, if available.'''\n",
    "    try:\n",
    "        return measurement['scores']['analysis']['blocking_type']\n",
    "    except:\n",
    "        return None"
   ]
  },
  {
   "cell_type": "code",
   "execution_count": 101,
   "metadata": {},
   "outputs": [
    {
     "name": "stderr",
     "output_type": "stream",
     "text": [
      "2021-05-25 13:19:23 congratulations urllib3.connectionpool[4205] DEBUG Starting new HTTPS connection (1): api.ooni.io:443\n",
      "2021-05-25 13:19:24 congratulations urllib3.connectionpool[4205] DEBUG https://api.ooni.io:443 \"GET /api/v1/measurements?test_name=web_connectivity&anomaly=true&order_by=test_start_time&limit=1000 HTTP/1.1\" 200 824369\n",
      "2021-05-25 13:19:27 congratulations urllib3.connectionpool[4205] DEBUG Starting new HTTPS connection (1): api.ooni.io:443\n"
     ]
    },
    {
     "name": "stdout",
     "output_type": "stream",
     "text": [
      "next URL measurements?test_name=web_connectivity&anomaly=true&order_by=test_start_time&limit=1000&offset=1000\n"
     ]
    },
    {
     "name": "stderr",
     "output_type": "stream",
     "text": [
      "2021-05-25 13:19:28 congratulations urllib3.connectionpool[4205] DEBUG https://api.ooni.io:443 \"GET /api/v1/measurements?test_name=web_connectivity&anomaly=true&order_by=test_start_time&limit=1000&offset=1000 HTTP/1.1\" 200 827717\n",
      "2021-05-25 13:19:31 congratulations urllib3.connectionpool[4205] DEBUG Starting new HTTPS connection (1): api.ooni.io:443\n"
     ]
    },
    {
     "name": "stdout",
     "output_type": "stream",
     "text": [
      "next URL measurements?test_name=web_connectivity&anomaly=true&order_by=test_start_time&limit=1000&offset=2000\n"
     ]
    },
    {
     "name": "stderr",
     "output_type": "stream",
     "text": [
      "2021-05-25 13:19:32 congratulations urllib3.connectionpool[4205] DEBUG https://api.ooni.io:443 \"GET /api/v1/measurements?test_name=web_connectivity&anomaly=true&order_by=test_start_time&limit=1000&offset=2000 HTTP/1.1\" 200 830892\n",
      "2021-05-25 13:19:35 congratulations urllib3.connectionpool[4205] DEBUG Starting new HTTPS connection (1): api.ooni.io:443\n"
     ]
    },
    {
     "name": "stdout",
     "output_type": "stream",
     "text": [
      "next URL measurements?test_name=web_connectivity&anomaly=true&order_by=test_start_time&limit=1000&offset=3000\n"
     ]
    },
    {
     "name": "stderr",
     "output_type": "stream",
     "text": [
      "2021-05-25 13:19:36 congratulations urllib3.connectionpool[4205] DEBUG https://api.ooni.io:443 \"GET /api/v1/measurements?test_name=web_connectivity&anomaly=true&order_by=test_start_time&limit=1000&offset=3000 HTTP/1.1\" 200 827264\n",
      "2021-05-25 13:19:39 congratulations urllib3.connectionpool[4205] DEBUG Starting new HTTPS connection (1): api.ooni.io:443\n"
     ]
    },
    {
     "name": "stdout",
     "output_type": "stream",
     "text": [
      "next URL measurements?test_name=web_connectivity&anomaly=true&order_by=test_start_time&limit=1000&offset=4000\n"
     ]
    },
    {
     "name": "stderr",
     "output_type": "stream",
     "text": [
      "2021-05-25 13:19:40 congratulations urllib3.connectionpool[4205] DEBUG https://api.ooni.io:443 \"GET /api/v1/measurements?test_name=web_connectivity&anomaly=true&order_by=test_start_time&limit=1000&offset=4000 HTTP/1.1\" 200 830291\n",
      "2021-05-25 13:19:43 congratulations urllib3.connectionpool[4205] DEBUG Starting new HTTPS connection (1): api.ooni.io:443\n"
     ]
    },
    {
     "name": "stdout",
     "output_type": "stream",
     "text": [
      "next URL measurements?test_name=web_connectivity&anomaly=true&order_by=test_start_time&limit=1000&offset=5000\n"
     ]
    },
    {
     "name": "stderr",
     "output_type": "stream",
     "text": [
      "2021-05-25 13:19:44 congratulations urllib3.connectionpool[4205] DEBUG https://api.ooni.io:443 \"GET /api/v1/measurements?test_name=web_connectivity&anomaly=true&order_by=test_start_time&limit=1000&offset=5000 HTTP/1.1\" 200 825740\n"
     ]
    }
   ],
   "source": [
    "measurements = query_recent_measurements()"
   ]
  },
  {
   "cell_type": "code",
   "execution_count": 102,
   "metadata": {},
   "outputs": [
    {
     "data": {
      "text/plain": [
       "5995"
      ]
     },
     "execution_count": 102,
     "metadata": {},
     "output_type": "execute_result"
    }
   ],
   "source": [
    "len(measurements)"
   ]
  },
  {
   "cell_type": "code",
   "execution_count": 12,
   "metadata": {},
   "outputs": [
    {
     "name": "stderr",
     "output_type": "stream",
     "text": [
      "2021-05-25 12:59:39 congratulations urllib3.connectionpool[4205] DEBUG Starting new HTTPS connection (1): ams-pg.ooni.org:443\n",
      "2021-05-25 12:59:39 congratulations urllib3.connectionpool[4205] DEBUG https://ams-pg.ooni.org:443 \"GET /api/v1/raw_measurement?report_id=20210525T181651Z_webconnectivity_IN_55836_n1_v7tNboMf0kqxJ5gp&input=https%3A%2F%2Fwww.sendspace.com%2F HTTP/1.1\" 200 10333\n"
     ]
    },
    {
     "data": {
      "text/plain": [
       "{'annotations': {'engine_name': 'ooniprobe-engine',\n",
       "  'engine_version': '3.9.0',\n",
       "  'flavor': 'stableFull',\n",
       "  'network_type': 'wifi',\n",
       "  'platform': 'android'},\n",
       " 'data_format_version': '0.2.0',\n",
       " 'input': 'https://www.sendspace.com/',\n",
       " 'measurement_start_time': '2021-05-25 19:01:09',\n",
       " 'probe_asn': 'AS55836',\n",
       " 'probe_cc': 'IN',\n",
       " 'probe_ip': '127.0.0.1',\n",
       " 'probe_network_name': 'Reliance Jio Infocomm Limited',\n",
       " 'report_id': '20210525T181651Z_webconnectivity_IN_55836_n1_v7tNboMf0kqxJ5gp',\n",
       " 'resolver_asn': 'AS55836',\n",
       " 'resolver_ip': '49.45.31.116',\n",
       " 'resolver_network_name': 'Reliance Jio Infocomm Limited',\n",
       " 'software_name': 'ooniprobe-android',\n",
       " 'software_version': '2.11.0',\n",
       " 'test_helpers': {'backend': {'address': 'https://wcth.ooni.io',\n",
       "   'type': 'https'}},\n",
       " 'test_keys': {'agent': 'redirect',\n",
       "  'client_resolver': '49.45.31.116',\n",
       "  'retries': None,\n",
       "  'socksproxy': None,\n",
       "  'network_events': [{'address': '172.64.100.30:443',\n",
       "    'failure': None,\n",
       "    'operation': 'connect',\n",
       "    'proto': 'tcp',\n",
       "    't': 1.420860307,\n",
       "    'tags': ['tcptls_experiment']},\n",
       "   {'failure': None,\n",
       "    'operation': 'tls_handshake_start',\n",
       "    't': 1.420893231,\n",
       "    'tags': ['tcptls_experiment']},\n",
       "   {'failure': None,\n",
       "    'num_bytes': 287,\n",
       "    'operation': 'write',\n",
       "    't': 1.424357615,\n",
       "    'tags': ['tcptls_experiment']},\n",
       "   {'failure': 'connection_reset',\n",
       "    'operation': 'read',\n",
       "    't': 1.463324,\n",
       "    'tags': ['tcptls_experiment']},\n",
       "   {'failure': 'connection_reset',\n",
       "    'operation': 'tls_handshake_done',\n",
       "    't': 1.463410769,\n",
       "    'tags': ['tcptls_experiment']},\n",
       "   {'address': '172.64.101.30:443',\n",
       "    'failure': None,\n",
       "    'operation': 'connect',\n",
       "    'proto': 'tcp',\n",
       "    't': 1.420239769,\n",
       "    'tags': ['tcptls_experiment']},\n",
       "   {'failure': None,\n",
       "    'operation': 'tls_handshake_start',\n",
       "    't': 1.420278154,\n",
       "    'tags': ['tcptls_experiment']},\n",
       "   {'failure': None,\n",
       "    'num_bytes': 287,\n",
       "    'operation': 'write',\n",
       "    't': 1.423950846,\n",
       "    'tags': ['tcptls_experiment']},\n",
       "   {'failure': 'connection_reset',\n",
       "    'operation': 'read',\n",
       "    't': 1.464305846,\n",
       "    'tags': ['tcptls_experiment']},\n",
       "   {'failure': 'connection_reset',\n",
       "    'operation': 'tls_handshake_done',\n",
       "    't': 1.464379692,\n",
       "    'tags': ['tcptls_experiment']},\n",
       "   {'address': '[2606:4700:8d9c:9ac4:a5d7:11f:dadc:d5f8]:443',\n",
       "    'failure': None,\n",
       "    'operation': 'connect',\n",
       "    'proto': 'tcp',\n",
       "    't': 1.472819154,\n",
       "    'tags': ['tcptls_experiment']},\n",
       "   {'failure': None,\n",
       "    'operation': 'tls_handshake_start',\n",
       "    't': 1.472856615,\n",
       "    'tags': ['tcptls_experiment']},\n",
       "   {'failure': None,\n",
       "    'num_bytes': 287,\n",
       "    'operation': 'write',\n",
       "    't': 1.476498769,\n",
       "    'tags': ['tcptls_experiment']},\n",
       "   {'failure': None,\n",
       "    'num_bytes': 517,\n",
       "    'operation': 'read',\n",
       "    't': 1.618249,\n",
       "    'tags': ['tcptls_experiment']},\n",
       "   {'failure': None,\n",
       "    'num_bytes': 2276,\n",
       "    'operation': 'read',\n",
       "    't': 1.622115384,\n",
       "    'tags': ['tcptls_experiment']},\n",
       "   {'failure': None,\n",
       "    'num_bytes': 64,\n",
       "    'operation': 'write',\n",
       "    't': 1.631212077,\n",
       "    'tags': ['tcptls_experiment']},\n",
       "   {'failure': None,\n",
       "    'operation': 'tls_handshake_done',\n",
       "    't': 1.631271769,\n",
       "    'tags': ['tcptls_experiment']},\n",
       "   {'failure': None,\n",
       "    'num_bytes': 24,\n",
       "    'operation': 'write',\n",
       "    't': 1.631474769,\n",
       "    'tags': ['tcptls_experiment']}],\n",
       "  'tls_handshakes': [{'cipher_suite': '',\n",
       "    'failure': 'connection_reset',\n",
       "    'negotiated_protocol': '',\n",
       "    'no_tls_verify': False,\n",
       "    'peer_certificates': None,\n",
       "    'server_name': 'www.sendspace.com',\n",
       "    't': 1.463410769,\n",
       "    'tags': ['tcptls_experiment'],\n",
       "    'tls_version': ''},\n",
       "   {'cipher_suite': '',\n",
       "    'failure': 'connection_reset',\n",
       "    'negotiated_protocol': '',\n",
       "    'no_tls_verify': False,\n",
       "    'peer_certificates': None,\n",
       "    'server_name': 'www.sendspace.com',\n",
       "    't': 1.464379692,\n",
       "    'tags': ['tcptls_experiment'],\n",
       "    'tls_version': ''},\n",
       "   {'cipher_suite': 'TLS_CHACHA20_POLY1305_SHA256',\n",
       "    'failure': None,\n",
       "    'negotiated_protocol': 'h2',\n",
       "    'no_tls_verify': False,\n",
       "    'peer_certificates': [{'data': 'MIIEwDCCBGWgAwIBAgIQByJ8ippHDovzJr/ceXujQTAKBggqhkjOPQQDAjBKMQswCQYDVQQGEwJVUzEZMBcGA1UEChMQQ2xvdWRmbGFyZSwgSW5jLjEgMB4GA1UEAxMXQ2xvdWRmbGFyZSBJbmMgRUNDIENBLTMwHhcNMjEwMzA5MDAwMDAwWhcNMjIwMzA4MjM1OTU5WjB1MQswCQYDVQQGEwJVUzETMBEGA1UECBMKQ2FsaWZvcm5pYTEWMBQGA1UEBxMNU2FuIEZyYW5jaXNjbzEZMBcGA1UEChMQQ2xvdWRmbGFyZSwgSW5jLjEeMBwGA1UEAxMVc25pLmNsb3VkZmxhcmVzc2wuY29tMFkwEwYHKoZIzj0CAQYIKoZIzj0DAQcDQgAE4U3P8RbYnv72/A1Hxw6SappobqzN04uZnlvZr7KAAhyMZ66cFL4r2LzIb5Wbgul4vNfo7w7yFstOAn/AZBRgpqOCAwAwggL8MB8GA1UdIwQYMBaAFKXON+rrsHUOlGeItEX62SQQh5YfMB0GA1UdDgQWBBTIQzrnqVA9Oc4TjpmLLntd9QzIAjBABgNVHREEOTA3gg8qLnNlbmRzcGFjZS5jb22CFXNuaS5jbG91ZGZsYXJlc3NsLmNvbYINc2VuZHNwYWNlLmNvbTAOBgNVHQ8BAf8EBAMCB4AwHQYDVR0lBBYwFAYIKwYBBQUHAwEGCCsGAQUFBwMCMHsGA1UdHwR0MHIwN6A1oDOGMWh0dHA6Ly9jcmwzLmRpZ2ljZXJ0LmNvbS9DbG91ZGZsYXJlSW5jRUNDQ0EtMy5jcmwwN6A1oDOGMWh0dHA6Ly9jcmw0LmRpZ2ljZXJ0LmNvbS9DbG91ZGZsYXJlSW5jRUNDQ0EtMy5jcmwwPgYDVR0gBDcwNTAzBgZngQwBAgIwKTAnBggrBgEFBQcCARYbaHR0cDovL3d3dy5kaWdpY2VydC5jb20vQ1BTMHYGCCsGAQUFBwEBBGowaDAkBggrBgEFBQcwAYYYaHR0cDovL29jc3AuZGlnaWNlcnQuY29tMEAGCCsGAQUFBzAChjRodHRwOi8vY2FjZXJ0cy5kaWdpY2VydC5jb20vQ2xvdWRmbGFyZUluY0VDQ0NBLTMuY3J0MAwGA1UdEwEB/wQCMAAwggEEBgorBgEEAdZ5AgQCBIH1BIHyAPAAdQApeb7wnjk5IfBWc59jpXflvld9nGAK+PlNXSZcJV3HhAAAAXgXlRhWAAAEAwBGMEQCICUgIsOW92lf2R6BOQ+Ef5/wF4SUXaanJUxWb+HtcFZXAiAq2jpRHViScSNAdGUSQi9JHyu/kO+NmlES7FJ29CCrKAB3ACJFRQdZVSRWlj+hL/H3bYbgIyZjrcBLf13Gg1xu4g8CAAABeBeVGKEAAAQDAEgwRgIhAIw7m/2ZIVTH7QZsqcdD1TmuS5JOoxSmY8LS+2+FHjJnAiEArR5P+8+XrR8EE8HtN7/mNzuVUW6GA1eZ+0cifSoPGsswCgYIKoZIzj0EAwIDSQAwRgIhAJt5fBpK4GKfX1m7dqumjLncRes81R+XOU1tbhvVQsJ5AiEA3LnkMNs3mDzvzk16WgJVQXXU7QjcxV12+sb51TkuNR8=',\n",
       "      'format': 'base64'},\n",
       "     {'data': 'MIIDzTCCArWgAwIBAgIQCjeHZF5ftIwiTv0b7RQMPDANBgkqhkiG9w0BAQsFADBaMQswCQYDVQQGEwJJRTESMBAGA1UEChMJQmFsdGltb3JlMRMwEQYDVQQLEwpDeWJlclRydXN0MSIwIAYDVQQDExlCYWx0aW1vcmUgQ3liZXJUcnVzdCBSb290MB4XDTIwMDEyNzEyNDgwOFoXDTI0MTIzMTIzNTk1OVowSjELMAkGA1UEBhMCVVMxGTAXBgNVBAoTEENsb3VkZmxhcmUsIEluYy4xIDAeBgNVBAMTF0Nsb3VkZmxhcmUgSW5jIEVDQyBDQS0zMFkwEwYHKoZIzj0CAQYIKoZIzj0DAQcDQgAEua1NZpkUC0bsH4HRKlAenQMVLzQSfS2WuIg4m4Vfj7+7Te9hRsTJc9QkT+DuHM5ss1FxL2ruTAUJd9NyYqSb16OCAWgwggFkMB0GA1UdDgQWBBSlzjfq67B1DpRniLRF+tkkEIeWHzAfBgNVHSMEGDAWgBTlnVkwgkdYzKz6CFQ2hns6tQRN8DAOBgNVHQ8BAf8EBAMCAYYwHQYDVR0lBBYwFAYIKwYBBQUHAwEGCCsGAQUFBwMCMBIGA1UdEwEB/wQIMAYBAf8CAQAwNAYIKwYBBQUHAQEEKDAmMCQGCCsGAQUFBzABhhhodHRwOi8vb2NzcC5kaWdpY2VydC5jb20wOgYDVR0fBDMwMTAvoC2gK4YpaHR0cDovL2NybDMuZGlnaWNlcnQuY29tL09tbmlyb290MjAyNS5jcmwwbQYDVR0gBGYwZDA3BglghkgBhv1sAQEwKjAoBggrBgEFBQcCARYcaHR0cHM6Ly93d3cuZGlnaWNlcnQuY29tL0NQUzALBglghkgBhv1sAQIwCAYGZ4EMAQIBMAgGBmeBDAECAjAIBgZngQwBAgMwDQYJKoZIhvcNAQELBQADggEBAAUkHd0bsCrrmNaF4zlNXmtXnYJX/OvoMaJXkGUFvhZEOFp3ArnPEELG4ZKk40Un+ABHLGioVplTVI+tnkDB0A+21w0LOEhsUCxJkAZbZB2LzEgwLt4I4ptJIsCSDBFelpKU1fwg3FZs5ZKTv3ocwDfjhUkV+ivhdDkYD7fa86JXWGBPzI6UAPxGezQxPk1HgoE6y/SJXQ7vTQ1unBuCJN0yJV0ReFEQPaA1IwQvZW+cwdFD19Ae8zFnWSfda9J1CZMRJCQUzym+5iPDuI9yP+kHyCREU3qzuWFloUwOxkgAyXVjBYdwRVKD05WdRerw6DEdfgkfCv4+3ao8XnTSrLE=',\n",
       "      'format': 'base64'}],\n",
       "    'server_name': 'www.sendspace.com',\n",
       "    't': 1.631271769,\n",
       "    'tags': ['tcptls_experiment'],\n",
       "    'tls_version': 'TLSv1.3'}],\n",
       "  'queries': [{'answers': [{'asn': 13335,\n",
       "      'as_org_name': 'Cloudflare, Inc.',\n",
       "      'answer_type': 'A',\n",
       "      'ipv4': '172.64.100.30',\n",
       "      'ttl': None},\n",
       "     {'asn': 13335,\n",
       "      'as_org_name': 'Cloudflare, Inc.',\n",
       "      'answer_type': 'A',\n",
       "      'ipv4': '172.64.101.30',\n",
       "      'ttl': None}],\n",
       "    'engine': 'system',\n",
       "    'failure': None,\n",
       "    'hostname': 'www.sendspace.com',\n",
       "    'query_type': 'A',\n",
       "    'resolver_hostname': None,\n",
       "    'resolver_port': None,\n",
       "    'resolver_address': '',\n",
       "    't': 0.019887461},\n",
       "   {'answers': [{'asn': 13335,\n",
       "      'as_org_name': 'Cloudflare, Inc.',\n",
       "      'answer_type': 'AAAA',\n",
       "      'ipv6': '2606:4700:8d9c:9ac4:a5d7:11f:dadc:d5f8',\n",
       "      'ttl': None}],\n",
       "    'engine': 'system',\n",
       "    'failure': None,\n",
       "    'hostname': 'www.sendspace.com',\n",
       "    'query_type': 'AAAA',\n",
       "    'resolver_hostname': None,\n",
       "    'resolver_port': None,\n",
       "    'resolver_address': '',\n",
       "    't': 0.019887461}],\n",
       "  'dns_experiment_failure': None,\n",
       "  'dns_consistency': 'consistent',\n",
       "  'control_failure': None,\n",
       "  'control': {'tcp_connect': {'172.64.100.30:443': {'status': True,\n",
       "     'failure': None},\n",
       "    '172.64.101.30:443': {'status': True, 'failure': None},\n",
       "    '[2606:4700:8d9c:9ac4:a5d7:11f:dadc:d5f8]:443': {'status': False,\n",
       "     'failure': 'invalid_socket'}},\n",
       "   'http_request': {'body_length': 23221,\n",
       "    'failure': None,\n",
       "    'title': 'Free large file hosting. Send big files the easy way!',\n",
       "    'headers': {'CF-Cache-Status': 'DYNAMIC',\n",
       "     'CF-RAY': '655102c86fd3d8f1-AMS',\n",
       "     'Cache-Control': 'no-cache,no-store,max-age=0,s-maxage=0,must-revalidate',\n",
       "     'Content-Type': 'text/html; charset=UTF-8',\n",
       "     'Date': 'Tue, 25 May 2021 19:01:11 GMT',\n",
       "     'Expect-CT': 'max-age=604800, report-uri=\"https://report-uri.cloudflare.com/cdn-cgi/beacon/expect-ct\"',\n",
       "     'Expires': '0',\n",
       "     'Last-Modified': 'Tue, 25 May 2021 19:01:11 GMT',\n",
       "     'NEL': '{\"report_to\":\"cf-nel\",\"max_age\":604800}',\n",
       "     'Pragma': 'no-cache',\n",
       "     'Report-To': '{\"endpoints\":[{\"url\":\"https:\\\\/\\\\/a.nel.cloudflare.com\\\\/report\\\\/v2?s=1eqygU0EtuFJiPW2wIa6uBb9wfMMCh%2FPBeVxmSNicCPm1RkOUiLh8EY5JKG47Gw0UZO%2FtCnnSjRi0FY%2B8UPlRx9hkpw2wqHHuZTwNehXzfcNGFxTO%2B2AaFvjuDztPx0%3D\"}],\"group\":\"cf-nel\",\"max_age\":604800}',\n",
       "     'Server': 'cloudflare',\n",
       "     'Set-Cookie': 'SID=unqa9liku5u3sf2sef5l2836t5; path=/; domain=.sendspace.com',\n",
       "     'Vary': 'Accept-Encoding',\n",
       "     'X-Content-Type-Options': 'nosniff',\n",
       "     'X-Frame-Options': 'SAMEORIGIN',\n",
       "     'X-XSS-Protection': '1; mode=block',\n",
       "     'alt-svc': 'h3-27=\":443\"; ma=86400, h3-28=\":443\"; ma=86400, h3-29=\":443\"; ma=86400',\n",
       "     'cf-request-id': '0a4680113e0000d8f1618ac000000001'},\n",
       "    'status_code': 200},\n",
       "   'dns': {'failure': None, 'addrs': ['172.64.100.30', '172.64.101.30']}},\n",
       "  'tcp_connect': [{'ip': '172.64.100.30',\n",
       "    'port': 443,\n",
       "    'status': {'blocked': False, 'failure': None, 'success': True},\n",
       "    't': 1.420860307},\n",
       "   {'ip': '172.64.101.30',\n",
       "    'port': 443,\n",
       "    'status': {'blocked': False, 'failure': None, 'success': True},\n",
       "    't': 1.420239769},\n",
       "   {'ip': '2606:4700:8d9c:9ac4:a5d7:11f:dadc:d5f8',\n",
       "    'port': 443,\n",
       "    'status': {'blocked': False, 'failure': None, 'success': True},\n",
       "    't': 1.472819154}],\n",
       "  'requests': [{'failure': 'connection_reset',\n",
       "    'request': {'body': '',\n",
       "     'body_is_truncated': False,\n",
       "     'headers_list': [['Accept',\n",
       "       'text/html,application/xhtml+xml,application/xml;q=0.9,*/*;q=0.8'],\n",
       "      ['Accept-Language', 'en-US;q=0.8,en;q=0.5'],\n",
       "      ['Host', 'www.sendspace.com'],\n",
       "      ['User-Agent',\n",
       "       'Mozilla/5.0 (Windows NT 10.0; Win64; x64) AppleWebKit/537.36 (KHTML, like Gecko) Chrome/89.0.4389.90 Safari/537.36']],\n",
       "     'headers': {'Accept': 'text/html,application/xhtml+xml,application/xml;q=0.9,*/*;q=0.8',\n",
       "      'Accept-Language': 'en-US;q=0.8,en;q=0.5',\n",
       "      'Host': 'www.sendspace.com',\n",
       "      'User-Agent': 'Mozilla/5.0 (Windows NT 10.0; Win64; x64) AppleWebKit/537.36 (KHTML, like Gecko) Chrome/89.0.4389.90 Safari/537.36'},\n",
       "     'method': 'GET',\n",
       "     'tor': {'exit_ip': None, 'exit_name': None, 'is_tor': False},\n",
       "     'x_transport': 'tcp',\n",
       "     'url': 'https://www.sendspace.com/'},\n",
       "    'response': {'body': '',\n",
       "     'body_is_truncated': False,\n",
       "     'code': 0,\n",
       "     'headers_list': None,\n",
       "     'headers': None},\n",
       "    't': 1.633127077}],\n",
       "  'http_experiment_failure': 'connection_reset',\n",
       "  'body_length_match': None,\n",
       "  'body_proportion': 0,\n",
       "  'status_code_match': None,\n",
       "  'headers_match': None,\n",
       "  'title_match': None,\n",
       "  'accessible': False,\n",
       "  'blocking': 'http-failure',\n",
       "  'x_status': 8448},\n",
       " 'test_name': 'web_connectivity',\n",
       " 'test_runtime': 1.762224,\n",
       " 'test_start_time': '2021-05-25 18:16:49',\n",
       " 'test_version': '0.4.0'}"
      ]
     },
     "execution_count": 12,
     "metadata": {},
     "output_type": "execute_result"
    }
   ],
   "source": [
    "m_detail = requests.get(m['measurement_url']).json()\n",
    "\n",
    "m_detail['test_keys']['queries']\n",
    "m_detail"
   ]
  },
  {
   "cell_type": "markdown",
   "metadata": {},
   "source": [
    "## Get IP from URL"
   ]
  },
  {
   "cell_type": "code",
   "execution_count": 13,
   "metadata": {},
   "outputs": [],
   "source": [
    "inputs = [m['input'] for m in measurements]"
   ]
  },
  {
   "cell_type": "code",
   "execution_count": 22,
   "metadata": {},
   "outputs": [],
   "source": [
    "import socket\n",
    "import urllib.parse\n",
    "from typing import Optional\n",
    "\n",
    "def get_hostname (url):\n",
    "    return urllib.parse.urlparse(url).netloc\n",
    "\n",
    "def get_ip (hostname: str) ->  Optional[str]:\n",
    "    try:\n",
    "        hostname = socket.gethostbyname(hostname)\n",
    "        if hostname == '127.0.0.1' or hostname == '0.0.0.0':\n",
    "            return None\n",
    "        return hostname\n",
    "    except Exception as inst:\n",
    "            logger.warning(f\"Error looking up IP of hostname {hostname}: {inst}\")\n",
    "            return None\n"
   ]
  },
  {
   "cell_type": "code",
   "execution_count": 16,
   "metadata": {},
   "outputs": [
    {
     "data": {
      "text/plain": [
       "'104.21.28.97'"
      ]
     },
     "execution_count": 16,
     "metadata": {},
     "output_type": "execute_result"
    }
   ],
   "source": [
    "my_ip = get_ip(get_hostname(inputs[505]))\n",
    "my_ip"
   ]
  },
  {
   "cell_type": "markdown",
   "metadata": {},
   "source": [
    "## Get geolocation from IP"
   ]
  },
  {
   "cell_type": "code",
   "execution_count": 18,
   "metadata": {},
   "outputs": [
    {
     "data": {
      "text/plain": [
       "US"
      ]
     },
     "execution_count": 18,
     "metadata": {},
     "output_type": "execute_result"
    }
   ],
   "source": [
    "import geoip2.database\n",
    "from typing import Optional\n",
    "\n",
    "def ip_to_alpha2 (ip: str) -> Optional[Alpha2]:\n",
    "    with geoip2.database.Reader('dbip-country-lite-2021-05.mmdb') as reader:\n",
    "        try:\n",
    "            response = reader.country(ip)\n",
    "            return Alpha2(response.country.iso_code)\n",
    "        except Exception as inst:\n",
    "            # if we have an error,\n",
    "            logger.warning(f\"Error looking up country code of IP {ip}: {inst}\")\n",
    "            return None\n",
    "    \n",
    "ip_to_alpha2(my_ip)"
   ]
  },
  {
   "cell_type": "markdown",
   "metadata": {},
   "source": [
    "## Putting it all together"
   ]
  },
  {
   "cell_type": "code",
   "execution_count": 116,
   "metadata": {},
   "outputs": [
    {
     "data": {
      "text/plain": [
       "US"
      ]
     },
     "execution_count": 116,
     "metadata": {},
     "output_type": "execute_result"
    }
   ],
   "source": [
    "def url_to_alpha2 (url: str) -> Optional[Alpha2]:\n",
    "    hostname = get_hostname(url)\n",
    "    maybe_ip = get_ip(hostname)\n",
    "    if maybe_ip is None:\n",
    "        return None\n",
    "    return ip_to_alpha2(maybe_ip)\n",
    "\n",
    "url_to_alpha2('https://wikipedia.org/')"
   ]
  },
  {
   "cell_type": "markdown",
   "metadata": {},
   "source": [
    "## Get TLD jurisdiction"
   ]
  },
  {
   "cell_type": "code",
   "execution_count": 117,
   "metadata": {},
   "outputs": [],
   "source": [
    "from imp import reload\n",
    "from src.w3techs import utils as w3techs_utils\n",
    "reload(w3techs_utils)\n",
    "from tldextract import extract"
   ]
  },
  {
   "cell_type": "code",
   "execution_count": 26,
   "metadata": {},
   "outputs": [
    {
     "data": {
      "text/plain": [
       "BR"
      ]
     },
     "execution_count": 26,
     "metadata": {},
     "output_type": "execute_result"
    }
   ],
   "source": [
    "def get_tld_jurisdiction (url: str) -> Optional[Alpha2]:\n",
    "    '''\n",
    "    Takes a URL and gets an Alpha 2\n",
    "    representing the jurisdiction of the URL's top-level domain.\n",
    "    '''\n",
    "    tld = extract(url)\n",
    "    # get last item in url\n",
    "    # e.g., '.com.br' should be '.br'\n",
    "    tld = tld.suffix\n",
    "    tld = tld.split('.')[-1]\n",
    "    # put it\n",
    "    tld_str = f'.{tld}'\n",
    "#     return tld_str\n",
    "    # TODO put htis logic in get_country\n",
    "    cc =  w3techs_utils.get_country(tld_str)\n",
    "    if cc is not None:\n",
    "        return Alpha2(cc)\n",
    "    return None\n",
    "\n",
    "get_tld_jurisdiction('mycool.com.br')"
   ]
  },
  {
   "cell_type": "markdown",
   "metadata": {},
   "source": [
    "# Model the datatype"
   ]
  },
  {
   "cell_type": "code",
   "execution_count": 30,
   "metadata": {},
   "outputs": [
    {
     "data": {
      "text/plain": [
       "True"
      ]
     },
     "execution_count": 30,
     "metadata": {},
     "output_type": "execute_result"
    }
   ],
   "source": [
    "import pandas as pd\n",
    "\n",
    "def now () -> pd.Timestamp:\n",
    "    return pd.Timestamp.utcnow()\n",
    "\n",
    "def is_in_future (timestamp: pd.Timestamp) -> bool:\n",
    "    return timestamp > now()\n",
    "\n",
    "is_in_future(  pd.Timestamp('2021-06-24T20:36:06Z'))"
   ]
  },
  {
   "cell_type": "code",
   "execution_count": 31,
   "metadata": {},
   "outputs": [],
   "source": [
    "from psycopg2.extensions import cursor\n",
    "from psycopg2.extensions import connection\n",
    "import pandas as pd\n",
    "\n",
    "class OONIWebConnectivityTest():\n",
    "    '''\n",
    "    Class to capture results of an OONI web connectivity test.\n",
    "      - https://ooni.org/nettest/web-connectivity/\n",
    "    See README for more details on these fields.\n",
    "    \n",
    "    This is where validation happens.\n",
    "    TODO - Check for SQL injection attacks.\n",
    "    '''\n",
    "    def __init__(self,\n",
    "                  blocking_type: str,\n",
    "                  probe_alpha2: Alpha2,\n",
    "                  input_url: str,\n",
    "                  anomaly: bool,\n",
    "                  confirmed: bool,\n",
    "                  report_id: str,\n",
    "                  input_ip_alpha2: Alpha2,\n",
    "                  tld_jurisdiction_alpha2: Alpha2,\n",
    "                  measurement_start_time: pd.Timestamp):\n",
    "            # we only want stuff where blocking actually happened \n",
    "            assert(blocking_type != False)\n",
    "            self.blocking_type = blocking_type\n",
    "            \n",
    "            assert(type(probe_alpha2) == Alpha2)\n",
    "            self.probe_alpha2 = str(probe_alpha2)\n",
    "            \n",
    "            assert(is_nonempty_str(input_url))\n",
    "            self.input_url = input_url\n",
    "            \n",
    "            assert(type(anomaly) == bool)\n",
    "            self.anomaly = anomaly\n",
    "            \n",
    "            assert(type(confirmed) == bool)\n",
    "            self.confirmed = confirmed\n",
    "            \n",
    "            assert(is_nonempty_str(report_id))\n",
    "            self.report_id = report_id\n",
    "            \n",
    "            # type is optional\n",
    "            assert((type(input_ip_alpha2) == Alpha2) or \n",
    "                   (input_ip_alpha2 == None))\n",
    "            if input_ip_alpha2 == None:\n",
    "                self.input_ip_alpha2 = None\n",
    "            else:\n",
    "                self.input_ip_alpha2 = str(input_ip_alpha2)\n",
    "            \n",
    "            # type is optional\n",
    "            assert((type(tld_jurisdiction_alpha2) == Alpha2) or\n",
    "                   (tld_jurisdiction_alpha2 == None))\n",
    "            if tld_jurisdiction_alpha2 == None:\n",
    "                self.tld_jurisdiction_alpha2 = None\n",
    "            else:\n",
    "                self.tld_jurisdiction_alpha2 = str(tld_jurisdiction_alpha2)\n",
    "            \n",
    "            assert(type(measurement_start_time) == pd.Timestamp)\n",
    "            # if the timestamp is in the future...\n",
    "            if is_in_future(measurement_start_time):\n",
    "                # set the time to now.\n",
    "                self.measurement_start_time = now()\n",
    "            # otherwise\n",
    "            else:\n",
    "                # set it to whenever it was reported\n",
    "                self.measurement_start_time = measurement_start_time\n",
    "            \n",
    "    def create_table(\n",
    "            self,\n",
    "            cur: cursor,\n",
    "            conn: connection):\n",
    "        cmd = \"\"\"\n",
    "          CREATE TABLE ooni_web_connectivity_test (\n",
    "             blocking_type             VARCHAR,\n",
    "             probe_alpha2              CHAR(2) NOT NULL,\n",
    "             input_url                 VARCHAR NOT NULL,\n",
    "             anomaly                   BOOLEAN NOT NULL,\n",
    "             confirmed                 BOOLEAN NOT NULL,\n",
    "             report_id                 VARCHAR NOT NULL,\n",
    "             input_ip_alpha2           CHAR(2),\n",
    "             tld_jurisdiction_alpha2   CHAR(2),\n",
    "             measurement_start_time    TIMESTAMPTZ NOT NULL\n",
    "          )\n",
    "        \"\"\"\n",
    "        cur.execute(cmd)\n",
    "        conn.commit()\n",
    "\n",
    "    def write_to_db(\n",
    "            self,\n",
    "            cur: cursor,\n",
    "            conn: connection,\n",
    "            commit=True,\n",
    "    ):\n",
    "        cur.execute(\n",
    "            \"\"\"\n",
    "            INSERT INTO ooni_web_connectivity_test\n",
    "            (blocking_type, probe_alpha2, input_url, anomaly, confirmed, report_id,  \n",
    "            input_ip_alpha2, tld_jurisdiction_alpha2, measurement_start_time)   \n",
    "            VALUES\n",
    "            (%s, %s, %s, %s, %s, %s, %s, %s, %s)   \n",
    "            \"\"\", (self.blocking_type,\n",
    "                  self.probe_alpha2,\n",
    "                  self.input_url,\n",
    "                  self.anomaly,\n",
    "                  self.confirmed,\n",
    "                  self.report_id,\n",
    "                  self.input_ip_alpha2,\n",
    "                  self.tld_jurisdiction_alpha2,\n",
    "                  self.measurement_start_time))\n",
    "        if commit:\n",
    "            return conn.commit()\n",
    "        return\n",
    "\n",
    "    def __str__(self):\n",
    "        # TODO make DRY with write_to_db?\n",
    "        # TODO do this in general?\n",
    "        return f'{self.measurement_start_time} - {self.probe_alpha2} -> {self.input_ip_alpha2}, {self.tld_jurisdiction_alpha2} ({self.blocking_type} {self.input_url})'\n",
    "\n",
    "    def __repr__(self):\n",
    "        return self.__str__()\n"
   ]
  },
  {
   "cell_type": "markdown",
   "metadata": {},
   "source": [
    "# Marshall from datatype"
   ]
  },
  {
   "cell_type": "code",
   "execution_count": 32,
   "metadata": {},
   "outputs": [
    {
     "data": {
      "text/plain": [
       "2021-05-25 19:59:29+00:00 - BR -> US, US (dns http://www.bajstock.com/)"
      ]
     },
     "execution_count": 32,
     "metadata": {},
     "output_type": "execute_result"
    }
   ],
   "source": [
    "def ingest_api_measurement (measurement: dict) -> OONIWebConnectivityTest:\n",
    "    blocking_type = get_blocking_type(measurement)\n",
    "    probe_alpha2 = Alpha2(measurement['probe_cc'])\n",
    "    input_url = measurement['input']\n",
    "    anomaly = measurement['anomaly']\n",
    "    confirmed = measurement['confirmed']\n",
    "    report_id = measurement['report_id']\n",
    "    input_ip_alpha2 = url_to_alpha2(input_url) \n",
    "    tld_jurisdiction_alpha2 = get_tld_jurisdiction(input_url)\n",
    "    measurement_start_time = pd.Timestamp(measurement['measurement_start_time'])\n",
    "    return OONIWebConnectivityTest(\n",
    "        blocking_type,\n",
    "        probe_alpha2,\n",
    "        input_url,\n",
    "        anomaly,\n",
    "        confirmed,\n",
    "        report_id,\n",
    "        input_ip_alpha2,\n",
    "        tld_jurisdiction_alpha2,\n",
    "        measurement_start_time\n",
    "    )\n",
    "\n",
    "ingest_api_measurement(measurements[0])"
   ]
  },
  {
   "cell_type": "code",
   "execution_count": 105,
   "metadata": {},
   "outputs": [],
   "source": [
    "from multiprocessing import Pool\n",
    "from typing import List\n",
    "\n",
    "def ingest_api_measurements (measurement: List[dict]) -> List[OONIWebConnectivityTest]:\n",
    "    with Pool() as p:\n",
    "        return p.map(ingest_api_measurement, measurements)"
   ]
  },
  {
   "cell_type": "markdown",
   "metadata": {},
   "source": [
    "# Test it with the DB"
   ]
  },
  {
   "cell_type": "code",
   "execution_count": 33,
   "metadata": {},
   "outputs": [],
   "source": [
    "from config import config"
   ]
  },
  {
   "cell_type": "code",
   "execution_count": 34,
   "metadata": {},
   "outputs": [
    {
     "name": "stderr",
     "output_type": "stream",
     "text": [
      "2021-05-25 13:02:13 congratulations root[4205] INFO Connected to database.\n"
     ]
    }
   ],
   "source": [
    "import psycopg2\n",
    "\n",
    "# connect to the db\n",
    "my_connection = psycopg2.connect(**config['postgres'])\n",
    "my_cursor = my_connection.cursor()\n",
    "logging.info('Connected to database.')"
   ]
  },
  {
   "cell_type": "code",
   "execution_count": 35,
   "metadata": {
    "collapsed": true
   },
   "outputs": [
    {
     "ename": "ProgrammingError",
     "evalue": "relation \"ooni_web_connectivity_test\" already exists\n",
     "output_type": "error",
     "traceback": [
      "\u001b[0;31m---------------------------------------------------------------------------\u001b[0m",
      "\u001b[0;31mProgrammingError\u001b[0m                          Traceback (most recent call last)",
      "\u001b[0;32m<ipython-input-35-827aad29e7ab>\u001b[0m in \u001b[0;36m<module>\u001b[0;34m()\u001b[0m\n\u001b[1;32m     10\u001b[0m     \u001b[0mAlpha2\u001b[0m\u001b[0;34m(\u001b[0m\u001b[0;34m'US'\u001b[0m\u001b[0;34m)\u001b[0m\u001b[0;34m,\u001b[0m\u001b[0;34m\u001b[0m\u001b[0;34m\u001b[0m\u001b[0m\n\u001b[1;32m     11\u001b[0m     \u001b[0mpd\u001b[0m\u001b[0;34m.\u001b[0m\u001b[0mTimestamp\u001b[0m\u001b[0;34m(\u001b[0m\u001b[0;34m'2000-01-01 21:41:37+00:00'\u001b[0m\u001b[0;34m)\u001b[0m\u001b[0;34m\u001b[0m\u001b[0;34m\u001b[0m\u001b[0m\n\u001b[0;32m---> 12\u001b[0;31m ).create_table(my_cursor, my_connection)\n\u001b[0m",
      "\u001b[0;32m<ipython-input-31-0680899ddcf5>\u001b[0m in \u001b[0;36mcreate_table\u001b[0;34m(self, cur, conn)\u001b[0m\n\u001b[1;32m     84\u001b[0m           )\n\u001b[1;32m     85\u001b[0m         \"\"\"\n\u001b[0;32m---> 86\u001b[0;31m         \u001b[0mcur\u001b[0m\u001b[0;34m.\u001b[0m\u001b[0mexecute\u001b[0m\u001b[0;34m(\u001b[0m\u001b[0mcmd\u001b[0m\u001b[0;34m)\u001b[0m\u001b[0;34m\u001b[0m\u001b[0;34m\u001b[0m\u001b[0m\n\u001b[0m\u001b[1;32m     87\u001b[0m         \u001b[0mconn\u001b[0m\u001b[0;34m.\u001b[0m\u001b[0mcommit\u001b[0m\u001b[0;34m(\u001b[0m\u001b[0;34m)\u001b[0m\u001b[0;34m\u001b[0m\u001b[0;34m\u001b[0m\u001b[0m\n\u001b[1;32m     88\u001b[0m \u001b[0;34m\u001b[0m\u001b[0m\n",
      "\u001b[0;31mProgrammingError\u001b[0m: relation \"ooni_web_connectivity_test\" already exists\n"
     ]
    }
   ],
   "source": [
    "# dummy data\n",
    "OONIWebConnectivityTest(\n",
    "    'example',\n",
    "    Alpha2('US'),\n",
    "    'example',\n",
    "    False,\n",
    "    False,\n",
    "    'example',\n",
    "    Alpha2('US'),\n",
    "    Alpha2('US'),\n",
    "    pd.Timestamp('2000-01-01 21:41:37+00:00')\n",
    ").create_table(my_cursor, my_connection)"
   ]
  },
  {
   "cell_type": "code",
   "execution_count": 36,
   "metadata": {},
   "outputs": [],
   "source": [
    "def rollback():\n",
    "    my_cursor.execute(\"ROLLBACK\")\n",
    "    my_connection.commit()"
   ]
  },
  {
   "cell_type": "code",
   "execution_count": 42,
   "metadata": {},
   "outputs": [],
   "source": [
    "rollback()\n",
    "# test = None\n",
    "# for mt in my_types:\n",
    "#     try:\n",
    "#         mt.write_to_db(my_cursor, my_connection, commit=False) \n",
    "#     except Exception as e:\n",
    "#         test = mt\n",
    "#         print(mt)\n",
    "#         print(e)\n",
    "#         break\n",
    "        "
   ]
  },
  {
   "cell_type": "code",
   "execution_count": 38,
   "metadata": {},
   "outputs": [],
   "source": [
    "# my_connection.commit()"
   ]
  },
  {
   "cell_type": "markdown",
   "metadata": {},
   "source": [
    "# Set up a flow"
   ]
  },
  {
   "cell_type": "code",
   "execution_count": 146,
   "metadata": {},
   "outputs": [
    {
     "data": {
      "text/plain": [
       "datetime.datetime(2021, 5, 25, 13, 58, 5, tzinfo=psycopg2.tz.FixedOffsetTimezone(offset=-420, name=None))"
      ]
     },
     "execution_count": 146,
     "metadata": {},
     "output_type": "execute_result"
    }
   ],
   "source": [
    "from datetime import datetime\n",
    "\n",
    "def get_latest_reading_time (cur: cursor) -> datetime:\n",
    "    '''Get time of most recent measurement'''\n",
    "    cur.execute('SELECT measurement_start_time from ooni_web_connectivity_test ORDER BY measurement_start_time DESC')\n",
    "    return cur.fetchone()[0]\n",
    "    \n",
    "most_recent_reading = get_latest_reading_time(my_cursor)\n",
    "most_recent_reading"
   ]
  },
  {
   "cell_type": "code",
   "execution_count": 193,
   "metadata": {},
   "outputs": [
    {
     "name": "stderr",
     "output_type": "stream",
     "text": [
      "2021-05-25 14:07:44 congratulations urllib3.connectionpool[4205] DEBUG Starting new HTTPS connection (1): api.ooni.io:443\n",
      "2021-05-25 14:07:45 congratulations urllib3.connectionpool[4205] DEBUG https://api.ooni.io:443 \"GET /api/v1/measurements?test_name=web_connectivity&anomaly=true&order_by=test_start_time&limit=1000&since=2021-05-25T20:58:05 HTTP/1.1\" 200 83224\n"
     ]
    }
   ],
   "source": [
    "import pytz\n",
    "\n",
    "def query_measurements_after (time: datetime) -> list:\n",
    "    '''Queries all measurements after time.'''\n",
    "    def to_utc (t: datetime) -> datetime:\n",
    "        return most_recent_reading.astimezone(pytz.utc)\n",
    "    def fmt_dt (t: datetime):\n",
    "        return t.strftime(\"%Y-%m-%dT%H:%M:%S\")\n",
    "    # format timezone-aware date into UTC fo querying\n",
    "    utc_dt = to_utc(time)\n",
    "    # format it into the query url\n",
    "    dt_str = fmt_dt(utc_dt)\n",
    "    query_str = base_query + f'&since={dt_str}'\n",
    "    # issue the query\n",
    "    return api_query(query_str)\n",
    "\n",
    "ms  = query_measurements_after(most_recent_reading)"
   ]
  },
  {
   "cell_type": "code",
   "execution_count": 194,
   "metadata": {},
   "outputs": [
    {
     "data": {
      "text/plain": [
       "{'anomaly': True,\n",
       " 'confirmed': False,\n",
       " 'failure': False,\n",
       " 'input': 'https://boerse.to/',\n",
       " 'measurement_start_time': '2021-05-25T21:07:40Z',\n",
       " 'measurement_url': 'https://ams-pg.ooni.org/api/v1/raw_measurement?report_id=20210525T210332Z_webconnectivity_DE_6830_n1_BKA9by9RMEHHooXq&input=https%3A%2F%2Fboerse.to%2F',\n",
       " 'probe_asn': 'AS6830',\n",
       " 'probe_cc': 'DE',\n",
       " 'report_id': '20210525T210332Z_webconnectivity_DE_6830_n1_BKA9by9RMEHHooXq',\n",
       " 'scores': {'analysis': {'blocking_type': 'dns'},\n",
       "  'blocking_country': 0.0,\n",
       "  'blocking_general': 1.0,\n",
       "  'blocking_global': 0.0,\n",
       "  'blocking_isp': 0.0,\n",
       "  'blocking_local': 0.0},\n",
       " 'test_name': 'web_connectivity'}"
      ]
     },
     "execution_count": 194,
     "metadata": {},
     "output_type": "execute_result"
    }
   ],
   "source": [
    "# first is most recent reading - that looks good\n",
    "ms[0]"
   ]
  },
  {
   "cell_type": "code",
   "execution_count": 188,
   "metadata": {},
   "outputs": [
    {
     "data": {
      "text/plain": [
       "('dns',\n",
       " 'IT',\n",
       " 'http://livesport.sx/',\n",
       " True,\n",
       " False,\n",
       " '20210525T205634Z_webconnectivity_IT_30722_n1_k5cVnE4zr72obnGi',\n",
       " 'DE',\n",
       " 'SX',\n",
       " datetime.datetime(2021, 5, 25, 13, 58, 5, tzinfo=psycopg2.tz.FixedOffsetTimezone(offset=-420, name=None)))"
      ]
     },
     "execution_count": 188,
     "metadata": {},
     "output_type": "execute_result"
    }
   ],
   "source": [
    "rollback()\n",
    "my_cursor.execute('SELECT * from ooni_web_connectivity_test order by measurement_start_time desc')\n",
    "my_cursor.fetchone()"
   ]
  },
  {
   "cell_type": "code",
   "execution_count": 169,
   "metadata": {},
   "outputs": [],
   "source": [
    "ingested = ingest_api_measurement(ms[0])\n",
    "ingested.write_to_db(my_cursor, my_connection, commit=True)"
   ]
  },
  {
   "cell_type": "code",
   "execution_count": 118,
   "metadata": {},
   "outputs": [],
   "source": [
    "def write_to_db (cur: cursor, conn: connection, connectivity_tests: List[OONIWebConnectivityTest]) -> None:\n",
    "    for t in connectivity_tests:\n",
    "        t.write_to_db(cur, conn, commit=False) \n",
    "    conn.commit()\n"
   ]
  },
  {
   "cell_type": "code",
   "execution_count": null,
   "metadata": {},
   "outputs": [],
   "source": [
    "write_to_db(my_cursor, my_connection, ooni_web_connectivity_tests)"
   ]
  },
  {
   "cell_type": "markdown",
   "metadata": {},
   "source": [
    "# Tying it all together"
   ]
  },
  {
   "cell_type": "code",
   "execution_count": 120,
   "metadata": {},
   "outputs": [],
   "source": [
    "def scrape (cur: cursor, conn: connection) -> None:\n",
    "    t = get_latest_reading_time(cur)\n",
    "    ms = query_measurements_after(t)\n",
    "    ingested = ingest_api_measurements(ms)\n",
    "    return write_to_db(cur, conn, ingested)"
   ]
  },
  {
   "cell_type": "code",
   "execution_count": 121,
   "metadata": {},
   "outputs": [
    {
     "name": "stderr",
     "output_type": "stream",
     "text": [
      "2021-05-25 13:56:50 congratulations urllib3.connectionpool[4205] DEBUG Starting new HTTPS connection (1): api.ooni.io:443\n",
      "2021-05-25 13:56:51 congratulations urllib3.connectionpool[4205] DEBUG https://api.ooni.io:443 \"GET /api/v1/measurements?test_name=web_connectivity&anomaly=true&order_by=test_start_time&limit=1000&since=2021-05-25T13:19:18 HTTP/1.1\" 200 823646\n",
      "2021-05-25 13:56:55 congratulations urllib3.connectionpool[4205] DEBUG Starting new HTTPS connection (1): api.ooni.io:443\n"
     ]
    },
    {
     "name": "stdout",
     "output_type": "stream",
     "text": [
      "next URL measurements?test_name=web_connectivity&anomaly=true&order_by=test_start_time&limit=1000&since=2021-05-25T13%3A19%3A18&offset=1000\n"
     ]
    },
    {
     "name": "stderr",
     "output_type": "stream",
     "text": [
      "2021-05-25 13:56:56 congratulations urllib3.connectionpool[4205] DEBUG https://api.ooni.io:443 \"GET /api/v1/measurements?test_name=web_connectivity&anomaly=true&order_by=test_start_time&limit=1000&since=2021-05-25T13%3A19%3A18&offset=1000 HTTP/1.1\" 200 828557\n",
      "2021-05-25 13:57:00 congratulations urllib3.connectionpool[4205] DEBUG Starting new HTTPS connection (1): api.ooni.io:443\n"
     ]
    },
    {
     "name": "stdout",
     "output_type": "stream",
     "text": [
      "next URL measurements?test_name=web_connectivity&anomaly=true&order_by=test_start_time&limit=1000&since=2021-05-25T13%3A19%3A18&offset=2000\n"
     ]
    },
    {
     "ename": "KeyboardInterrupt",
     "evalue": "",
     "output_type": "error",
     "traceback": [
      "\u001b[0;31m---------------------------------------------------------------------------\u001b[0m",
      "\u001b[0;31mKeyboardInterrupt\u001b[0m                         Traceback (most recent call last)",
      "\u001b[0;32m<ipython-input-121-87499e53da34>\u001b[0m in \u001b[0;36m<module>\u001b[0;34m()\u001b[0m\n\u001b[0;32m----> 1\u001b[0;31m \u001b[0mscrape\u001b[0m\u001b[0;34m(\u001b[0m\u001b[0mmy_cursor\u001b[0m\u001b[0;34m,\u001b[0m \u001b[0mmy_connection\u001b[0m\u001b[0;34m)\u001b[0m\u001b[0;34m\u001b[0m\u001b[0;34m\u001b[0m\u001b[0m\n\u001b[0m",
      "\u001b[0;32m<ipython-input-120-49ba5f4a68c6>\u001b[0m in \u001b[0;36mscrape\u001b[0;34m(cur, conn)\u001b[0m\n\u001b[1;32m      1\u001b[0m \u001b[0;32mdef\u001b[0m \u001b[0mscrape\u001b[0m \u001b[0;34m(\u001b[0m\u001b[0mcur\u001b[0m\u001b[0;34m:\u001b[0m \u001b[0mcursor\u001b[0m\u001b[0;34m,\u001b[0m \u001b[0mconn\u001b[0m\u001b[0;34m:\u001b[0m \u001b[0mconnection\u001b[0m\u001b[0;34m)\u001b[0m \u001b[0;34m->\u001b[0m \u001b[0;32mNone\u001b[0m\u001b[0;34m:\u001b[0m\u001b[0;34m\u001b[0m\u001b[0;34m\u001b[0m\u001b[0m\n\u001b[1;32m      2\u001b[0m     \u001b[0mt\u001b[0m \u001b[0;34m=\u001b[0m \u001b[0mget_latest_reading_time\u001b[0m\u001b[0;34m(\u001b[0m\u001b[0mcur\u001b[0m\u001b[0;34m)\u001b[0m\u001b[0;34m\u001b[0m\u001b[0;34m\u001b[0m\u001b[0m\n\u001b[0;32m----> 3\u001b[0;31m     \u001b[0mms\u001b[0m \u001b[0;34m=\u001b[0m \u001b[0mquery_measurements_after\u001b[0m\u001b[0;34m(\u001b[0m\u001b[0mt\u001b[0m\u001b[0;34m)\u001b[0m\u001b[0;34m\u001b[0m\u001b[0;34m\u001b[0m\u001b[0m\n\u001b[0m\u001b[1;32m      4\u001b[0m     \u001b[0mingested\u001b[0m \u001b[0;34m=\u001b[0m \u001b[0mingest_api_measurements\u001b[0m\u001b[0;34m(\u001b[0m\u001b[0mms\u001b[0m\u001b[0;34m)\u001b[0m\u001b[0;34m\u001b[0m\u001b[0;34m\u001b[0m\u001b[0m\n\u001b[1;32m      5\u001b[0m     \u001b[0;32mreturn\u001b[0m \u001b[0mwrite_to_db\u001b[0m\u001b[0;34m(\u001b[0m\u001b[0mcur\u001b[0m\u001b[0;34m,\u001b[0m \u001b[0mconn\u001b[0m\u001b[0;34m,\u001b[0m \u001b[0mingested\u001b[0m\u001b[0;34m)\u001b[0m\u001b[0;34m\u001b[0m\u001b[0;34m\u001b[0m\u001b[0m\n",
      "\u001b[0;32m<ipython-input-103-7a5a64971a31>\u001b[0m in \u001b[0;36mquery_measurements_after\u001b[0;34m(time)\u001b[0m\n\u001b[1;32m      6\u001b[0m         \u001b[0;32mreturn\u001b[0m \u001b[0mt\u001b[0m\u001b[0;34m.\u001b[0m\u001b[0mstrftime\u001b[0m\u001b[0;34m(\u001b[0m\u001b[0;34m\"%Y-%m-%dT%H:%M:%S\"\u001b[0m\u001b[0;34m)\u001b[0m\u001b[0;34m\u001b[0m\u001b[0;34m\u001b[0m\u001b[0m\n\u001b[1;32m      7\u001b[0m     \u001b[0mquery_str\u001b[0m \u001b[0;34m=\u001b[0m \u001b[0mbase_query\u001b[0m \u001b[0;34m+\u001b[0m \u001b[0;34m'&since={!s}'\u001b[0m\u001b[0;34m.\u001b[0m\u001b[0mformat\u001b[0m\u001b[0;34m(\u001b[0m\u001b[0mfmt_dt\u001b[0m\u001b[0;34m(\u001b[0m\u001b[0mtime\u001b[0m\u001b[0;34m)\u001b[0m\u001b[0;34m)\u001b[0m\u001b[0;34m\u001b[0m\u001b[0;34m\u001b[0m\u001b[0m\n\u001b[0;32m----> 8\u001b[0;31m     \u001b[0;32mreturn\u001b[0m \u001b[0mapi_query\u001b[0m\u001b[0;34m(\u001b[0m\u001b[0mquery_str\u001b[0m\u001b[0;34m)\u001b[0m\u001b[0;34m\u001b[0m\u001b[0;34m\u001b[0m\u001b[0m\n\u001b[0m\u001b[1;32m      9\u001b[0m \u001b[0;34m\u001b[0m\u001b[0m\n\u001b[1;32m     10\u001b[0m \u001b[0mms\u001b[0m  \u001b[0;34m=\u001b[0m \u001b[0mquery_measurements_after\u001b[0m\u001b[0;34m(\u001b[0m\u001b[0mmost_recent_reading\u001b[0m\u001b[0;34m)\u001b[0m\u001b[0;34m\u001b[0m\u001b[0;34m\u001b[0m\u001b[0m\n",
      "\u001b[0;32m<ipython-input-98-b86d6e48d230>\u001b[0m in \u001b[0;36mapi_query\u001b[0;34m(query, results, queries, max_queries)\u001b[0m\n\u001b[1;32m     17\u001b[0m             \u001b[0mnext_url\u001b[0m \u001b[0;34m=\u001b[0m \u001b[0mnext_url\u001b[0m\u001b[0;34m.\u001b[0m\u001b[0msplit\u001b[0m\u001b[0;34m(\u001b[0m\u001b[0;34m'api/v1/'\u001b[0m\u001b[0;34m)\u001b[0m\u001b[0;34m[\u001b[0m\u001b[0;36m1\u001b[0m\u001b[0;34m]\u001b[0m\u001b[0;34m\u001b[0m\u001b[0;34m\u001b[0m\u001b[0m\n\u001b[1;32m     18\u001b[0m             \u001b[0mprint\u001b[0m\u001b[0;34m(\u001b[0m\u001b[0;34m\"next URL\"\u001b[0m\u001b[0;34m,\u001b[0m \u001b[0mnext_url\u001b[0m\u001b[0;34m)\u001b[0m\u001b[0;34m\u001b[0m\u001b[0;34m\u001b[0m\u001b[0m\n\u001b[0;32m---> 19\u001b[0;31m             \u001b[0;32mreturn\u001b[0m \u001b[0mapi_query\u001b[0m\u001b[0;34m(\u001b[0m\u001b[0mnext_url\u001b[0m\u001b[0;34m,\u001b[0m \u001b[0mresults\u001b[0m\u001b[0;34m,\u001b[0m \u001b[0mqueries\u001b[0m\u001b[0;34m+\u001b[0m\u001b[0;36m1\u001b[0m\u001b[0;34m,\u001b[0m \u001b[0mmax_queries\u001b[0m\u001b[0;34m)\u001b[0m\u001b[0;34m\u001b[0m\u001b[0;34m\u001b[0m\u001b[0m\n\u001b[0m\u001b[1;32m     20\u001b[0m         \u001b[0;32mreturn\u001b[0m \u001b[0mresults\u001b[0m\u001b[0;34m\u001b[0m\u001b[0;34m\u001b[0m\u001b[0m\n\u001b[1;32m     21\u001b[0m     \u001b[0;32mexcept\u001b[0m \u001b[0mException\u001b[0m \u001b[0;32mas\u001b[0m \u001b[0minst\u001b[0m\u001b[0;34m:\u001b[0m\u001b[0;34m\u001b[0m\u001b[0;34m\u001b[0m\u001b[0m\n",
      "\u001b[0;32m<ipython-input-98-b86d6e48d230>\u001b[0m in \u001b[0;36mapi_query\u001b[0;34m(query, results, queries, max_queries)\u001b[0m\n\u001b[1;32m     17\u001b[0m             \u001b[0mnext_url\u001b[0m \u001b[0;34m=\u001b[0m \u001b[0mnext_url\u001b[0m\u001b[0;34m.\u001b[0m\u001b[0msplit\u001b[0m\u001b[0;34m(\u001b[0m\u001b[0;34m'api/v1/'\u001b[0m\u001b[0;34m)\u001b[0m\u001b[0;34m[\u001b[0m\u001b[0;36m1\u001b[0m\u001b[0;34m]\u001b[0m\u001b[0;34m\u001b[0m\u001b[0;34m\u001b[0m\u001b[0m\n\u001b[1;32m     18\u001b[0m             \u001b[0mprint\u001b[0m\u001b[0;34m(\u001b[0m\u001b[0;34m\"next URL\"\u001b[0m\u001b[0;34m,\u001b[0m \u001b[0mnext_url\u001b[0m\u001b[0;34m)\u001b[0m\u001b[0;34m\u001b[0m\u001b[0;34m\u001b[0m\u001b[0m\n\u001b[0;32m---> 19\u001b[0;31m             \u001b[0;32mreturn\u001b[0m \u001b[0mapi_query\u001b[0m\u001b[0;34m(\u001b[0m\u001b[0mnext_url\u001b[0m\u001b[0;34m,\u001b[0m \u001b[0mresults\u001b[0m\u001b[0;34m,\u001b[0m \u001b[0mqueries\u001b[0m\u001b[0;34m+\u001b[0m\u001b[0;36m1\u001b[0m\u001b[0;34m,\u001b[0m \u001b[0mmax_queries\u001b[0m\u001b[0;34m)\u001b[0m\u001b[0;34m\u001b[0m\u001b[0;34m\u001b[0m\u001b[0m\n\u001b[0m\u001b[1;32m     20\u001b[0m         \u001b[0;32mreturn\u001b[0m \u001b[0mresults\u001b[0m\u001b[0;34m\u001b[0m\u001b[0;34m\u001b[0m\u001b[0m\n\u001b[1;32m     21\u001b[0m     \u001b[0;32mexcept\u001b[0m \u001b[0mException\u001b[0m \u001b[0;32mas\u001b[0m \u001b[0minst\u001b[0m\u001b[0;34m:\u001b[0m\u001b[0;34m\u001b[0m\u001b[0;34m\u001b[0m\u001b[0m\n",
      "\u001b[0;32m<ipython-input-98-b86d6e48d230>\u001b[0m in \u001b[0;36mapi_query\u001b[0;34m(query, results, queries, max_queries)\u001b[0m\n\u001b[1;32m      6\u001b[0m     \u001b[0mquery\u001b[0m \u001b[0;34m=\u001b[0m \u001b[0;34m'{!s}{!s}'\u001b[0m\u001b[0;34m.\u001b[0m\u001b[0mformat\u001b[0m\u001b[0;34m(\u001b[0m\u001b[0mbase_url\u001b[0m\u001b[0;34m,\u001b[0m \u001b[0mquery\u001b[0m\u001b[0;34m)\u001b[0m\u001b[0;34m\u001b[0m\u001b[0;34m\u001b[0m\u001b[0m\n\u001b[1;32m      7\u001b[0m     \u001b[0;32mtry\u001b[0m\u001b[0;34m:\u001b[0m\u001b[0;34m\u001b[0m\u001b[0;34m\u001b[0m\u001b[0m\n\u001b[0;32m----> 8\u001b[0;31m         \u001b[0mresp\u001b[0m \u001b[0;34m=\u001b[0m  \u001b[0mrequests\u001b[0m\u001b[0;34m.\u001b[0m\u001b[0mget\u001b[0m\u001b[0;34m(\u001b[0m\u001b[0mquery\u001b[0m\u001b[0;34m)\u001b[0m\u001b[0;34m.\u001b[0m\u001b[0mjson\u001b[0m\u001b[0;34m(\u001b[0m\u001b[0;34m)\u001b[0m\u001b[0;34m\u001b[0m\u001b[0;34m\u001b[0m\u001b[0m\n\u001b[0m\u001b[1;32m      9\u001b[0m         \u001b[0mresults\u001b[0m \u001b[0;34m=\u001b[0m \u001b[0mresults\u001b[0m \u001b[0;34m+\u001b[0m \u001b[0mresp\u001b[0m\u001b[0;34m[\u001b[0m\u001b[0;34m'results'\u001b[0m\u001b[0;34m]\u001b[0m\u001b[0;34m\u001b[0m\u001b[0;34m\u001b[0m\u001b[0m\n\u001b[1;32m     10\u001b[0m         \u001b[0mnext_url\u001b[0m \u001b[0;34m=\u001b[0m \u001b[0mresp\u001b[0m\u001b[0;34m[\u001b[0m\u001b[0;34m'metadata'\u001b[0m\u001b[0;34m]\u001b[0m\u001b[0;34m[\u001b[0m\u001b[0;34m'next_url'\u001b[0m\u001b[0;34m]\u001b[0m\u001b[0;34m\u001b[0m\u001b[0;34m\u001b[0m\u001b[0m\n",
      "\u001b[0;32m~/.local/lib/python3.6/site-packages/requests/api.py\u001b[0m in \u001b[0;36mget\u001b[0;34m(url, params, **kwargs)\u001b[0m\n\u001b[1;32m     74\u001b[0m \u001b[0;34m\u001b[0m\u001b[0m\n\u001b[1;32m     75\u001b[0m     \u001b[0mkwargs\u001b[0m\u001b[0;34m.\u001b[0m\u001b[0msetdefault\u001b[0m\u001b[0;34m(\u001b[0m\u001b[0;34m'allow_redirects'\u001b[0m\u001b[0;34m,\u001b[0m \u001b[0;32mTrue\u001b[0m\u001b[0;34m)\u001b[0m\u001b[0;34m\u001b[0m\u001b[0;34m\u001b[0m\u001b[0m\n\u001b[0;32m---> 76\u001b[0;31m     \u001b[0;32mreturn\u001b[0m \u001b[0mrequest\u001b[0m\u001b[0;34m(\u001b[0m\u001b[0;34m'get'\u001b[0m\u001b[0;34m,\u001b[0m \u001b[0murl\u001b[0m\u001b[0;34m,\u001b[0m \u001b[0mparams\u001b[0m\u001b[0;34m=\u001b[0m\u001b[0mparams\u001b[0m\u001b[0;34m,\u001b[0m \u001b[0;34m**\u001b[0m\u001b[0mkwargs\u001b[0m\u001b[0;34m)\u001b[0m\u001b[0;34m\u001b[0m\u001b[0;34m\u001b[0m\u001b[0m\n\u001b[0m\u001b[1;32m     77\u001b[0m \u001b[0;34m\u001b[0m\u001b[0m\n\u001b[1;32m     78\u001b[0m \u001b[0;34m\u001b[0m\u001b[0m\n",
      "\u001b[0;32m~/.local/lib/python3.6/site-packages/requests/api.py\u001b[0m in \u001b[0;36mrequest\u001b[0;34m(method, url, **kwargs)\u001b[0m\n\u001b[1;32m     59\u001b[0m     \u001b[0;31m# cases, and look like a memory leak in others.\u001b[0m\u001b[0;34m\u001b[0m\u001b[0;34m\u001b[0m\u001b[0;34m\u001b[0m\u001b[0m\n\u001b[1;32m     60\u001b[0m     \u001b[0;32mwith\u001b[0m \u001b[0msessions\u001b[0m\u001b[0;34m.\u001b[0m\u001b[0mSession\u001b[0m\u001b[0;34m(\u001b[0m\u001b[0;34m)\u001b[0m \u001b[0;32mas\u001b[0m \u001b[0msession\u001b[0m\u001b[0;34m:\u001b[0m\u001b[0;34m\u001b[0m\u001b[0;34m\u001b[0m\u001b[0m\n\u001b[0;32m---> 61\u001b[0;31m         \u001b[0;32mreturn\u001b[0m \u001b[0msession\u001b[0m\u001b[0;34m.\u001b[0m\u001b[0mrequest\u001b[0m\u001b[0;34m(\u001b[0m\u001b[0mmethod\u001b[0m\u001b[0;34m=\u001b[0m\u001b[0mmethod\u001b[0m\u001b[0;34m,\u001b[0m \u001b[0murl\u001b[0m\u001b[0;34m=\u001b[0m\u001b[0murl\u001b[0m\u001b[0;34m,\u001b[0m \u001b[0;34m**\u001b[0m\u001b[0mkwargs\u001b[0m\u001b[0;34m)\u001b[0m\u001b[0;34m\u001b[0m\u001b[0;34m\u001b[0m\u001b[0m\n\u001b[0m\u001b[1;32m     62\u001b[0m \u001b[0;34m\u001b[0m\u001b[0m\n\u001b[1;32m     63\u001b[0m \u001b[0;34m\u001b[0m\u001b[0m\n",
      "\u001b[0;32m~/.local/lib/python3.6/site-packages/requests/sessions.py\u001b[0m in \u001b[0;36mrequest\u001b[0;34m(self, method, url, params, data, headers, cookies, files, auth, timeout, allow_redirects, proxies, hooks, stream, verify, cert, json)\u001b[0m\n\u001b[1;32m    540\u001b[0m         }\n\u001b[1;32m    541\u001b[0m         \u001b[0msend_kwargs\u001b[0m\u001b[0;34m.\u001b[0m\u001b[0mupdate\u001b[0m\u001b[0;34m(\u001b[0m\u001b[0msettings\u001b[0m\u001b[0;34m)\u001b[0m\u001b[0;34m\u001b[0m\u001b[0;34m\u001b[0m\u001b[0m\n\u001b[0;32m--> 542\u001b[0;31m         \u001b[0mresp\u001b[0m \u001b[0;34m=\u001b[0m \u001b[0mself\u001b[0m\u001b[0;34m.\u001b[0m\u001b[0msend\u001b[0m\u001b[0;34m(\u001b[0m\u001b[0mprep\u001b[0m\u001b[0;34m,\u001b[0m \u001b[0;34m**\u001b[0m\u001b[0msend_kwargs\u001b[0m\u001b[0;34m)\u001b[0m\u001b[0;34m\u001b[0m\u001b[0;34m\u001b[0m\u001b[0m\n\u001b[0m\u001b[1;32m    543\u001b[0m \u001b[0;34m\u001b[0m\u001b[0m\n\u001b[1;32m    544\u001b[0m         \u001b[0;32mreturn\u001b[0m \u001b[0mresp\u001b[0m\u001b[0;34m\u001b[0m\u001b[0;34m\u001b[0m\u001b[0m\n",
      "\u001b[0;32m~/.local/lib/python3.6/site-packages/requests/sessions.py\u001b[0m in \u001b[0;36msend\u001b[0;34m(self, request, **kwargs)\u001b[0m\n\u001b[1;32m    653\u001b[0m \u001b[0;34m\u001b[0m\u001b[0m\n\u001b[1;32m    654\u001b[0m         \u001b[0;31m# Send the request\u001b[0m\u001b[0;34m\u001b[0m\u001b[0;34m\u001b[0m\u001b[0;34m\u001b[0m\u001b[0m\n\u001b[0;32m--> 655\u001b[0;31m         \u001b[0mr\u001b[0m \u001b[0;34m=\u001b[0m \u001b[0madapter\u001b[0m\u001b[0;34m.\u001b[0m\u001b[0msend\u001b[0m\u001b[0;34m(\u001b[0m\u001b[0mrequest\u001b[0m\u001b[0;34m,\u001b[0m \u001b[0;34m**\u001b[0m\u001b[0mkwargs\u001b[0m\u001b[0;34m)\u001b[0m\u001b[0;34m\u001b[0m\u001b[0;34m\u001b[0m\u001b[0m\n\u001b[0m\u001b[1;32m    656\u001b[0m \u001b[0;34m\u001b[0m\u001b[0m\n\u001b[1;32m    657\u001b[0m         \u001b[0;31m# Total elapsed time of the request (approximately)\u001b[0m\u001b[0;34m\u001b[0m\u001b[0;34m\u001b[0m\u001b[0;34m\u001b[0m\u001b[0m\n",
      "\u001b[0;32m~/.local/lib/python3.6/site-packages/requests/adapters.py\u001b[0m in \u001b[0;36msend\u001b[0;34m(self, request, stream, timeout, verify, cert, proxies)\u001b[0m\n\u001b[1;32m    447\u001b[0m                     \u001b[0mdecode_content\u001b[0m\u001b[0;34m=\u001b[0m\u001b[0;32mFalse\u001b[0m\u001b[0;34m,\u001b[0m\u001b[0;34m\u001b[0m\u001b[0;34m\u001b[0m\u001b[0m\n\u001b[1;32m    448\u001b[0m                     \u001b[0mretries\u001b[0m\u001b[0;34m=\u001b[0m\u001b[0mself\u001b[0m\u001b[0;34m.\u001b[0m\u001b[0mmax_retries\u001b[0m\u001b[0;34m,\u001b[0m\u001b[0;34m\u001b[0m\u001b[0;34m\u001b[0m\u001b[0m\n\u001b[0;32m--> 449\u001b[0;31m                     \u001b[0mtimeout\u001b[0m\u001b[0;34m=\u001b[0m\u001b[0mtimeout\u001b[0m\u001b[0;34m\u001b[0m\u001b[0;34m\u001b[0m\u001b[0m\n\u001b[0m\u001b[1;32m    450\u001b[0m                 )\n\u001b[1;32m    451\u001b[0m \u001b[0;34m\u001b[0m\u001b[0m\n",
      "\u001b[0;32m~/.local/lib/python3.6/site-packages/urllib3/connectionpool.py\u001b[0m in \u001b[0;36murlopen\u001b[0;34m(self, method, url, body, headers, retries, redirect, assert_same_host, timeout, pool_timeout, release_conn, chunked, body_pos, **response_kw)\u001b[0m\n\u001b[1;32m    704\u001b[0m                 \u001b[0mbody\u001b[0m\u001b[0;34m=\u001b[0m\u001b[0mbody\u001b[0m\u001b[0;34m,\u001b[0m\u001b[0;34m\u001b[0m\u001b[0;34m\u001b[0m\u001b[0m\n\u001b[1;32m    705\u001b[0m                 \u001b[0mheaders\u001b[0m\u001b[0;34m=\u001b[0m\u001b[0mheaders\u001b[0m\u001b[0;34m,\u001b[0m\u001b[0;34m\u001b[0m\u001b[0;34m\u001b[0m\u001b[0m\n\u001b[0;32m--> 706\u001b[0;31m                 \u001b[0mchunked\u001b[0m\u001b[0;34m=\u001b[0m\u001b[0mchunked\u001b[0m\u001b[0;34m,\u001b[0m\u001b[0;34m\u001b[0m\u001b[0;34m\u001b[0m\u001b[0m\n\u001b[0m\u001b[1;32m    707\u001b[0m             )\n\u001b[1;32m    708\u001b[0m \u001b[0;34m\u001b[0m\u001b[0m\n",
      "\u001b[0;32m~/.local/lib/python3.6/site-packages/urllib3/connectionpool.py\u001b[0m in \u001b[0;36m_make_request\u001b[0;34m(self, conn, method, url, timeout, chunked, **httplib_request_kw)\u001b[0m\n\u001b[1;32m    443\u001b[0m                     \u001b[0;31m# Python 3 (including for exceptions like SystemExit).\u001b[0m\u001b[0;34m\u001b[0m\u001b[0;34m\u001b[0m\u001b[0;34m\u001b[0m\u001b[0m\n\u001b[1;32m    444\u001b[0m                     \u001b[0;31m# Otherwise it looks like a bug in the code.\u001b[0m\u001b[0;34m\u001b[0m\u001b[0;34m\u001b[0m\u001b[0;34m\u001b[0m\u001b[0m\n\u001b[0;32m--> 445\u001b[0;31m                     \u001b[0msix\u001b[0m\u001b[0;34m.\u001b[0m\u001b[0mraise_from\u001b[0m\u001b[0;34m(\u001b[0m\u001b[0me\u001b[0m\u001b[0;34m,\u001b[0m \u001b[0;32mNone\u001b[0m\u001b[0;34m)\u001b[0m\u001b[0;34m\u001b[0m\u001b[0;34m\u001b[0m\u001b[0m\n\u001b[0m\u001b[1;32m    446\u001b[0m         \u001b[0;32mexcept\u001b[0m \u001b[0;34m(\u001b[0m\u001b[0mSocketTimeout\u001b[0m\u001b[0;34m,\u001b[0m \u001b[0mBaseSSLError\u001b[0m\u001b[0;34m,\u001b[0m \u001b[0mSocketError\u001b[0m\u001b[0;34m)\u001b[0m \u001b[0;32mas\u001b[0m \u001b[0me\u001b[0m\u001b[0;34m:\u001b[0m\u001b[0;34m\u001b[0m\u001b[0;34m\u001b[0m\u001b[0m\n\u001b[1;32m    447\u001b[0m             \u001b[0mself\u001b[0m\u001b[0;34m.\u001b[0m\u001b[0m_raise_timeout\u001b[0m\u001b[0;34m(\u001b[0m\u001b[0merr\u001b[0m\u001b[0;34m=\u001b[0m\u001b[0me\u001b[0m\u001b[0;34m,\u001b[0m \u001b[0murl\u001b[0m\u001b[0;34m=\u001b[0m\u001b[0murl\u001b[0m\u001b[0;34m,\u001b[0m \u001b[0mtimeout_value\u001b[0m\u001b[0;34m=\u001b[0m\u001b[0mread_timeout\u001b[0m\u001b[0;34m)\u001b[0m\u001b[0;34m\u001b[0m\u001b[0;34m\u001b[0m\u001b[0m\n",
      "\u001b[0;32m~/.local/lib/python3.6/site-packages/urllib3/packages/six.py\u001b[0m in \u001b[0;36mraise_from\u001b[0;34m(value, from_value)\u001b[0m\n",
      "\u001b[0;32m~/.local/lib/python3.6/site-packages/urllib3/connectionpool.py\u001b[0m in \u001b[0;36m_make_request\u001b[0;34m(self, conn, method, url, timeout, chunked, **httplib_request_kw)\u001b[0m\n\u001b[1;32m    438\u001b[0m                 \u001b[0;31m# Python 3\u001b[0m\u001b[0;34m\u001b[0m\u001b[0;34m\u001b[0m\u001b[0;34m\u001b[0m\u001b[0m\n\u001b[1;32m    439\u001b[0m                 \u001b[0;32mtry\u001b[0m\u001b[0;34m:\u001b[0m\u001b[0;34m\u001b[0m\u001b[0;34m\u001b[0m\u001b[0m\n\u001b[0;32m--> 440\u001b[0;31m                     \u001b[0mhttplib_response\u001b[0m \u001b[0;34m=\u001b[0m \u001b[0mconn\u001b[0m\u001b[0;34m.\u001b[0m\u001b[0mgetresponse\u001b[0m\u001b[0;34m(\u001b[0m\u001b[0;34m)\u001b[0m\u001b[0;34m\u001b[0m\u001b[0;34m\u001b[0m\u001b[0m\n\u001b[0m\u001b[1;32m    441\u001b[0m                 \u001b[0;32mexcept\u001b[0m \u001b[0mBaseException\u001b[0m \u001b[0;32mas\u001b[0m \u001b[0me\u001b[0m\u001b[0;34m:\u001b[0m\u001b[0;34m\u001b[0m\u001b[0;34m\u001b[0m\u001b[0m\n\u001b[1;32m    442\u001b[0m                     \u001b[0;31m# Remove the TypeError from the exception chain in\u001b[0m\u001b[0;34m\u001b[0m\u001b[0;34m\u001b[0m\u001b[0;34m\u001b[0m\u001b[0m\n",
      "\u001b[0;32m/usr/lib/python3.6/http/client.py\u001b[0m in \u001b[0;36mgetresponse\u001b[0;34m(self)\u001b[0m\n\u001b[1;32m   1371\u001b[0m         \u001b[0;32mtry\u001b[0m\u001b[0;34m:\u001b[0m\u001b[0;34m\u001b[0m\u001b[0;34m\u001b[0m\u001b[0m\n\u001b[1;32m   1372\u001b[0m             \u001b[0;32mtry\u001b[0m\u001b[0;34m:\u001b[0m\u001b[0;34m\u001b[0m\u001b[0;34m\u001b[0m\u001b[0m\n\u001b[0;32m-> 1373\u001b[0;31m                 \u001b[0mresponse\u001b[0m\u001b[0;34m.\u001b[0m\u001b[0mbegin\u001b[0m\u001b[0;34m(\u001b[0m\u001b[0;34m)\u001b[0m\u001b[0;34m\u001b[0m\u001b[0;34m\u001b[0m\u001b[0m\n\u001b[0m\u001b[1;32m   1374\u001b[0m             \u001b[0;32mexcept\u001b[0m \u001b[0mConnectionError\u001b[0m\u001b[0;34m:\u001b[0m\u001b[0;34m\u001b[0m\u001b[0;34m\u001b[0m\u001b[0m\n\u001b[1;32m   1375\u001b[0m                 \u001b[0mself\u001b[0m\u001b[0;34m.\u001b[0m\u001b[0mclose\u001b[0m\u001b[0;34m(\u001b[0m\u001b[0;34m)\u001b[0m\u001b[0;34m\u001b[0m\u001b[0;34m\u001b[0m\u001b[0m\n",
      "\u001b[0;32m/usr/lib/python3.6/http/client.py\u001b[0m in \u001b[0;36mbegin\u001b[0;34m(self)\u001b[0m\n\u001b[1;32m    309\u001b[0m         \u001b[0;31m# read until we get a non-100 response\u001b[0m\u001b[0;34m\u001b[0m\u001b[0;34m\u001b[0m\u001b[0;34m\u001b[0m\u001b[0m\n\u001b[1;32m    310\u001b[0m         \u001b[0;32mwhile\u001b[0m \u001b[0;32mTrue\u001b[0m\u001b[0;34m:\u001b[0m\u001b[0;34m\u001b[0m\u001b[0;34m\u001b[0m\u001b[0m\n\u001b[0;32m--> 311\u001b[0;31m             \u001b[0mversion\u001b[0m\u001b[0;34m,\u001b[0m \u001b[0mstatus\u001b[0m\u001b[0;34m,\u001b[0m \u001b[0mreason\u001b[0m \u001b[0;34m=\u001b[0m \u001b[0mself\u001b[0m\u001b[0;34m.\u001b[0m\u001b[0m_read_status\u001b[0m\u001b[0;34m(\u001b[0m\u001b[0;34m)\u001b[0m\u001b[0;34m\u001b[0m\u001b[0;34m\u001b[0m\u001b[0m\n\u001b[0m\u001b[1;32m    312\u001b[0m             \u001b[0;32mif\u001b[0m \u001b[0mstatus\u001b[0m \u001b[0;34m!=\u001b[0m \u001b[0mCONTINUE\u001b[0m\u001b[0;34m:\u001b[0m\u001b[0;34m\u001b[0m\u001b[0;34m\u001b[0m\u001b[0m\n\u001b[1;32m    313\u001b[0m                 \u001b[0;32mbreak\u001b[0m\u001b[0;34m\u001b[0m\u001b[0;34m\u001b[0m\u001b[0m\n",
      "\u001b[0;32m/usr/lib/python3.6/http/client.py\u001b[0m in \u001b[0;36m_read_status\u001b[0;34m(self)\u001b[0m\n\u001b[1;32m    270\u001b[0m \u001b[0;34m\u001b[0m\u001b[0m\n\u001b[1;32m    271\u001b[0m     \u001b[0;32mdef\u001b[0m \u001b[0m_read_status\u001b[0m\u001b[0;34m(\u001b[0m\u001b[0mself\u001b[0m\u001b[0;34m)\u001b[0m\u001b[0;34m:\u001b[0m\u001b[0;34m\u001b[0m\u001b[0;34m\u001b[0m\u001b[0m\n\u001b[0;32m--> 272\u001b[0;31m         \u001b[0mline\u001b[0m \u001b[0;34m=\u001b[0m \u001b[0mstr\u001b[0m\u001b[0;34m(\u001b[0m\u001b[0mself\u001b[0m\u001b[0;34m.\u001b[0m\u001b[0mfp\u001b[0m\u001b[0;34m.\u001b[0m\u001b[0mreadline\u001b[0m\u001b[0;34m(\u001b[0m\u001b[0m_MAXLINE\u001b[0m \u001b[0;34m+\u001b[0m \u001b[0;36m1\u001b[0m\u001b[0;34m)\u001b[0m\u001b[0;34m,\u001b[0m \u001b[0;34m\"iso-8859-1\"\u001b[0m\u001b[0;34m)\u001b[0m\u001b[0;34m\u001b[0m\u001b[0;34m\u001b[0m\u001b[0m\n\u001b[0m\u001b[1;32m    273\u001b[0m         \u001b[0;32mif\u001b[0m \u001b[0mlen\u001b[0m\u001b[0;34m(\u001b[0m\u001b[0mline\u001b[0m\u001b[0;34m)\u001b[0m \u001b[0;34m>\u001b[0m \u001b[0m_MAXLINE\u001b[0m\u001b[0;34m:\u001b[0m\u001b[0;34m\u001b[0m\u001b[0;34m\u001b[0m\u001b[0m\n\u001b[1;32m    274\u001b[0m             \u001b[0;32mraise\u001b[0m \u001b[0mLineTooLong\u001b[0m\u001b[0;34m(\u001b[0m\u001b[0;34m\"status line\"\u001b[0m\u001b[0;34m)\u001b[0m\u001b[0;34m\u001b[0m\u001b[0;34m\u001b[0m\u001b[0m\n",
      "\u001b[0;32m/usr/lib/python3.6/socket.py\u001b[0m in \u001b[0;36mreadinto\u001b[0;34m(self, b)\u001b[0m\n\u001b[1;32m    584\u001b[0m         \u001b[0;32mwhile\u001b[0m \u001b[0;32mTrue\u001b[0m\u001b[0;34m:\u001b[0m\u001b[0;34m\u001b[0m\u001b[0;34m\u001b[0m\u001b[0m\n\u001b[1;32m    585\u001b[0m             \u001b[0;32mtry\u001b[0m\u001b[0;34m:\u001b[0m\u001b[0;34m\u001b[0m\u001b[0;34m\u001b[0m\u001b[0m\n\u001b[0;32m--> 586\u001b[0;31m                 \u001b[0;32mreturn\u001b[0m \u001b[0mself\u001b[0m\u001b[0;34m.\u001b[0m\u001b[0m_sock\u001b[0m\u001b[0;34m.\u001b[0m\u001b[0mrecv_into\u001b[0m\u001b[0;34m(\u001b[0m\u001b[0mb\u001b[0m\u001b[0;34m)\u001b[0m\u001b[0;34m\u001b[0m\u001b[0;34m\u001b[0m\u001b[0m\n\u001b[0m\u001b[1;32m    587\u001b[0m             \u001b[0;32mexcept\u001b[0m \u001b[0mtimeout\u001b[0m\u001b[0;34m:\u001b[0m\u001b[0;34m\u001b[0m\u001b[0;34m\u001b[0m\u001b[0m\n\u001b[1;32m    588\u001b[0m                 \u001b[0mself\u001b[0m\u001b[0;34m.\u001b[0m\u001b[0m_timeout_occurred\u001b[0m \u001b[0;34m=\u001b[0m \u001b[0;32mTrue\u001b[0m\u001b[0;34m\u001b[0m\u001b[0;34m\u001b[0m\u001b[0m\n",
      "\u001b[0;32m/usr/lib/python3.6/ssl.py\u001b[0m in \u001b[0;36mrecv_into\u001b[0;34m(self, buffer, nbytes, flags)\u001b[0m\n\u001b[1;32m   1010\u001b[0m                   \u001b[0;34m\"non-zero flags not allowed in calls to recv_into() on %s\"\u001b[0m \u001b[0;34m%\u001b[0m\u001b[0;34m\u001b[0m\u001b[0;34m\u001b[0m\u001b[0m\n\u001b[1;32m   1011\u001b[0m                   self.__class__)\n\u001b[0;32m-> 1012\u001b[0;31m             \u001b[0;32mreturn\u001b[0m \u001b[0mself\u001b[0m\u001b[0;34m.\u001b[0m\u001b[0mread\u001b[0m\u001b[0;34m(\u001b[0m\u001b[0mnbytes\u001b[0m\u001b[0;34m,\u001b[0m \u001b[0mbuffer\u001b[0m\u001b[0;34m)\u001b[0m\u001b[0;34m\u001b[0m\u001b[0;34m\u001b[0m\u001b[0m\n\u001b[0m\u001b[1;32m   1013\u001b[0m         \u001b[0;32melse\u001b[0m\u001b[0;34m:\u001b[0m\u001b[0;34m\u001b[0m\u001b[0;34m\u001b[0m\u001b[0m\n\u001b[1;32m   1014\u001b[0m             \u001b[0;32mreturn\u001b[0m \u001b[0msocket\u001b[0m\u001b[0;34m.\u001b[0m\u001b[0mrecv_into\u001b[0m\u001b[0;34m(\u001b[0m\u001b[0mself\u001b[0m\u001b[0;34m,\u001b[0m \u001b[0mbuffer\u001b[0m\u001b[0;34m,\u001b[0m \u001b[0mnbytes\u001b[0m\u001b[0;34m,\u001b[0m \u001b[0mflags\u001b[0m\u001b[0;34m)\u001b[0m\u001b[0;34m\u001b[0m\u001b[0;34m\u001b[0m\u001b[0m\n",
      "\u001b[0;32m/usr/lib/python3.6/ssl.py\u001b[0m in \u001b[0;36mread\u001b[0;34m(self, len, buffer)\u001b[0m\n\u001b[1;32m    872\u001b[0m             \u001b[0;32mraise\u001b[0m \u001b[0mValueError\u001b[0m\u001b[0;34m(\u001b[0m\u001b[0;34m\"Read on closed or unwrapped SSL socket.\"\u001b[0m\u001b[0;34m)\u001b[0m\u001b[0;34m\u001b[0m\u001b[0;34m\u001b[0m\u001b[0m\n\u001b[1;32m    873\u001b[0m         \u001b[0;32mtry\u001b[0m\u001b[0;34m:\u001b[0m\u001b[0;34m\u001b[0m\u001b[0;34m\u001b[0m\u001b[0m\n\u001b[0;32m--> 874\u001b[0;31m             \u001b[0;32mreturn\u001b[0m \u001b[0mself\u001b[0m\u001b[0;34m.\u001b[0m\u001b[0m_sslobj\u001b[0m\u001b[0;34m.\u001b[0m\u001b[0mread\u001b[0m\u001b[0;34m(\u001b[0m\u001b[0mlen\u001b[0m\u001b[0;34m,\u001b[0m \u001b[0mbuffer\u001b[0m\u001b[0;34m)\u001b[0m\u001b[0;34m\u001b[0m\u001b[0;34m\u001b[0m\u001b[0m\n\u001b[0m\u001b[1;32m    875\u001b[0m         \u001b[0;32mexcept\u001b[0m \u001b[0mSSLError\u001b[0m \u001b[0;32mas\u001b[0m \u001b[0mx\u001b[0m\u001b[0;34m:\u001b[0m\u001b[0;34m\u001b[0m\u001b[0;34m\u001b[0m\u001b[0m\n\u001b[1;32m    876\u001b[0m             \u001b[0;32mif\u001b[0m \u001b[0mx\u001b[0m\u001b[0;34m.\u001b[0m\u001b[0margs\u001b[0m\u001b[0;34m[\u001b[0m\u001b[0;36m0\u001b[0m\u001b[0;34m]\u001b[0m \u001b[0;34m==\u001b[0m \u001b[0mSSL_ERROR_EOF\u001b[0m \u001b[0;32mand\u001b[0m \u001b[0mself\u001b[0m\u001b[0;34m.\u001b[0m\u001b[0msuppress_ragged_eofs\u001b[0m\u001b[0;34m:\u001b[0m\u001b[0;34m\u001b[0m\u001b[0;34m\u001b[0m\u001b[0m\n",
      "\u001b[0;32m/usr/lib/python3.6/ssl.py\u001b[0m in \u001b[0;36mread\u001b[0;34m(self, len, buffer)\u001b[0m\n\u001b[1;32m    629\u001b[0m         \"\"\"\n\u001b[1;32m    630\u001b[0m         \u001b[0;32mif\u001b[0m \u001b[0mbuffer\u001b[0m \u001b[0;32mis\u001b[0m \u001b[0;32mnot\u001b[0m \u001b[0;32mNone\u001b[0m\u001b[0;34m:\u001b[0m\u001b[0;34m\u001b[0m\u001b[0;34m\u001b[0m\u001b[0m\n\u001b[0;32m--> 631\u001b[0;31m             \u001b[0mv\u001b[0m \u001b[0;34m=\u001b[0m \u001b[0mself\u001b[0m\u001b[0;34m.\u001b[0m\u001b[0m_sslobj\u001b[0m\u001b[0;34m.\u001b[0m\u001b[0mread\u001b[0m\u001b[0;34m(\u001b[0m\u001b[0mlen\u001b[0m\u001b[0;34m,\u001b[0m \u001b[0mbuffer\u001b[0m\u001b[0;34m)\u001b[0m\u001b[0;34m\u001b[0m\u001b[0;34m\u001b[0m\u001b[0m\n\u001b[0m\u001b[1;32m    632\u001b[0m         \u001b[0;32melse\u001b[0m\u001b[0;34m:\u001b[0m\u001b[0;34m\u001b[0m\u001b[0;34m\u001b[0m\u001b[0m\n\u001b[1;32m    633\u001b[0m             \u001b[0mv\u001b[0m \u001b[0;34m=\u001b[0m \u001b[0mself\u001b[0m\u001b[0;34m.\u001b[0m\u001b[0m_sslobj\u001b[0m\u001b[0;34m.\u001b[0m\u001b[0mread\u001b[0m\u001b[0;34m(\u001b[0m\u001b[0mlen\u001b[0m\u001b[0;34m)\u001b[0m\u001b[0;34m\u001b[0m\u001b[0;34m\u001b[0m\u001b[0m\n",
      "\u001b[0;31mKeyboardInterrupt\u001b[0m: "
     ]
    }
   ],
   "source": [
    "scrape(my_cursor, my_connection)"
   ]
  }
 ],
 "metadata": {
  "kernelspec": {
   "display_name": "Python 3",
   "language": "python",
   "name": "python3"
  },
  "language_info": {
   "codemirror_mode": {
    "name": "ipython",
    "version": 3
   },
   "file_extension": ".py",
   "mimetype": "text/x-python",
   "name": "python",
   "nbconvert_exporter": "python",
   "pygments_lexer": "ipython3",
   "version": "3.6.9"
  }
 },
 "nbformat": 4,
 "nbformat_minor": 2
}
