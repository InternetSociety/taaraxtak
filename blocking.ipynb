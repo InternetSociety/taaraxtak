{
 "cells": [
  {
   "cell_type": "code",
   "execution_count": 202,
   "metadata": {},
   "outputs": [],
   "source": [
    "import logging\n",
    "import coloredlogs\n",
    "import requests\n",
    "from time import sleep"
   ]
  },
  {
   "cell_type": "code",
   "execution_count": 203,
   "metadata": {},
   "outputs": [],
   "source": [
    "logging.basicConfig()\n",
    "logger = logging.getLogger(\"poll-ooni\")\n",
    "# logger.setLevel(logging.DEBUG)\n",
    "coloredlogs.install()\n",
    "coloredlogs.install(level='DEBUG')\n",
    "# coloredlogs.install(level='INFO')"
   ]
  },
  {
   "cell_type": "code",
   "execution_count": 204,
   "metadata": {},
   "outputs": [
    {
     "name": "stderr",
     "output_type": "stream",
     "text": [
      "2021-05-25 15:02:31 congratulations root[4205] INFO Connected to database.\n"
     ]
    }
   ],
   "source": [
    "from config import config\n",
    "import psycopg2\n",
    "\n",
    "# connect to the db\n",
    "my_connection = psycopg2.connect(**config['postgres'])\n",
    "my_cursor = my_connection.cursor()\n",
    "logging.info('Connected to database.')"
   ]
  },
  {
   "cell_type": "code",
   "execution_count": 293,
   "metadata": {},
   "outputs": [],
   "source": [
    "from datetime import datetime\n",
    "\n",
    "def to_utc (t: datetime) -> datetime:\n",
    "    return most_recent_reading.astimezone(pytz.utc)"
   ]
  },
  {
   "cell_type": "code",
   "execution_count": 5,
   "metadata": {},
   "outputs": [],
   "source": [
    "# TODO make dry!\n",
    "def is_nonempty_str(my_str: str) -> bool:\n",
    "    return (type(my_str) == str) & (len(my_str) > 0)\n",
    "\n",
    "class Alpha2 ():\n",
    "    '''\n",
    "    Represents an ISO alpha-2 country code.\n",
    "    '''\n",
    "    def __init__(self,\n",
    "                 country_code: str):\n",
    "        assert(is_nonempty_str(country_code))\n",
    "        assert(len(country_code)==2)\n",
    "        self.country_code = country_code\n",
    "        \n",
    "    def __str__(self):\n",
    "        return f'{self.country_code}'\n",
    "    \n",
    "    def __repr__(self):\n",
    "        return self.__str__()\n"
   ]
  },
  {
   "cell_type": "markdown",
   "metadata": {},
   "source": [
    "# Getting the data we need\n",
    "\n",
    "## Measuremnets from OONI"
   ]
  },
  {
   "cell_type": "code",
   "execution_count": 98,
   "metadata": {},
   "outputs": [],
   "source": [
    "def api_query (query: str, results=[], queries=1, max_queries=None) -> list:\n",
    "    '''Recursively query the API, up to `max_queries`. (If `max_queries=None`, we\n",
    "    will paginate through the results as long as they run).\n",
    "    '''\n",
    "    base_url = 'https://api.ooni.io/api/v1/'\n",
    "    query = '{!s}{!s}'.format(base_url, query)\n",
    "    try:\n",
    "        resp =  requests.get(query).json()\n",
    "        results = results + resp['results']\n",
    "        next_url = resp['metadata']['next_url']\n",
    "        if max_queries is not None and queries > max_queries:\n",
    "            return results\n",
    "        if next_url:\n",
    "            # sleep so as to not overwhelm the endpoint\n",
    "            sleep(config['sleep-times']['ooni-paginate'])\n",
    "            # remove base url to perfrom the query\n",
    "            next_url = next_url.split('api/v1/')[1]\n",
    "            print(\"next URL\", next_url)\n",
    "            return api_query(next_url, results, queries+1, max_queries)\n",
    "        return results\n",
    "    except Exception as inst:\n",
    "        # if we have an error,\n",
    "        logger.warning(\"Error querying API: {!s}\".format(inst))\n",
    "        # just return what we've collected\n",
    "        # (at worst, `results` will be `[]`)\n",
    "        return results\n"
   ]
  },
  {
   "cell_type": "code",
   "execution_count": 100,
   "metadata": {},
   "outputs": [],
   "source": [
    "base_query = 'measurements?test_name=web_connectivity&anomaly=true&order_by=test_start_time&limit=1000'\n",
    "\n",
    "def query_recent_measurements (max_queries=5) -> list:\n",
    "    '''Queries all recent measurements, up to specified maximum number of queries.'''\n",
    "    return api_query(base_query, max_queries=max_queries)\n",
    "\n",
    "def get_blocking_type (measurement) -> str:\n",
    "    '''Get blocking type, if available.'''\n",
    "    try:\n",
    "        return measurement['scores']['analysis']['blocking_type']\n",
    "    except:\n",
    "        return None"
   ]
  },
  {
   "cell_type": "code",
   "execution_count": 101,
   "metadata": {},
   "outputs": [
    {
     "name": "stderr",
     "output_type": "stream",
     "text": [
      "2021-05-25 13:19:23 congratulations urllib3.connectionpool[4205] DEBUG Starting new HTTPS connection (1): api.ooni.io:443\n",
      "2021-05-25 13:19:24 congratulations urllib3.connectionpool[4205] DEBUG https://api.ooni.io:443 \"GET /api/v1/measurements?test_name=web_connectivity&anomaly=true&order_by=test_start_time&limit=1000 HTTP/1.1\" 200 824369\n",
      "2021-05-25 13:19:27 congratulations urllib3.connectionpool[4205] DEBUG Starting new HTTPS connection (1): api.ooni.io:443\n"
     ]
    },
    {
     "name": "stdout",
     "output_type": "stream",
     "text": [
      "next URL measurements?test_name=web_connectivity&anomaly=true&order_by=test_start_time&limit=1000&offset=1000\n"
     ]
    },
    {
     "name": "stderr",
     "output_type": "stream",
     "text": [
      "2021-05-25 13:19:28 congratulations urllib3.connectionpool[4205] DEBUG https://api.ooni.io:443 \"GET /api/v1/measurements?test_name=web_connectivity&anomaly=true&order_by=test_start_time&limit=1000&offset=1000 HTTP/1.1\" 200 827717\n",
      "2021-05-25 13:19:31 congratulations urllib3.connectionpool[4205] DEBUG Starting new HTTPS connection (1): api.ooni.io:443\n"
     ]
    },
    {
     "name": "stdout",
     "output_type": "stream",
     "text": [
      "next URL measurements?test_name=web_connectivity&anomaly=true&order_by=test_start_time&limit=1000&offset=2000\n"
     ]
    },
    {
     "name": "stderr",
     "output_type": "stream",
     "text": [
      "2021-05-25 13:19:32 congratulations urllib3.connectionpool[4205] DEBUG https://api.ooni.io:443 \"GET /api/v1/measurements?test_name=web_connectivity&anomaly=true&order_by=test_start_time&limit=1000&offset=2000 HTTP/1.1\" 200 830892\n",
      "2021-05-25 13:19:35 congratulations urllib3.connectionpool[4205] DEBUG Starting new HTTPS connection (1): api.ooni.io:443\n"
     ]
    },
    {
     "name": "stdout",
     "output_type": "stream",
     "text": [
      "next URL measurements?test_name=web_connectivity&anomaly=true&order_by=test_start_time&limit=1000&offset=3000\n"
     ]
    },
    {
     "name": "stderr",
     "output_type": "stream",
     "text": [
      "2021-05-25 13:19:36 congratulations urllib3.connectionpool[4205] DEBUG https://api.ooni.io:443 \"GET /api/v1/measurements?test_name=web_connectivity&anomaly=true&order_by=test_start_time&limit=1000&offset=3000 HTTP/1.1\" 200 827264\n",
      "2021-05-25 13:19:39 congratulations urllib3.connectionpool[4205] DEBUG Starting new HTTPS connection (1): api.ooni.io:443\n"
     ]
    },
    {
     "name": "stdout",
     "output_type": "stream",
     "text": [
      "next URL measurements?test_name=web_connectivity&anomaly=true&order_by=test_start_time&limit=1000&offset=4000\n"
     ]
    },
    {
     "name": "stderr",
     "output_type": "stream",
     "text": [
      "2021-05-25 13:19:40 congratulations urllib3.connectionpool[4205] DEBUG https://api.ooni.io:443 \"GET /api/v1/measurements?test_name=web_connectivity&anomaly=true&order_by=test_start_time&limit=1000&offset=4000 HTTP/1.1\" 200 830291\n",
      "2021-05-25 13:19:43 congratulations urllib3.connectionpool[4205] DEBUG Starting new HTTPS connection (1): api.ooni.io:443\n"
     ]
    },
    {
     "name": "stdout",
     "output_type": "stream",
     "text": [
      "next URL measurements?test_name=web_connectivity&anomaly=true&order_by=test_start_time&limit=1000&offset=5000\n"
     ]
    },
    {
     "name": "stderr",
     "output_type": "stream",
     "text": [
      "2021-05-25 13:19:44 congratulations urllib3.connectionpool[4205] DEBUG https://api.ooni.io:443 \"GET /api/v1/measurements?test_name=web_connectivity&anomaly=true&order_by=test_start_time&limit=1000&offset=5000 HTTP/1.1\" 200 825740\n"
     ]
    }
   ],
   "source": [
    "measurements = query_recent_measurements()"
   ]
  },
  {
   "cell_type": "code",
   "execution_count": 102,
   "metadata": {},
   "outputs": [
    {
     "data": {
      "text/plain": [
       "5995"
      ]
     },
     "execution_count": 102,
     "metadata": {},
     "output_type": "execute_result"
    }
   ],
   "source": [
    "len(measurements)"
   ]
  },
  {
   "cell_type": "code",
   "execution_count": 12,
   "metadata": {
    "collapsed": true
   },
   "outputs": [
    {
     "name": "stderr",
     "output_type": "stream",
     "text": [
      "2021-05-25 12:59:39 congratulations urllib3.connectionpool[4205] DEBUG Starting new HTTPS connection (1): ams-pg.ooni.org:443\n",
      "2021-05-25 12:59:39 congratulations urllib3.connectionpool[4205] DEBUG https://ams-pg.ooni.org:443 \"GET /api/v1/raw_measurement?report_id=20210525T181651Z_webconnectivity_IN_55836_n1_v7tNboMf0kqxJ5gp&input=https%3A%2F%2Fwww.sendspace.com%2F HTTP/1.1\" 200 10333\n"
     ]
    },
    {
     "data": {
      "text/plain": [
       "{'annotations': {'engine_name': 'ooniprobe-engine',\n",
       "  'engine_version': '3.9.0',\n",
       "  'flavor': 'stableFull',\n",
       "  'network_type': 'wifi',\n",
       "  'platform': 'android'},\n",
       " 'data_format_version': '0.2.0',\n",
       " 'input': 'https://www.sendspace.com/',\n",
       " 'measurement_start_time': '2021-05-25 19:01:09',\n",
       " 'probe_asn': 'AS55836',\n",
       " 'probe_cc': 'IN',\n",
       " 'probe_ip': '127.0.0.1',\n",
       " 'probe_network_name': 'Reliance Jio Infocomm Limited',\n",
       " 'report_id': '20210525T181651Z_webconnectivity_IN_55836_n1_v7tNboMf0kqxJ5gp',\n",
       " 'resolver_asn': 'AS55836',\n",
       " 'resolver_ip': '49.45.31.116',\n",
       " 'resolver_network_name': 'Reliance Jio Infocomm Limited',\n",
       " 'software_name': 'ooniprobe-android',\n",
       " 'software_version': '2.11.0',\n",
       " 'test_helpers': {'backend': {'address': 'https://wcth.ooni.io',\n",
       "   'type': 'https'}},\n",
       " 'test_keys': {'agent': 'redirect',\n",
       "  'client_resolver': '49.45.31.116',\n",
       "  'retries': None,\n",
       "  'socksproxy': None,\n",
       "  'network_events': [{'address': '172.64.100.30:443',\n",
       "    'failure': None,\n",
       "    'operation': 'connect',\n",
       "    'proto': 'tcp',\n",
       "    't': 1.420860307,\n",
       "    'tags': ['tcptls_experiment']},\n",
       "   {'failure': None,\n",
       "    'operation': 'tls_handshake_start',\n",
       "    't': 1.420893231,\n",
       "    'tags': ['tcptls_experiment']},\n",
       "   {'failure': None,\n",
       "    'num_bytes': 287,\n",
       "    'operation': 'write',\n",
       "    't': 1.424357615,\n",
       "    'tags': ['tcptls_experiment']},\n",
       "   {'failure': 'connection_reset',\n",
       "    'operation': 'read',\n",
       "    't': 1.463324,\n",
       "    'tags': ['tcptls_experiment']},\n",
       "   {'failure': 'connection_reset',\n",
       "    'operation': 'tls_handshake_done',\n",
       "    't': 1.463410769,\n",
       "    'tags': ['tcptls_experiment']},\n",
       "   {'address': '172.64.101.30:443',\n",
       "    'failure': None,\n",
       "    'operation': 'connect',\n",
       "    'proto': 'tcp',\n",
       "    't': 1.420239769,\n",
       "    'tags': ['tcptls_experiment']},\n",
       "   {'failure': None,\n",
       "    'operation': 'tls_handshake_start',\n",
       "    't': 1.420278154,\n",
       "    'tags': ['tcptls_experiment']},\n",
       "   {'failure': None,\n",
       "    'num_bytes': 287,\n",
       "    'operation': 'write',\n",
       "    't': 1.423950846,\n",
       "    'tags': ['tcptls_experiment']},\n",
       "   {'failure': 'connection_reset',\n",
       "    'operation': 'read',\n",
       "    't': 1.464305846,\n",
       "    'tags': ['tcptls_experiment']},\n",
       "   {'failure': 'connection_reset',\n",
       "    'operation': 'tls_handshake_done',\n",
       "    't': 1.464379692,\n",
       "    'tags': ['tcptls_experiment']},\n",
       "   {'address': '[2606:4700:8d9c:9ac4:a5d7:11f:dadc:d5f8]:443',\n",
       "    'failure': None,\n",
       "    'operation': 'connect',\n",
       "    'proto': 'tcp',\n",
       "    't': 1.472819154,\n",
       "    'tags': ['tcptls_experiment']},\n",
       "   {'failure': None,\n",
       "    'operation': 'tls_handshake_start',\n",
       "    't': 1.472856615,\n",
       "    'tags': ['tcptls_experiment']},\n",
       "   {'failure': None,\n",
       "    'num_bytes': 287,\n",
       "    'operation': 'write',\n",
       "    't': 1.476498769,\n",
       "    'tags': ['tcptls_experiment']},\n",
       "   {'failure': None,\n",
       "    'num_bytes': 517,\n",
       "    'operation': 'read',\n",
       "    't': 1.618249,\n",
       "    'tags': ['tcptls_experiment']},\n",
       "   {'failure': None,\n",
       "    'num_bytes': 2276,\n",
       "    'operation': 'read',\n",
       "    't': 1.622115384,\n",
       "    'tags': ['tcptls_experiment']},\n",
       "   {'failure': None,\n",
       "    'num_bytes': 64,\n",
       "    'operation': 'write',\n",
       "    't': 1.631212077,\n",
       "    'tags': ['tcptls_experiment']},\n",
       "   {'failure': None,\n",
       "    'operation': 'tls_handshake_done',\n",
       "    't': 1.631271769,\n",
       "    'tags': ['tcptls_experiment']},\n",
       "   {'failure': None,\n",
       "    'num_bytes': 24,\n",
       "    'operation': 'write',\n",
       "    't': 1.631474769,\n",
       "    'tags': ['tcptls_experiment']}],\n",
       "  'tls_handshakes': [{'cipher_suite': '',\n",
       "    'failure': 'connection_reset',\n",
       "    'negotiated_protocol': '',\n",
       "    'no_tls_verify': False,\n",
       "    'peer_certificates': None,\n",
       "    'server_name': 'www.sendspace.com',\n",
       "    't': 1.463410769,\n",
       "    'tags': ['tcptls_experiment'],\n",
       "    'tls_version': ''},\n",
       "   {'cipher_suite': '',\n",
       "    'failure': 'connection_reset',\n",
       "    'negotiated_protocol': '',\n",
       "    'no_tls_verify': False,\n",
       "    'peer_certificates': None,\n",
       "    'server_name': 'www.sendspace.com',\n",
       "    't': 1.464379692,\n",
       "    'tags': ['tcptls_experiment'],\n",
       "    'tls_version': ''},\n",
       "   {'cipher_suite': 'TLS_CHACHA20_POLY1305_SHA256',\n",
       "    'failure': None,\n",
       "    'negotiated_protocol': 'h2',\n",
       "    'no_tls_verify': False,\n",
       "    'peer_certificates': [{'data': 'MIIEwDCCBGWgAwIBAgIQByJ8ippHDovzJr/ceXujQTAKBggqhkjOPQQDAjBKMQswCQYDVQQGEwJVUzEZMBcGA1UEChMQQ2xvdWRmbGFyZSwgSW5jLjEgMB4GA1UEAxMXQ2xvdWRmbGFyZSBJbmMgRUNDIENBLTMwHhcNMjEwMzA5MDAwMDAwWhcNMjIwMzA4MjM1OTU5WjB1MQswCQYDVQQGEwJVUzETMBEGA1UECBMKQ2FsaWZvcm5pYTEWMBQGA1UEBxMNU2FuIEZyYW5jaXNjbzEZMBcGA1UEChMQQ2xvdWRmbGFyZSwgSW5jLjEeMBwGA1UEAxMVc25pLmNsb3VkZmxhcmVzc2wuY29tMFkwEwYHKoZIzj0CAQYIKoZIzj0DAQcDQgAE4U3P8RbYnv72/A1Hxw6SappobqzN04uZnlvZr7KAAhyMZ66cFL4r2LzIb5Wbgul4vNfo7w7yFstOAn/AZBRgpqOCAwAwggL8MB8GA1UdIwQYMBaAFKXON+rrsHUOlGeItEX62SQQh5YfMB0GA1UdDgQWBBTIQzrnqVA9Oc4TjpmLLntd9QzIAjBABgNVHREEOTA3gg8qLnNlbmRzcGFjZS5jb22CFXNuaS5jbG91ZGZsYXJlc3NsLmNvbYINc2VuZHNwYWNlLmNvbTAOBgNVHQ8BAf8EBAMCB4AwHQYDVR0lBBYwFAYIKwYBBQUHAwEGCCsGAQUFBwMCMHsGA1UdHwR0MHIwN6A1oDOGMWh0dHA6Ly9jcmwzLmRpZ2ljZXJ0LmNvbS9DbG91ZGZsYXJlSW5jRUNDQ0EtMy5jcmwwN6A1oDOGMWh0dHA6Ly9jcmw0LmRpZ2ljZXJ0LmNvbS9DbG91ZGZsYXJlSW5jRUNDQ0EtMy5jcmwwPgYDVR0gBDcwNTAzBgZngQwBAgIwKTAnBggrBgEFBQcCARYbaHR0cDovL3d3dy5kaWdpY2VydC5jb20vQ1BTMHYGCCsGAQUFBwEBBGowaDAkBggrBgEFBQcwAYYYaHR0cDovL29jc3AuZGlnaWNlcnQuY29tMEAGCCsGAQUFBzAChjRodHRwOi8vY2FjZXJ0cy5kaWdpY2VydC5jb20vQ2xvdWRmbGFyZUluY0VDQ0NBLTMuY3J0MAwGA1UdEwEB/wQCMAAwggEEBgorBgEEAdZ5AgQCBIH1BIHyAPAAdQApeb7wnjk5IfBWc59jpXflvld9nGAK+PlNXSZcJV3HhAAAAXgXlRhWAAAEAwBGMEQCICUgIsOW92lf2R6BOQ+Ef5/wF4SUXaanJUxWb+HtcFZXAiAq2jpRHViScSNAdGUSQi9JHyu/kO+NmlES7FJ29CCrKAB3ACJFRQdZVSRWlj+hL/H3bYbgIyZjrcBLf13Gg1xu4g8CAAABeBeVGKEAAAQDAEgwRgIhAIw7m/2ZIVTH7QZsqcdD1TmuS5JOoxSmY8LS+2+FHjJnAiEArR5P+8+XrR8EE8HtN7/mNzuVUW6GA1eZ+0cifSoPGsswCgYIKoZIzj0EAwIDSQAwRgIhAJt5fBpK4GKfX1m7dqumjLncRes81R+XOU1tbhvVQsJ5AiEA3LnkMNs3mDzvzk16WgJVQXXU7QjcxV12+sb51TkuNR8=',\n",
       "      'format': 'base64'},\n",
       "     {'data': 'MIIDzTCCArWgAwIBAgIQCjeHZF5ftIwiTv0b7RQMPDANBgkqhkiG9w0BAQsFADBaMQswCQYDVQQGEwJJRTESMBAGA1UEChMJQmFsdGltb3JlMRMwEQYDVQQLEwpDeWJlclRydXN0MSIwIAYDVQQDExlCYWx0aW1vcmUgQ3liZXJUcnVzdCBSb290MB4XDTIwMDEyNzEyNDgwOFoXDTI0MTIzMTIzNTk1OVowSjELMAkGA1UEBhMCVVMxGTAXBgNVBAoTEENsb3VkZmxhcmUsIEluYy4xIDAeBgNVBAMTF0Nsb3VkZmxhcmUgSW5jIEVDQyBDQS0zMFkwEwYHKoZIzj0CAQYIKoZIzj0DAQcDQgAEua1NZpkUC0bsH4HRKlAenQMVLzQSfS2WuIg4m4Vfj7+7Te9hRsTJc9QkT+DuHM5ss1FxL2ruTAUJd9NyYqSb16OCAWgwggFkMB0GA1UdDgQWBBSlzjfq67B1DpRniLRF+tkkEIeWHzAfBgNVHSMEGDAWgBTlnVkwgkdYzKz6CFQ2hns6tQRN8DAOBgNVHQ8BAf8EBAMCAYYwHQYDVR0lBBYwFAYIKwYBBQUHAwEGCCsGAQUFBwMCMBIGA1UdEwEB/wQIMAYBAf8CAQAwNAYIKwYBBQUHAQEEKDAmMCQGCCsGAQUFBzABhhhodHRwOi8vb2NzcC5kaWdpY2VydC5jb20wOgYDVR0fBDMwMTAvoC2gK4YpaHR0cDovL2NybDMuZGlnaWNlcnQuY29tL09tbmlyb290MjAyNS5jcmwwbQYDVR0gBGYwZDA3BglghkgBhv1sAQEwKjAoBggrBgEFBQcCARYcaHR0cHM6Ly93d3cuZGlnaWNlcnQuY29tL0NQUzALBglghkgBhv1sAQIwCAYGZ4EMAQIBMAgGBmeBDAECAjAIBgZngQwBAgMwDQYJKoZIhvcNAQELBQADggEBAAUkHd0bsCrrmNaF4zlNXmtXnYJX/OvoMaJXkGUFvhZEOFp3ArnPEELG4ZKk40Un+ABHLGioVplTVI+tnkDB0A+21w0LOEhsUCxJkAZbZB2LzEgwLt4I4ptJIsCSDBFelpKU1fwg3FZs5ZKTv3ocwDfjhUkV+ivhdDkYD7fa86JXWGBPzI6UAPxGezQxPk1HgoE6y/SJXQ7vTQ1unBuCJN0yJV0ReFEQPaA1IwQvZW+cwdFD19Ae8zFnWSfda9J1CZMRJCQUzym+5iPDuI9yP+kHyCREU3qzuWFloUwOxkgAyXVjBYdwRVKD05WdRerw6DEdfgkfCv4+3ao8XnTSrLE=',\n",
       "      'format': 'base64'}],\n",
       "    'server_name': 'www.sendspace.com',\n",
       "    't': 1.631271769,\n",
       "    'tags': ['tcptls_experiment'],\n",
       "    'tls_version': 'TLSv1.3'}],\n",
       "  'queries': [{'answers': [{'asn': 13335,\n",
       "      'as_org_name': 'Cloudflare, Inc.',\n",
       "      'answer_type': 'A',\n",
       "      'ipv4': '172.64.100.30',\n",
       "      'ttl': None},\n",
       "     {'asn': 13335,\n",
       "      'as_org_name': 'Cloudflare, Inc.',\n",
       "      'answer_type': 'A',\n",
       "      'ipv4': '172.64.101.30',\n",
       "      'ttl': None}],\n",
       "    'engine': 'system',\n",
       "    'failure': None,\n",
       "    'hostname': 'www.sendspace.com',\n",
       "    'query_type': 'A',\n",
       "    'resolver_hostname': None,\n",
       "    'resolver_port': None,\n",
       "    'resolver_address': '',\n",
       "    't': 0.019887461},\n",
       "   {'answers': [{'asn': 13335,\n",
       "      'as_org_name': 'Cloudflare, Inc.',\n",
       "      'answer_type': 'AAAA',\n",
       "      'ipv6': '2606:4700:8d9c:9ac4:a5d7:11f:dadc:d5f8',\n",
       "      'ttl': None}],\n",
       "    'engine': 'system',\n",
       "    'failure': None,\n",
       "    'hostname': 'www.sendspace.com',\n",
       "    'query_type': 'AAAA',\n",
       "    'resolver_hostname': None,\n",
       "    'resolver_port': None,\n",
       "    'resolver_address': '',\n",
       "    't': 0.019887461}],\n",
       "  'dns_experiment_failure': None,\n",
       "  'dns_consistency': 'consistent',\n",
       "  'control_failure': None,\n",
       "  'control': {'tcp_connect': {'172.64.100.30:443': {'status': True,\n",
       "     'failure': None},\n",
       "    '172.64.101.30:443': {'status': True, 'failure': None},\n",
       "    '[2606:4700:8d9c:9ac4:a5d7:11f:dadc:d5f8]:443': {'status': False,\n",
       "     'failure': 'invalid_socket'}},\n",
       "   'http_request': {'body_length': 23221,\n",
       "    'failure': None,\n",
       "    'title': 'Free large file hosting. Send big files the easy way!',\n",
       "    'headers': {'CF-Cache-Status': 'DYNAMIC',\n",
       "     'CF-RAY': '655102c86fd3d8f1-AMS',\n",
       "     'Cache-Control': 'no-cache,no-store,max-age=0,s-maxage=0,must-revalidate',\n",
       "     'Content-Type': 'text/html; charset=UTF-8',\n",
       "     'Date': 'Tue, 25 May 2021 19:01:11 GMT',\n",
       "     'Expect-CT': 'max-age=604800, report-uri=\"https://report-uri.cloudflare.com/cdn-cgi/beacon/expect-ct\"',\n",
       "     'Expires': '0',\n",
       "     'Last-Modified': 'Tue, 25 May 2021 19:01:11 GMT',\n",
       "     'NEL': '{\"report_to\":\"cf-nel\",\"max_age\":604800}',\n",
       "     'Pragma': 'no-cache',\n",
       "     'Report-To': '{\"endpoints\":[{\"url\":\"https:\\\\/\\\\/a.nel.cloudflare.com\\\\/report\\\\/v2?s=1eqygU0EtuFJiPW2wIa6uBb9wfMMCh%2FPBeVxmSNicCPm1RkOUiLh8EY5JKG47Gw0UZO%2FtCnnSjRi0FY%2B8UPlRx9hkpw2wqHHuZTwNehXzfcNGFxTO%2B2AaFvjuDztPx0%3D\"}],\"group\":\"cf-nel\",\"max_age\":604800}',\n",
       "     'Server': 'cloudflare',\n",
       "     'Set-Cookie': 'SID=unqa9liku5u3sf2sef5l2836t5; path=/; domain=.sendspace.com',\n",
       "     'Vary': 'Accept-Encoding',\n",
       "     'X-Content-Type-Options': 'nosniff',\n",
       "     'X-Frame-Options': 'SAMEORIGIN',\n",
       "     'X-XSS-Protection': '1; mode=block',\n",
       "     'alt-svc': 'h3-27=\":443\"; ma=86400, h3-28=\":443\"; ma=86400, h3-29=\":443\"; ma=86400',\n",
       "     'cf-request-id': '0a4680113e0000d8f1618ac000000001'},\n",
       "    'status_code': 200},\n",
       "   'dns': {'failure': None, 'addrs': ['172.64.100.30', '172.64.101.30']}},\n",
       "  'tcp_connect': [{'ip': '172.64.100.30',\n",
       "    'port': 443,\n",
       "    'status': {'blocked': False, 'failure': None, 'success': True},\n",
       "    't': 1.420860307},\n",
       "   {'ip': '172.64.101.30',\n",
       "    'port': 443,\n",
       "    'status': {'blocked': False, 'failure': None, 'success': True},\n",
       "    't': 1.420239769},\n",
       "   {'ip': '2606:4700:8d9c:9ac4:a5d7:11f:dadc:d5f8',\n",
       "    'port': 443,\n",
       "    'status': {'blocked': False, 'failure': None, 'success': True},\n",
       "    't': 1.472819154}],\n",
       "  'requests': [{'failure': 'connection_reset',\n",
       "    'request': {'body': '',\n",
       "     'body_is_truncated': False,\n",
       "     'headers_list': [['Accept',\n",
       "       'text/html,application/xhtml+xml,application/xml;q=0.9,*/*;q=0.8'],\n",
       "      ['Accept-Language', 'en-US;q=0.8,en;q=0.5'],\n",
       "      ['Host', 'www.sendspace.com'],\n",
       "      ['User-Agent',\n",
       "       'Mozilla/5.0 (Windows NT 10.0; Win64; x64) AppleWebKit/537.36 (KHTML, like Gecko) Chrome/89.0.4389.90 Safari/537.36']],\n",
       "     'headers': {'Accept': 'text/html,application/xhtml+xml,application/xml;q=0.9,*/*;q=0.8',\n",
       "      'Accept-Language': 'en-US;q=0.8,en;q=0.5',\n",
       "      'Host': 'www.sendspace.com',\n",
       "      'User-Agent': 'Mozilla/5.0 (Windows NT 10.0; Win64; x64) AppleWebKit/537.36 (KHTML, like Gecko) Chrome/89.0.4389.90 Safari/537.36'},\n",
       "     'method': 'GET',\n",
       "     'tor': {'exit_ip': None, 'exit_name': None, 'is_tor': False},\n",
       "     'x_transport': 'tcp',\n",
       "     'url': 'https://www.sendspace.com/'},\n",
       "    'response': {'body': '',\n",
       "     'body_is_truncated': False,\n",
       "     'code': 0,\n",
       "     'headers_list': None,\n",
       "     'headers': None},\n",
       "    't': 1.633127077}],\n",
       "  'http_experiment_failure': 'connection_reset',\n",
       "  'body_length_match': None,\n",
       "  'body_proportion': 0,\n",
       "  'status_code_match': None,\n",
       "  'headers_match': None,\n",
       "  'title_match': None,\n",
       "  'accessible': False,\n",
       "  'blocking': 'http-failure',\n",
       "  'x_status': 8448},\n",
       " 'test_name': 'web_connectivity',\n",
       " 'test_runtime': 1.762224,\n",
       " 'test_start_time': '2021-05-25 18:16:49',\n",
       " 'test_version': '0.4.0'}"
      ]
     },
     "execution_count": 12,
     "metadata": {},
     "output_type": "execute_result"
    }
   ],
   "source": [
    "m_detail = requests.get(m['measurement_url']).json()\n",
    "\n",
    "m_detail['test_keys']['queries']\n",
    "m_detail"
   ]
  },
  {
   "cell_type": "markdown",
   "metadata": {},
   "source": [
    "## Get IP from URL"
   ]
  },
  {
   "cell_type": "code",
   "execution_count": 13,
   "metadata": {},
   "outputs": [],
   "source": [
    "inputs = [m['input'] for m in measurements]"
   ]
  },
  {
   "cell_type": "code",
   "execution_count": 238,
   "metadata": {},
   "outputs": [],
   "source": [
    "import socket\n",
    "import urllib.parse\n",
    "from typing import Optional\n",
    "\n",
    "def get_hostname (url):\n",
    "    return urllib.parse.urlparse(url).netloc\n",
    "\n",
    "def fetch_ip_from_hostname (hostname: str) ->  str:\n",
    "    try:\n",
    "        return socket.gethostbyname(hostname)\n",
    "    except Exception as inst:\n",
    "            logger.warning(f\"Error looking up IP of hostname {hostname}: {inst}\")\n",
    "            return None\n"
   ]
  },
  {
   "cell_type": "code",
   "execution_count": 245,
   "metadata": {},
   "outputs": [
    {
     "data": {
      "text/plain": [
       "'172.67.145.82'"
      ]
     },
     "execution_count": 245,
     "metadata": {},
     "output_type": "execute_result"
    }
   ],
   "source": [
    "my_ip = fetch_ip_from_hostname(get_hostname(inputs[505]))\n",
    "my_ip"
   ]
  },
  {
   "cell_type": "markdown",
   "metadata": {},
   "source": [
    "## Get geolocation from IP"
   ]
  },
  {
   "cell_type": "code",
   "execution_count": 246,
   "metadata": {},
   "outputs": [
    {
     "data": {
      "text/plain": [
       "US"
      ]
     },
     "execution_count": 246,
     "metadata": {},
     "output_type": "execute_result"
    }
   ],
   "source": [
    "import geoip2.database\n",
    "from typing import Optional\n",
    "\n",
    "def ip_to_alpha2 (ip: str) -> Optional[Alpha2]:\n",
    "    with geoip2.database.Reader('dbip-country-lite-2021-05.mmdb') as reader:\n",
    "        try:\n",
    "            response = reader.country(ip)\n",
    "            return Alpha2(response.country.iso_code)\n",
    "        except Exception as inst:\n",
    "            # if we have an error,\n",
    "            logger.warning(f\"Error looking up country code of IP {ip}: {inst}\")\n",
    "            return None\n",
    "    \n",
    "ip_to_alpha2(my_ip)"
   ]
  },
  {
   "cell_type": "markdown",
   "metadata": {},
   "source": [
    "## Cacheing IP\n",
    "\n",
    "### A data model for IP Hostname mapping"
   ]
  },
  {
   "cell_type": "code",
   "execution_count": 263,
   "metadata": {},
   "outputs": [],
   "source": [
    "from IPy import IP\n",
    "class IPHostnameMapping:\n",
    "    def __init__ (\n",
    "        self,\n",
    "        ip: str,\n",
    "        hostname: str,\n",
    "        time: pd.Timestamp,\n",
    "    ):\n",
    "        assert(is_nonempty_str(hostname))\n",
    "        self.hostname = hostname\n",
    "        # this will throw if `ip` isn't valid\n",
    "        ip = IP(ip)\n",
    "        # check that it's a public IP!\n",
    "        assert(ip.iptype() == 'PUBLIC')\n",
    "        # we'll just save the IP as a string for simplicity's sake\n",
    "        self.ip = ip.strNormal()\n",
    "        assert(type(time) == pd.Timestamp)\n",
    "        self.time = time\n",
    "    \n",
    "    def create_table(\n",
    "            self,\n",
    "            cur: cursor,\n",
    "            conn: connection):\n",
    "        cmd = \"\"\"\n",
    "          CREATE TABLE ip_hostname_mapping (\n",
    "             hostname                  VARCHAR NOT NULL,\n",
    "             ip                        VARCHAR NOT NULL,\n",
    "             time                      TIMESTAMPTZ NOT NULL\n",
    "          )\n",
    "        \"\"\"\n",
    "        cur.execute(cmd)\n",
    "        conn.commit()\n",
    "\n",
    "    def write_to_db(\n",
    "            self,\n",
    "            cur: cursor,\n",
    "            conn: connection,\n",
    "            commit=True,\n",
    "    ):\n",
    "        cur.execute(\n",
    "            \"\"\"\n",
    "            INSERT INTO ip_hostname_mapping\n",
    "            (hostname, ip, time)\n",
    "            VALUES\n",
    "            (%s, %s, %s)\n",
    "            \"\"\", (self.hostname,\n",
    "                  self.ip,\n",
    "                  self.time\n",
    "                 ))\n",
    "        if commit:\n",
    "            return conn.commit()\n",
    "        return\n",
    "\n",
    "    def __str__(self):\n",
    "        return f'{self.time: self.hostname->self.ip}'\n",
    "    "
   ]
  },
  {
   "cell_type": "code",
   "execution_count": 264,
   "metadata": {},
   "outputs": [
    {
     "data": {
      "text/plain": [
       "'PUBLIC'"
      ]
     },
     "execution_count": 264,
     "metadata": {},
     "output_type": "execute_result"
    }
   ],
   "source": [
    "ip = IP(my_ip)\n",
    "ip.iptype()"
   ]
  },
  {
   "cell_type": "code",
   "execution_count": 237,
   "metadata": {},
   "outputs": [],
   "source": [
    "mapping = IPHostnameMapping('wikipedia.org', '198.35.26.96', now())\n",
    "# mapping.create_table(my_cursor, my_connection)"
   ]
  },
  {
   "cell_type": "code",
   "execution_count": 227,
   "metadata": {},
   "outputs": [
    {
     "data": {
      "text/plain": [
       "'198.35.26.96'"
      ]
     },
     "execution_count": 227,
     "metadata": {},
     "output_type": "execute_result"
    }
   ],
   "source": [
    "get_ip('wikipedia.org')"
   ]
  },
  {
   "cell_type": "markdown",
   "metadata": {},
   "source": [
    "## Integrate database read/writes into IP lookup"
   ]
  },
  {
   "cell_type": "code",
   "execution_count": 271,
   "metadata": {},
   "outputs": [],
   "source": [
    "from typing import Tuple\n",
    "def retrieve_ip (cur: cursor, hostname: str) -> Optional[Tuple[datetime, str]]:\n",
    "    cur.execute('''\n",
    "    SELECT time, ip from ip_hostname_mapping\n",
    "    WHERE hostname=hostname\n",
    "    ORDER BY time DESC\n",
    "    ''')\n",
    "    return cur.fetchone()"
   ]
  },
  {
   "cell_type": "code",
   "execution_count": 301,
   "metadata": {},
   "outputs": [
    {
     "data": {
      "text/plain": [
       "'198.35.26.96'"
      ]
     },
     "execution_count": 301,
     "metadata": {},
     "output_type": "execute_result"
    }
   ],
   "source": [
    "from datetime import timedelta\n",
    "\n",
    "def lookup_ip (cur: cursor, conn: connection, hostname: str, \n",
    "               cache_expiry: timedelta = timedelta(days=1)):\n",
    "    # if we have a result in our DB\n",
    "    time_ip_tuple = retrieve_ip(cur, hostname)\n",
    "    if time_ip_tuple:\n",
    "        time, ip = time_ip_tuple\n",
    "        # and that result is fresh enough\n",
    "        is_expired = (now() - cache_expiry) > to_utc(time)\n",
    "        if not is_expired:\n",
    "            # return it\n",
    "            return ip\n",
    "    # otherwise\n",
    "    # fetch IP with a query\n",
    "    ip = fetch_ip_from_hostname(hostname)\n",
    "    # write that mapping to the DB for the future\n",
    "    mapping = IPHostnameMapping(ip, hostname, now())\n",
    "    mapping.write_to_db(cur, conn)\n",
    "    # return the IP\n",
    "    return ip\n",
    "    \n",
    "lookup_ip(my_cursor, my_connection, 'wikipedia.org')"
   ]
  },
  {
   "cell_type": "code",
   "execution_count": 304,
   "metadata": {},
   "outputs": [
    {
     "data": {
      "text/plain": [
       "US"
      ]
     },
     "execution_count": 304,
     "metadata": {},
     "output_type": "execute_result"
    }
   ],
   "source": [
    "def url_to_alpha2 (cur: cursor, conn: connection, url: str) -> Optional[Alpha2]:\n",
    "    hostname = get_hostname(url)\n",
    "    maybe_ip = lookup_ip(cur, conn, hostname)\n",
    "    if maybe_ip is None:\n",
    "        return None\n",
    "    return ip_to_alpha2(maybe_ip)\n",
    "\n",
    "url_to_alpha2(my_cursor, my_connection, 'https://wikipedia.org/')"
   ]
  },
  {
   "cell_type": "markdown",
   "metadata": {},
   "source": [
    "## Get TLD jurisdiction"
   ]
  },
  {
   "cell_type": "code",
   "execution_count": 554,
   "metadata": {},
   "outputs": [],
   "source": [
    "from imp import reload\n",
    "from src.w3techs import utils as w3techs_utils\n",
    "reload(w3techs_utils)\n",
    "from tldextract import extract"
   ]
  },
  {
   "cell_type": "code",
   "execution_count": 546,
   "metadata": {},
   "outputs": [],
   "source": [
    "import idna"
   ]
  },
  {
   "cell_type": "code",
   "execution_count": 547,
   "metadata": {},
   "outputs": [
    {
     "data": {
      "text/plain": [
       "RU"
      ]
     },
     "execution_count": 547,
     "metadata": {},
     "output_type": "execute_result"
    }
   ],
   "source": [
    "def get_tld_jurisdiction (url: str) -> Optional[Alpha2]:\n",
    "    '''\n",
    "    Takes a URL and gets an Alpha 2\n",
    "    representing the jurisdiction of the URL's top-level domain.\n",
    "    '''\n",
    "    # sometimes, URL is an IP - that's fine\n",
    "    hostname = get_hostname(url)\n",
    "    try:\n",
    "        IP(hostname) # if this doesn't throw an exception\n",
    "        return None\n",
    "    except:\n",
    "        pass\n",
    "    # decode IDNA (internationalized) hostnames\n",
    "    # e.g. http://xn--80aaifmgl1achx.xn--p1ai/\n",
    "    decoded_hostname = idna.decode(hostname)\n",
    "    tld = extract(decoded_hostname)\n",
    "    # get last item in url\n",
    "    # e.g., '.com.br' should be '.br'\n",
    "    tld = tld.suffix\n",
    "    cc_tld = tld.split('.')[-1]\n",
    "    # put it\n",
    "    cc_tld_str = f'.{cc_tld}'\n",
    "    cc =  w3techs_utils.get_country(cc_tld_str)\n",
    "    if cc is not None:\n",
    "        return Alpha2(cc)\n",
    "    logger.warning(f'No jurisidiction for {tld} - {url}')\n",
    "    return None\n",
    "\n",
    "get_tld_jurisdiction('http://mycool.com.br')\n",
    "get_tld_jurisdiction('https://1.1.1.1/dns-query?dns=q80BAAABAAAAAAAAA3d3dwdleGFtcGxlA2NvbQAAAQAB')\n",
    "get_tld_jurisdiction('http://xn--80aaifmgl1achx.xn--p1ai/')"
   ]
  },
  {
   "cell_type": "markdown",
   "metadata": {},
   "source": [
    "# Model the datatype"
   ]
  },
  {
   "cell_type": "code",
   "execution_count": 30,
   "metadata": {},
   "outputs": [
    {
     "data": {
      "text/plain": [
       "True"
      ]
     },
     "execution_count": 30,
     "metadata": {},
     "output_type": "execute_result"
    }
   ],
   "source": [
    "import pandas as pd\n",
    "\n",
    "def now () -> pd.Timestamp:\n",
    "    return pd.Timestamp.utcnow()\n",
    "\n",
    "def is_in_future (timestamp: pd.Timestamp) -> bool:\n",
    "    return timestamp > now()\n",
    "\n",
    "is_in_future(  pd.Timestamp('2021-06-24T20:36:06Z'))"
   ]
  },
  {
   "cell_type": "code",
   "execution_count": 475,
   "metadata": {},
   "outputs": [],
   "source": [
    "from psycopg2.extensions import cursor\n",
    "from psycopg2.extensions import connection\n",
    "import pandas as pd\n",
    "\n",
    "class OONIWebConnectivityTest():\n",
    "    '''\n",
    "    Class to capture results of an OONI web connectivity test.\n",
    "      - https://ooni.org/nettest/web-connectivity/\n",
    "    See README for more details on these fields.\n",
    "    \n",
    "    This is where validation happens.\n",
    "    TODO - Check for SQL injection attacks.\n",
    "    '''\n",
    "    def __init__(self,\n",
    "                  blocking_type: str,\n",
    "                  probe_alpha2: Alpha2,\n",
    "                  input_url: str,\n",
    "                  anomaly: bool,\n",
    "                  confirmed: bool,\n",
    "                  report_id: str,\n",
    "                  input_ip_alpha2: Alpha2,\n",
    "                  tld_jurisdiction_alpha2: Alpha2,\n",
    "                  measurement_start_time: pd.Timestamp):\n",
    "            # we only want stuff where blocking actually happened \n",
    "            assert(blocking_type != False)\n",
    "            self.blocking_type = blocking_type\n",
    "            \n",
    "            assert(type(probe_alpha2) == Alpha2)\n",
    "            self.probe_alpha2 = str(probe_alpha2)\n",
    "            \n",
    "            assert(is_nonempty_str(input_url))\n",
    "            self.input_url = input_url\n",
    "            \n",
    "            assert(type(anomaly) == bool)\n",
    "            self.anomaly = anomaly\n",
    "            \n",
    "            assert(type(confirmed) == bool)\n",
    "            self.confirmed = confirmed\n",
    "            \n",
    "            assert(is_nonempty_str(report_id))\n",
    "            self.report_id = report_id\n",
    "            \n",
    "            # type is optional\n",
    "            assert((type(input_ip_alpha2) == Alpha2) or \n",
    "                   (input_ip_alpha2 == None))\n",
    "            if input_ip_alpha2 == None:\n",
    "                self.input_ip_alpha2 = None\n",
    "            else:\n",
    "                self.input_ip_alpha2 = str(input_ip_alpha2)\n",
    "            \n",
    "            # type is optional\n",
    "            assert((type(tld_jurisdiction_alpha2) == Alpha2) or\n",
    "                   (tld_jurisdiction_alpha2 == None))\n",
    "            if tld_jurisdiction_alpha2 == None:\n",
    "                self.tld_jurisdiction_alpha2 = None\n",
    "            else:\n",
    "                self.tld_jurisdiction_alpha2 = str(tld_jurisdiction_alpha2)\n",
    "            \n",
    "            assert(type(measurement_start_time) == pd.Timestamp)\n",
    "            # if the timestamp is in the future...\n",
    "            if is_in_future(measurement_start_time):\n",
    "                logging.debug('Time is in future: {measurement_start_time}. Setting time to now.')\n",
    "                # set the time to now.\n",
    "                self.measurement_start_time = now()\n",
    "            # otherwise\n",
    "            else:\n",
    "                # set it to whenever it was reported\n",
    "                self.measurement_start_time = measurement_start_time\n",
    "            \n",
    "    def create_table(\n",
    "            self,\n",
    "            cur: cursor,\n",
    "            conn: connection):\n",
    "        cmd = \"\"\"\n",
    "          CREATE TABLE ooni_web_connectivity_test (\n",
    "             blocking_type             VARCHAR,\n",
    "             probe_alpha2              CHAR(2) NOT NULL,\n",
    "             input_url                 VARCHAR NOT NULL,\n",
    "             anomaly                   BOOLEAN NOT NULL,\n",
    "             confirmed                 BOOLEAN NOT NULL,\n",
    "             report_id                 VARCHAR NOT NULL,\n",
    "             input_ip_alpha2           CHAR(2),\n",
    "             tld_jurisdiction_alpha2   CHAR(2),\n",
    "             measurement_start_time    TIMESTAMPTZ NOT NULL\n",
    "          )\n",
    "        \"\"\"\n",
    "        cur.execute(cmd)\n",
    "        conn.commit()\n",
    "\n",
    "    def write_to_db(\n",
    "            self,\n",
    "            cur: cursor,\n",
    "            conn: connection,\n",
    "            commit=True,\n",
    "    ):\n",
    "        cur.execute(\n",
    "            \"\"\"\n",
    "            INSERT INTO ooni_web_connectivity_test\n",
    "            (blocking_type, probe_alpha2, input_url, anomaly, confirmed, report_id,  \n",
    "            input_ip_alpha2, tld_jurisdiction_alpha2, measurement_start_time)   \n",
    "            VALUES\n",
    "            (%s, %s, %s, %s, %s, %s, %s, %s, %s)   \n",
    "            \"\"\", (self.blocking_type,\n",
    "                  self.probe_alpha2,\n",
    "                  self.input_url,\n",
    "                  self.anomaly,\n",
    "                  self.confirmed,\n",
    "                  self.report_id,\n",
    "                  self.input_ip_alpha2,\n",
    "                  self.tld_jurisdiction_alpha2,\n",
    "                  self.measurement_start_time))\n",
    "        if commit:\n",
    "            return conn.commit()\n",
    "        return\n",
    "\n",
    "    def __str__(self):\n",
    "        # TODO make DRY with write_to_db?\n",
    "        # TODO do this in general?\n",
    "        return f'{self.measurement_start_time} - {self.probe_alpha2} -> {self.input_ip_alpha2}, {self.tld_jurisdiction_alpha2} ({self.blocking_type} {self.input_url})'\n",
    "\n",
    "    def __repr__(self):\n",
    "        return self.__str__()\n"
   ]
  },
  {
   "cell_type": "markdown",
   "metadata": {},
   "source": [
    "# Marshall from datatype"
   ]
  },
  {
   "cell_type": "code",
   "execution_count": 339,
   "metadata": {},
   "outputs": [
    {
     "data": {
      "text/plain": [
       "2021-05-25 20:19:18+00:00 - CA -> US, US (http-diff http://www.khilafah.com/)"
      ]
     },
     "execution_count": 339,
     "metadata": {},
     "output_type": "execute_result"
    }
   ],
   "source": [
    "def ingest_api_measurement (measurement: dict) -> OONIWebConnectivityTest:\n",
    "    # make a connection and cursor (for this thread)\n",
    "    connection = psycopg2.connect(**config['postgres'])\n",
    "    cursor = connection.cursor()\n",
    "    blocking_type = get_blocking_type(measurement)\n",
    "    probe_alpha2 = Alpha2(measurement['probe_cc'])\n",
    "    input_url = measurement['input']\n",
    "    anomaly = measurement['anomaly']\n",
    "    confirmed = measurement['confirmed']\n",
    "    report_id = measurement['report_id']\n",
    "    input_ip_alpha2 = url_to_alpha2(cursor, connection, input_url) \n",
    "    tld_jurisdiction_alpha2 = get_tld_jurisdiction(input_url)\n",
    "    measurement_start_time = pd.Timestamp(measurement['measurement_start_time'])\n",
    "    return OONIWebConnectivityTest(\n",
    "        blocking_type,\n",
    "        probe_alpha2,\n",
    "        input_url,\n",
    "        anomaly,\n",
    "        confirmed,\n",
    "        report_id,\n",
    "        input_ip_alpha2,\n",
    "        tld_jurisdiction_alpha2,\n",
    "        measurement_start_time\n",
    "    )\n",
    "\n",
    "ingest_api_measurement(measurements[0])"
   ]
  },
  {
   "cell_type": "code",
   "execution_count": 519,
   "metadata": {},
   "outputs": [],
   "source": [
    "from multiprocessing import Pool\n",
    "from typing import List\n",
    "\n",
    "def ingest_api_measurements (measurements: List[dict]) -> List[OONIWebConnectivityTest]:\n",
    "    with Pool() as p:\n",
    "        return p.map(ingest_api_measurement, measurements)"
   ]
  },
  {
   "cell_type": "markdown",
   "metadata": {},
   "source": [
    "# Test it with the DB"
   ]
  },
  {
   "cell_type": "code",
   "execution_count": 35,
   "metadata": {
    "collapsed": true
   },
   "outputs": [
    {
     "ename": "ProgrammingError",
     "evalue": "relation \"ooni_web_connectivity_test\" already exists\n",
     "output_type": "error",
     "traceback": [
      "\u001b[0;31m---------------------------------------------------------------------------\u001b[0m",
      "\u001b[0;31mProgrammingError\u001b[0m                          Traceback (most recent call last)",
      "\u001b[0;32m<ipython-input-35-827aad29e7ab>\u001b[0m in \u001b[0;36m<module>\u001b[0;34m()\u001b[0m\n\u001b[1;32m     10\u001b[0m     \u001b[0mAlpha2\u001b[0m\u001b[0;34m(\u001b[0m\u001b[0;34m'US'\u001b[0m\u001b[0;34m)\u001b[0m\u001b[0;34m,\u001b[0m\u001b[0;34m\u001b[0m\u001b[0;34m\u001b[0m\u001b[0m\n\u001b[1;32m     11\u001b[0m     \u001b[0mpd\u001b[0m\u001b[0;34m.\u001b[0m\u001b[0mTimestamp\u001b[0m\u001b[0;34m(\u001b[0m\u001b[0;34m'2000-01-01 21:41:37+00:00'\u001b[0m\u001b[0;34m)\u001b[0m\u001b[0;34m\u001b[0m\u001b[0;34m\u001b[0m\u001b[0m\n\u001b[0;32m---> 12\u001b[0;31m ).create_table(my_cursor, my_connection)\n\u001b[0m",
      "\u001b[0;32m<ipython-input-31-0680899ddcf5>\u001b[0m in \u001b[0;36mcreate_table\u001b[0;34m(self, cur, conn)\u001b[0m\n\u001b[1;32m     84\u001b[0m           )\n\u001b[1;32m     85\u001b[0m         \"\"\"\n\u001b[0;32m---> 86\u001b[0;31m         \u001b[0mcur\u001b[0m\u001b[0;34m.\u001b[0m\u001b[0mexecute\u001b[0m\u001b[0;34m(\u001b[0m\u001b[0mcmd\u001b[0m\u001b[0;34m)\u001b[0m\u001b[0;34m\u001b[0m\u001b[0;34m\u001b[0m\u001b[0m\n\u001b[0m\u001b[1;32m     87\u001b[0m         \u001b[0mconn\u001b[0m\u001b[0;34m.\u001b[0m\u001b[0mcommit\u001b[0m\u001b[0;34m(\u001b[0m\u001b[0;34m)\u001b[0m\u001b[0;34m\u001b[0m\u001b[0;34m\u001b[0m\u001b[0m\n\u001b[1;32m     88\u001b[0m \u001b[0;34m\u001b[0m\u001b[0m\n",
      "\u001b[0;31mProgrammingError\u001b[0m: relation \"ooni_web_connectivity_test\" already exists\n"
     ]
    }
   ],
   "source": [
    "# dummy data\n",
    "OONIWebConnectivityTest(\n",
    "    'example',\n",
    "    Alpha2('US'),\n",
    "    'example',\n",
    "    False,\n",
    "    False,\n",
    "    'example',\n",
    "    Alpha2('US'),\n",
    "    Alpha2('US'),\n",
    "    pd.Timestamp('2000-01-01 21:41:37+00:00')\n",
    ").create_table(my_cursor, my_connection)"
   ]
  },
  {
   "cell_type": "code",
   "execution_count": 36,
   "metadata": {},
   "outputs": [],
   "source": [
    "def rollback():\n",
    "    my_cursor.execute(\"ROLLBACK\")\n",
    "    my_connection.commit()"
   ]
  },
  {
   "cell_type": "code",
   "execution_count": 42,
   "metadata": {},
   "outputs": [],
   "source": [
    "rollback()\n",
    "# test = None\n",
    "# for mt in my_types:\n",
    "#     try:\n",
    "#         mt.write_to_db(my_cursor, my_connection, commit=False) \n",
    "#     except Exception as e:\n",
    "#         test = mt\n",
    "#         print(mt)\n",
    "#         print(e)\n",
    "#         break\n",
    "        "
   ]
  },
  {
   "cell_type": "code",
   "execution_count": 38,
   "metadata": {},
   "outputs": [],
   "source": [
    "# my_connection.commit()"
   ]
  },
  {
   "cell_type": "markdown",
   "metadata": {},
   "source": [
    "# Set up a flow"
   ]
  },
  {
   "cell_type": "code",
   "execution_count": 552,
   "metadata": {},
   "outputs": [
    {
     "data": {
      "text/plain": [
       "datetime.datetime(2021, 5, 25, 18, 20, 20, tzinfo=psycopg2.tz.FixedOffsetTimezone(offset=-420, name=None))"
      ]
     },
     "execution_count": 552,
     "metadata": {},
     "output_type": "execute_result"
    }
   ],
   "source": [
    "from datetime import datetime\n",
    "\n",
    "def get_latest_reading_time (cur: cursor) -> datetime:\n",
    "    '''Get time of most recent measurement'''\n",
    "    cur.execute('SELECT measurement_start_time from ooni_web_connectivity_test ORDER BY measurement_start_time DESC')\n",
    "    return cur.fetchone()[0]\n",
    "    \n",
    "most_recent_reading = get_latest_reading_time(my_cursor)\n",
    "most_recent_reading"
   ]
  },
  {
   "cell_type": "code",
   "execution_count": 523,
   "metadata": {},
   "outputs": [
    {
     "name": "stderr",
     "output_type": "stream",
     "text": [
      "2021-05-25 16:22:33 congratulations urllib3.connectionpool[4205] DEBUG Starting new HTTPS connection (1): api.ooni.io:443\n",
      "2021-05-25 16:22:33 congratulations urllib3.connectionpool[4205] DEBUG https://api.ooni.io:443 \"GET /api/v1/measurements?test_name=web_connectivity&anomaly=true&order_by=test_start_time&limit=1000&since=2021-05-25T23:21:39 HTTP/1.1\" 200 1901\n"
     ]
    }
   ],
   "source": [
    "import pytz\n",
    "\n",
    "def query_measurements_after (time: datetime) -> list:\n",
    "    '''Queries all measurements after time.'''\n",
    "\n",
    "    def fmt_dt (t: datetime):\n",
    "        return t.strftime(\"%Y-%m-%dT%H:%M:%S\")\n",
    "    # format timezone-aware date into UTC fo querying\n",
    "    utc_dt = to_utc(time)\n",
    "    # format it into the query url\n",
    "    dt_str = fmt_dt(utc_dt)\n",
    "    query_str = base_query + f'&since={dt_str}'\n",
    "    # issue the query\n",
    "    return api_query(query_str)\n",
    "\n",
    "ms  = query_measurements_after(most_recent_reading)"
   ]
  },
  {
   "cell_type": "code",
   "execution_count": 524,
   "metadata": {},
   "outputs": [
    {
     "data": {
      "text/plain": [
       "2021-05-25 23:22:11+00:00 - US -> US, US (http-diff http://www.newnownext.com/franchise/the-backlot/)"
      ]
     },
     "execution_count": 524,
     "metadata": {},
     "output_type": "execute_result"
    }
   ],
   "source": [
    "ingest_api_measurement(ms[0])"
   ]
  },
  {
   "cell_type": "code",
   "execution_count": 542,
   "metadata": {},
   "outputs": [],
   "source": [
    "def write_to_db (cur: cursor, conn: connection, connectivity_tests: List[OONIWebConnectivityTest]) -> None:\n",
    "    for t in connectivity_tests:\n",
    "        t.write_to_db(cur, conn, commit=False) \n",
    "    conn.commit()"
   ]
  },
  {
   "cell_type": "markdown",
   "metadata": {},
   "source": [
    "# Tying it all together"
   ]
  },
  {
   "cell_type": "code",
   "execution_count": 543,
   "metadata": {},
   "outputs": [],
   "source": [
    "def scrape (cur: cursor, conn: connection) -> None:\n",
    "    t = get_latest_reading_time(cur)\n",
    "    logging.info(f'Querying results after {t}.')\n",
    "    ms = query_measurements_after(t)\n",
    "    logging.debug(f'Retrieved {len(ms)} results.')\n",
    "    ingested = ingest_api_measurements(ms)\n",
    "    logging.debug(f'Ingested {len(ms)} results.')\n",
    "    write_to_db(cur, conn, ingested)\n",
    "    logging.info(f'Wrote {len(ms)} results to database.')"
   ]
  },
  {
   "cell_type": "code",
   "execution_count": 544,
   "metadata": {
    "collapsed": true
   },
   "outputs": [
    {
     "name": "stderr",
     "output_type": "stream",
     "text": [
      "2021-05-25 18:18:02 congratulations root[4205] INFO Querying results after 2021-05-25 18:13:14-07:00.\n",
      "2021-05-25 18:18:02 congratulations urllib3.connectionpool[4205] DEBUG Starting new HTTPS connection (1): api.ooni.io:443\n",
      "2021-05-25 18:18:03 congratulations urllib3.connectionpool[4205] DEBUG https://api.ooni.io:443 \"GET /api/v1/measurements?test_name=web_connectivity&anomaly=true&order_by=test_start_time&limit=1000&since=2021-05-25T23:24:20 HTTP/1.1\" 200 845524\n",
      "2021-05-25 18:18:08 congratulations urllib3.connectionpool[4205] DEBUG Starting new HTTPS connection (1): api.ooni.io:443\n"
     ]
    },
    {
     "name": "stdout",
     "output_type": "stream",
     "text": [
      "next URL measurements?test_name=web_connectivity&anomaly=true&order_by=test_start_time&limit=1000&since=2021-05-25T23%3A24%3A20&offset=1000\n"
     ]
    },
    {
     "name": "stderr",
     "output_type": "stream",
     "text": [
      "2021-05-25 18:18:09 congratulations urllib3.connectionpool[4205] DEBUG https://api.ooni.io:443 \"GET /api/v1/measurements?test_name=web_connectivity&anomaly=true&order_by=test_start_time&limit=1000&since=2021-05-25T23%3A24%3A20&offset=1000 HTTP/1.1\" 200 838261\n",
      "2021-05-25 18:18:14 congratulations urllib3.connectionpool[4205] DEBUG Starting new HTTPS connection (1): api.ooni.io:443\n"
     ]
    },
    {
     "name": "stdout",
     "output_type": "stream",
     "text": [
      "next URL measurements?test_name=web_connectivity&anomaly=true&order_by=test_start_time&limit=1000&since=2021-05-25T23%3A24%3A20&offset=2000\n"
     ]
    },
    {
     "name": "stderr",
     "output_type": "stream",
     "text": [
      "2021-05-25 18:18:15 congratulations urllib3.connectionpool[4205] DEBUG https://api.ooni.io:443 \"GET /api/v1/measurements?test_name=web_connectivity&anomaly=true&order_by=test_start_time&limit=1000&since=2021-05-25T23%3A24%3A20&offset=2000 HTTP/1.1\" 200 421139\n",
      "2021-05-25 18:18:17 congratulations root[4205] DEBUG Retrieved 2507 results.\n",
      "2021-05-25 18:18:17 congratulations root[19887] INFO Cannot find country for .as\n",
      "2021-05-25 18:18:17 congratulations poll-ooni[19887] WARNING No jurisidiction for as - https://write.as/\n",
      "2021-05-25 18:18:19 congratulations root[19888] INFO Cannot find country for .fund\n",
      "2021-05-25 18:18:19 congratulations poll-ooni[19888] WARNING No jurisidiction for fund - https://www.opentech.fund/\n",
      "2021-05-25 18:18:19 congratulations root[19887] INFO Cannot find country for .jm\n",
      "2021-05-25 18:18:19 congratulations poll-ooni[19887] WARNING No jurisidiction for org.jm - https://www.isa.org.jm/\n",
      "2021-05-25 18:18:21 congratulations root[19886] INFO Country code for .mobi is not a string: nan\n",
      "2021-05-25 18:18:21 congratulations poll-ooni[19886] WARNING No jurisidiction for mobi - https://grindr.mobi/\n",
      "2021-05-25 18:18:21 congratulations root[19886] INFO Cannot find country for .cu\n",
      "2021-05-25 18:18:21 congratulations poll-ooni[19886] WARNING No jurisidiction for cu - http://www.granma.cu/\n",
      "2021-05-25 18:18:23 congratulations root[19886] INFO Cannot find country for .media\n",
      "2021-05-25 18:18:23 congratulations poll-ooni[19886] WARNING No jurisidiction for media - https://ipi.media/\n",
      "Process ForkPoolWorker-222:\n",
      "Traceback (most recent call last):\n"
     ]
    },
    {
     "ename": "KeyboardInterrupt",
     "evalue": "",
     "output_type": "error",
     "traceback": [
      "\u001b[0;31m---------------------------------------------------------------------------\u001b[0m",
      "\u001b[0;31mKeyboardInterrupt\u001b[0m                         Traceback (most recent call last)",
      "\u001b[0;32m<ipython-input-544-87499e53da34>\u001b[0m in \u001b[0;36m<module>\u001b[0;34m()\u001b[0m\n\u001b[0;32m----> 1\u001b[0;31m \u001b[0mscrape\u001b[0m\u001b[0;34m(\u001b[0m\u001b[0mmy_cursor\u001b[0m\u001b[0;34m,\u001b[0m \u001b[0mmy_connection\u001b[0m\u001b[0;34m)\u001b[0m\u001b[0;34m\u001b[0m\u001b[0;34m\u001b[0m\u001b[0m\n\u001b[0m",
      "\u001b[0;32m<ipython-input-543-859c4f579e66>\u001b[0m in \u001b[0;36mscrape\u001b[0;34m(cur, conn)\u001b[0m\n\u001b[1;32m      4\u001b[0m     \u001b[0mms\u001b[0m \u001b[0;34m=\u001b[0m \u001b[0mquery_measurements_after\u001b[0m\u001b[0;34m(\u001b[0m\u001b[0mt\u001b[0m\u001b[0;34m)\u001b[0m\u001b[0;34m\u001b[0m\u001b[0;34m\u001b[0m\u001b[0m\n\u001b[1;32m      5\u001b[0m     \u001b[0mlogging\u001b[0m\u001b[0;34m.\u001b[0m\u001b[0mdebug\u001b[0m\u001b[0;34m(\u001b[0m\u001b[0;34mf'Retrieved {len(ms)} results.'\u001b[0m\u001b[0;34m)\u001b[0m\u001b[0;34m\u001b[0m\u001b[0;34m\u001b[0m\u001b[0m\n\u001b[0;32m----> 6\u001b[0;31m     \u001b[0mingested\u001b[0m \u001b[0;34m=\u001b[0m \u001b[0mingest_api_measurements\u001b[0m\u001b[0;34m(\u001b[0m\u001b[0mms\u001b[0m\u001b[0;34m)\u001b[0m\u001b[0;34m\u001b[0m\u001b[0;34m\u001b[0m\u001b[0m\n\u001b[0m\u001b[1;32m      7\u001b[0m     \u001b[0mlogging\u001b[0m\u001b[0;34m.\u001b[0m\u001b[0mdebug\u001b[0m\u001b[0;34m(\u001b[0m\u001b[0;34mf'Ingested {len(ms)} results.'\u001b[0m\u001b[0;34m)\u001b[0m\u001b[0;34m\u001b[0m\u001b[0;34m\u001b[0m\u001b[0m\n\u001b[1;32m      8\u001b[0m     \u001b[0mwrite_to_db\u001b[0m\u001b[0;34m(\u001b[0m\u001b[0mcur\u001b[0m\u001b[0;34m,\u001b[0m \u001b[0mconn\u001b[0m\u001b[0;34m,\u001b[0m \u001b[0mingested\u001b[0m\u001b[0;34m)\u001b[0m\u001b[0;34m\u001b[0m\u001b[0;34m\u001b[0m\u001b[0m\n",
      "\u001b[0;32m<ipython-input-519-5bfdecb8c7d7>\u001b[0m in \u001b[0;36mingest_api_measurements\u001b[0;34m(measurements)\u001b[0m\n\u001b[1;32m      4\u001b[0m \u001b[0;32mdef\u001b[0m \u001b[0mingest_api_measurements\u001b[0m \u001b[0;34m(\u001b[0m\u001b[0mmeasurements\u001b[0m\u001b[0;34m:\u001b[0m \u001b[0mList\u001b[0m\u001b[0;34m[\u001b[0m\u001b[0mdict\u001b[0m\u001b[0;34m]\u001b[0m\u001b[0;34m)\u001b[0m \u001b[0;34m->\u001b[0m \u001b[0mList\u001b[0m\u001b[0;34m[\u001b[0m\u001b[0mOONIWebConnectivityTest\u001b[0m\u001b[0;34m]\u001b[0m\u001b[0;34m:\u001b[0m\u001b[0;34m\u001b[0m\u001b[0;34m\u001b[0m\u001b[0m\n\u001b[1;32m      5\u001b[0m     \u001b[0;32mwith\u001b[0m \u001b[0mPool\u001b[0m\u001b[0;34m(\u001b[0m\u001b[0;34m)\u001b[0m \u001b[0;32mas\u001b[0m \u001b[0mp\u001b[0m\u001b[0;34m:\u001b[0m\u001b[0;34m\u001b[0m\u001b[0;34m\u001b[0m\u001b[0m\n\u001b[0;32m----> 6\u001b[0;31m         \u001b[0;32mreturn\u001b[0m \u001b[0mp\u001b[0m\u001b[0;34m.\u001b[0m\u001b[0mmap\u001b[0m\u001b[0;34m(\u001b[0m\u001b[0mingest_api_measurement\u001b[0m\u001b[0;34m,\u001b[0m \u001b[0mmeasurements\u001b[0m\u001b[0;34m)\u001b[0m\u001b[0;34m\u001b[0m\u001b[0;34m\u001b[0m\u001b[0m\n\u001b[0m",
      "\u001b[0;32m/usr/lib/python3.6/multiprocessing/pool.py\u001b[0m in \u001b[0;36mmap\u001b[0;34m(self, func, iterable, chunksize)\u001b[0m\n\u001b[1;32m    264\u001b[0m         \u001b[0;32min\u001b[0m \u001b[0ma\u001b[0m \u001b[0mlist\u001b[0m \u001b[0mthat\u001b[0m \u001b[0;32mis\u001b[0m \u001b[0mreturned\u001b[0m\u001b[0;34m.\u001b[0m\u001b[0;34m\u001b[0m\u001b[0;34m\u001b[0m\u001b[0m\n\u001b[1;32m    265\u001b[0m         '''\n\u001b[0;32m--> 266\u001b[0;31m         \u001b[0;32mreturn\u001b[0m \u001b[0mself\u001b[0m\u001b[0;34m.\u001b[0m\u001b[0m_map_async\u001b[0m\u001b[0;34m(\u001b[0m\u001b[0mfunc\u001b[0m\u001b[0;34m,\u001b[0m \u001b[0miterable\u001b[0m\u001b[0;34m,\u001b[0m \u001b[0mmapstar\u001b[0m\u001b[0;34m,\u001b[0m \u001b[0mchunksize\u001b[0m\u001b[0;34m)\u001b[0m\u001b[0;34m.\u001b[0m\u001b[0mget\u001b[0m\u001b[0;34m(\u001b[0m\u001b[0;34m)\u001b[0m\u001b[0;34m\u001b[0m\u001b[0;34m\u001b[0m\u001b[0m\n\u001b[0m\u001b[1;32m    267\u001b[0m \u001b[0;34m\u001b[0m\u001b[0m\n\u001b[1;32m    268\u001b[0m     \u001b[0;32mdef\u001b[0m \u001b[0mstarmap\u001b[0m\u001b[0;34m(\u001b[0m\u001b[0mself\u001b[0m\u001b[0;34m,\u001b[0m \u001b[0mfunc\u001b[0m\u001b[0;34m,\u001b[0m \u001b[0miterable\u001b[0m\u001b[0;34m,\u001b[0m \u001b[0mchunksize\u001b[0m\u001b[0;34m=\u001b[0m\u001b[0;32mNone\u001b[0m\u001b[0;34m)\u001b[0m\u001b[0;34m:\u001b[0m\u001b[0;34m\u001b[0m\u001b[0;34m\u001b[0m\u001b[0m\n",
      "\u001b[0;32m/usr/lib/python3.6/multiprocessing/pool.py\u001b[0m in \u001b[0;36mget\u001b[0;34m(self, timeout)\u001b[0m\n\u001b[1;32m    636\u001b[0m \u001b[0;34m\u001b[0m\u001b[0m\n\u001b[1;32m    637\u001b[0m     \u001b[0;32mdef\u001b[0m \u001b[0mget\u001b[0m\u001b[0;34m(\u001b[0m\u001b[0mself\u001b[0m\u001b[0;34m,\u001b[0m \u001b[0mtimeout\u001b[0m\u001b[0;34m=\u001b[0m\u001b[0;32mNone\u001b[0m\u001b[0;34m)\u001b[0m\u001b[0;34m:\u001b[0m\u001b[0;34m\u001b[0m\u001b[0;34m\u001b[0m\u001b[0m\n\u001b[0;32m--> 638\u001b[0;31m         \u001b[0mself\u001b[0m\u001b[0;34m.\u001b[0m\u001b[0mwait\u001b[0m\u001b[0;34m(\u001b[0m\u001b[0mtimeout\u001b[0m\u001b[0;34m)\u001b[0m\u001b[0;34m\u001b[0m\u001b[0;34m\u001b[0m\u001b[0m\n\u001b[0m\u001b[1;32m    639\u001b[0m         \u001b[0;32mif\u001b[0m \u001b[0;32mnot\u001b[0m \u001b[0mself\u001b[0m\u001b[0;34m.\u001b[0m\u001b[0mready\u001b[0m\u001b[0;34m(\u001b[0m\u001b[0;34m)\u001b[0m\u001b[0;34m:\u001b[0m\u001b[0;34m\u001b[0m\u001b[0;34m\u001b[0m\u001b[0m\n\u001b[1;32m    640\u001b[0m             \u001b[0;32mraise\u001b[0m \u001b[0mTimeoutError\u001b[0m\u001b[0;34m\u001b[0m\u001b[0;34m\u001b[0m\u001b[0m\n",
      "\u001b[0;32m/usr/lib/python3.6/multiprocessing/pool.py\u001b[0m in \u001b[0;36mwait\u001b[0;34m(self, timeout)\u001b[0m\n\u001b[1;32m    633\u001b[0m \u001b[0;34m\u001b[0m\u001b[0m\n\u001b[1;32m    634\u001b[0m     \u001b[0;32mdef\u001b[0m \u001b[0mwait\u001b[0m\u001b[0;34m(\u001b[0m\u001b[0mself\u001b[0m\u001b[0;34m,\u001b[0m \u001b[0mtimeout\u001b[0m\u001b[0;34m=\u001b[0m\u001b[0;32mNone\u001b[0m\u001b[0;34m)\u001b[0m\u001b[0;34m:\u001b[0m\u001b[0;34m\u001b[0m\u001b[0;34m\u001b[0m\u001b[0m\n\u001b[0;32m--> 635\u001b[0;31m         \u001b[0mself\u001b[0m\u001b[0;34m.\u001b[0m\u001b[0m_event\u001b[0m\u001b[0;34m.\u001b[0m\u001b[0mwait\u001b[0m\u001b[0;34m(\u001b[0m\u001b[0mtimeout\u001b[0m\u001b[0;34m)\u001b[0m\u001b[0;34m\u001b[0m\u001b[0;34m\u001b[0m\u001b[0m\n\u001b[0m\u001b[1;32m    636\u001b[0m \u001b[0;34m\u001b[0m\u001b[0m\n\u001b[1;32m    637\u001b[0m     \u001b[0;32mdef\u001b[0m \u001b[0mget\u001b[0m\u001b[0;34m(\u001b[0m\u001b[0mself\u001b[0m\u001b[0;34m,\u001b[0m \u001b[0mtimeout\u001b[0m\u001b[0;34m=\u001b[0m\u001b[0;32mNone\u001b[0m\u001b[0;34m)\u001b[0m\u001b[0;34m:\u001b[0m\u001b[0;34m\u001b[0m\u001b[0;34m\u001b[0m\u001b[0m\n",
      "\u001b[0;32m/usr/lib/python3.6/threading.py\u001b[0m in \u001b[0;36mwait\u001b[0;34m(self, timeout)\u001b[0m\n\u001b[1;32m    549\u001b[0m             \u001b[0msignaled\u001b[0m \u001b[0;34m=\u001b[0m \u001b[0mself\u001b[0m\u001b[0;34m.\u001b[0m\u001b[0m_flag\u001b[0m\u001b[0;34m\u001b[0m\u001b[0;34m\u001b[0m\u001b[0m\n\u001b[1;32m    550\u001b[0m             \u001b[0;32mif\u001b[0m \u001b[0;32mnot\u001b[0m \u001b[0msignaled\u001b[0m\u001b[0;34m:\u001b[0m\u001b[0;34m\u001b[0m\u001b[0;34m\u001b[0m\u001b[0m\n\u001b[0;32m--> 551\u001b[0;31m                 \u001b[0msignaled\u001b[0m \u001b[0;34m=\u001b[0m \u001b[0mself\u001b[0m\u001b[0;34m.\u001b[0m\u001b[0m_cond\u001b[0m\u001b[0;34m.\u001b[0m\u001b[0mwait\u001b[0m\u001b[0;34m(\u001b[0m\u001b[0mtimeout\u001b[0m\u001b[0;34m)\u001b[0m\u001b[0;34m\u001b[0m\u001b[0;34m\u001b[0m\u001b[0m\n\u001b[0m\u001b[1;32m    552\u001b[0m             \u001b[0;32mreturn\u001b[0m \u001b[0msignaled\u001b[0m\u001b[0;34m\u001b[0m\u001b[0;34m\u001b[0m\u001b[0m\n\u001b[1;32m    553\u001b[0m \u001b[0;34m\u001b[0m\u001b[0m\n",
      "\u001b[0;32m/usr/lib/python3.6/threading.py\u001b[0m in \u001b[0;36mwait\u001b[0;34m(self, timeout)\u001b[0m\n\u001b[1;32m    293\u001b[0m         \u001b[0;32mtry\u001b[0m\u001b[0;34m:\u001b[0m    \u001b[0;31m# restore state no matter what (e.g., KeyboardInterrupt)\u001b[0m\u001b[0;34m\u001b[0m\u001b[0;34m\u001b[0m\u001b[0m\n\u001b[1;32m    294\u001b[0m             \u001b[0;32mif\u001b[0m \u001b[0mtimeout\u001b[0m \u001b[0;32mis\u001b[0m \u001b[0;32mNone\u001b[0m\u001b[0;34m:\u001b[0m\u001b[0;34m\u001b[0m\u001b[0;34m\u001b[0m\u001b[0m\n\u001b[0;32m--> 295\u001b[0;31m                 \u001b[0mwaiter\u001b[0m\u001b[0;34m.\u001b[0m\u001b[0macquire\u001b[0m\u001b[0;34m(\u001b[0m\u001b[0;34m)\u001b[0m\u001b[0;34m\u001b[0m\u001b[0;34m\u001b[0m\u001b[0m\n\u001b[0m\u001b[1;32m    296\u001b[0m                 \u001b[0mgotit\u001b[0m \u001b[0;34m=\u001b[0m \u001b[0;32mTrue\u001b[0m\u001b[0;34m\u001b[0m\u001b[0;34m\u001b[0m\u001b[0m\n\u001b[1;32m    297\u001b[0m             \u001b[0;32melse\u001b[0m\u001b[0;34m:\u001b[0m\u001b[0;34m\u001b[0m\u001b[0;34m\u001b[0m\u001b[0m\n",
      "\u001b[0;31mKeyboardInterrupt\u001b[0m: "
     ]
    }
   ],
   "source": [
    "scrape(my_cursor, my_connection)"
   ]
  },
  {
   "cell_type": "code",
   "execution_count": 553,
   "metadata": {},
   "outputs": [
    {
     "name": "stderr",
     "output_type": "stream",
     "text": [
      "2021-05-25 18:21:36 congratulations root[4205] INFO Querying results after 2021-05-25 18:20:20-07:00.\n",
      "2021-05-25 18:21:36 congratulations urllib3.connectionpool[4205] DEBUG Starting new HTTPS connection (1): api.ooni.io:443\n",
      "2021-05-25 18:21:37 congratulations urllib3.connectionpool[4205] DEBUG https://api.ooni.io:443 \"GET /api/v1/measurements?test_name=web_connectivity&anomaly=true&order_by=test_start_time&limit=1000&since=2021-05-26T01:20:20 HTTP/1.1\" 200 1057\n",
      "2021-05-25 18:21:37 congratulations root[4205] DEBUG Retrieved 1 results.\n",
      "2021-05-25 18:21:37 congratulations root[4205] DEBUG Ingested 1 results.\n",
      "2021-05-25 18:21:37 congratulations root[4205] INFO Wrote 1 results to database.\n",
      "2021-05-25 18:26:37 congratulations root[4205] INFO Querying results after 2021-05-25 18:20:49-07:00.\n",
      "2021-05-25 18:26:37 congratulations urllib3.connectionpool[4205] DEBUG Starting new HTTPS connection (1): api.ooni.io:443\n",
      "2021-05-25 18:26:38 congratulations urllib3.connectionpool[4205] DEBUG https://api.ooni.io:443 \"GET /api/v1/measurements?test_name=web_connectivity&anomaly=true&order_by=test_start_time&limit=1000&since=2021-05-26T01:20:20 HTTP/1.1\" 200 30120\n",
      "2021-05-25 18:26:38 congratulations root[4205] DEBUG Retrieved 36 results.\n",
      "2021-05-25 18:26:39 congratulations root[4205] DEBUG Ingested 36 results.\n",
      "2021-05-25 18:26:39 congratulations root[4205] INFO Wrote 36 results to database.\n",
      "2021-05-25 18:31:39 congratulations root[4205] INFO Querying results after 2021-05-25 18:26:14-07:00.\n",
      "2021-05-25 18:31:39 congratulations urllib3.connectionpool[4205] DEBUG Starting new HTTPS connection (1): api.ooni.io:443\n",
      "2021-05-25 18:31:40 congratulations urllib3.connectionpool[4205] DEBUG https://api.ooni.io:443 \"GET /api/v1/measurements?test_name=web_connectivity&anomaly=true&order_by=test_start_time&limit=1000&since=2021-05-26T01:20:20 HTTP/1.1\" 200 57697\n",
      "2021-05-25 18:31:40 congratulations root[4205] DEBUG Retrieved 69 results.\n",
      "2021-05-25 18:31:40 congratulations root[4205] DEBUG Ingested 69 results.\n",
      "2021-05-25 18:31:40 congratulations root[4205] INFO Wrote 69 results to database.\n",
      "2021-05-25 18:36:40 congratulations root[4205] INFO Querying results after 2021-05-25 18:30:54-07:00.\n",
      "2021-05-25 18:36:40 congratulations urllib3.connectionpool[4205] DEBUG Starting new HTTPS connection (1): api.ooni.io:443\n",
      "2021-05-25 18:36:41 congratulations urllib3.connectionpool[4205] DEBUG https://api.ooni.io:443 \"GET /api/v1/measurements?test_name=web_connectivity&anomaly=true&order_by=test_start_time&limit=1000&since=2021-05-26T01:20:20 HTTP/1.1\" 200 73441\n",
      "2021-05-25 18:36:41 congratulations root[4205] DEBUG Retrieved 88 results.\n",
      "2021-05-25 18:36:42 congratulations root[4205] DEBUG Ingested 88 results.\n",
      "2021-05-25 18:36:42 congratulations root[4205] INFO Wrote 88 results to database.\n",
      "2021-05-25 18:41:42 congratulations root[4205] INFO Querying results after 2021-05-25 18:35:37-07:00.\n",
      "2021-05-25 18:41:42 congratulations urllib3.connectionpool[4205] DEBUG Starting new HTTPS connection (1): api.ooni.io:443\n",
      "2021-05-25 18:41:43 congratulations urllib3.connectionpool[4205] DEBUG https://api.ooni.io:443 \"GET /api/v1/measurements?test_name=web_connectivity&anomaly=true&order_by=test_start_time&limit=1000&since=2021-05-26T01:20:20 HTTP/1.1\" 200 92568\n",
      "2021-05-25 18:41:43 congratulations root[4205] DEBUG Retrieved 111 results.\n",
      "2021-05-25 18:41:43 congratulations root[31096] INFO Cannot find country for .af\n",
      "2021-05-25 18:41:43 congratulations poll-ooni[31096] WARNING No jurisidiction for af - http://blog.af/\n",
      "2021-05-25 18:41:44 congratulations root[4205] DEBUG Ingested 111 results.\n",
      "2021-05-25 18:41:44 congratulations root[4205] INFO Wrote 111 results to database.\n",
      "2021-05-25 18:46:44 congratulations root[4205] INFO Querying results after 2021-05-25 18:40:49-07:00.\n",
      "2021-05-25 18:46:44 congratulations urllib3.connectionpool[4205] DEBUG Starting new HTTPS connection (1): api.ooni.io:443\n",
      "2021-05-25 18:46:45 congratulations urllib3.connectionpool[4205] DEBUG https://api.ooni.io:443 \"GET /api/v1/measurements?test_name=web_connectivity&anomaly=true&order_by=test_start_time&limit=1000&since=2021-05-26T01:20:20 HTTP/1.1\" 200 104847\n",
      "2021-05-25 18:46:45 congratulations root[4205] DEBUG Retrieved 126 results.\n",
      "2021-05-25 18:46:46 congratulations root[31330] INFO Cannot find country for .af\n",
      "2021-05-25 18:46:46 congratulations poll-ooni[31330] WARNING No jurisidiction for af - http://blog.af/\n",
      "2021-05-25 18:46:46 congratulations root[4205] DEBUG Ingested 126 results.\n",
      "2021-05-25 18:46:46 congratulations root[4205] INFO Wrote 126 results to database.\n",
      "2021-05-25 18:51:46 congratulations root[4205] INFO Querying results after 2021-05-25 18:46:34-07:00.\n",
      "2021-05-25 18:51:46 congratulations urllib3.connectionpool[4205] DEBUG Starting new HTTPS connection (1): api.ooni.io:443\n",
      "2021-05-25 18:51:47 congratulations urllib3.connectionpool[4205] DEBUG https://api.ooni.io:443 \"GET /api/v1/measurements?test_name=web_connectivity&anomaly=true&order_by=test_start_time&limit=1000&since=2021-05-26T01:20:20 HTTP/1.1\" 200 125560\n",
      "2021-05-25 18:51:48 congratulations root[4205] DEBUG Retrieved 151 results.\n",
      "2021-05-25 18:51:48 congratulations root[31571] INFO Cannot find country for .af\n",
      "2021-05-25 18:51:48 congratulations poll-ooni[31571] WARNING No jurisidiction for af - http://blog.af/\n",
      "2021-05-25 18:51:48 congratulations root[4205] DEBUG Ingested 151 results.\n",
      "2021-05-25 18:51:48 congratulations root[4205] INFO Wrote 151 results to database.\n",
      "2021-05-25 18:56:49 congratulations root[4205] INFO Querying results after 2021-05-25 18:51:42-07:00.\n",
      "2021-05-25 18:56:49 congratulations urllib3.connectionpool[4205] DEBUG Starting new HTTPS connection (1): api.ooni.io:443\n",
      "2021-05-25 18:56:49 congratulations urllib3.connectionpool[4205] DEBUG https://api.ooni.io:443 \"GET /api/v1/measurements?test_name=web_connectivity&anomaly=true&order_by=test_start_time&limit=1000&since=2021-05-26T01:20:20 HTTP/1.1\" 200 198582\n",
      "2021-05-25 18:56:50 congratulations root[4205] DEBUG Retrieved 239 results.\n",
      "2021-05-25 18:56:51 congratulations root[31865] INFO Cannot find country for .af\n",
      "2021-05-25 18:56:51 congratulations poll-ooni[31865] WARNING No jurisidiction for af - http://blog.af/\n",
      "2021-05-25 18:56:51 congratulations root[4205] DEBUG Ingested 239 results.\n",
      "2021-05-25 18:56:51 congratulations root[4205] INFO Wrote 239 results to database.\n"
     ]
    },
    {
     "ename": "KeyboardInterrupt",
     "evalue": "",
     "output_type": "error",
     "traceback": [
      "\u001b[0;31m---------------------------------------------------------------------------\u001b[0m",
      "\u001b[0;31mKeyboardInterrupt\u001b[0m                         Traceback (most recent call last)",
      "\u001b[0;32m<ipython-input-553-d02a5850e395>\u001b[0m in \u001b[0;36m<module>\u001b[0;34m()\u001b[0m\n\u001b[1;32m      1\u001b[0m \u001b[0;32mwhile\u001b[0m \u001b[0;32mTrue\u001b[0m\u001b[0;34m:\u001b[0m\u001b[0;34m\u001b[0m\u001b[0;34m\u001b[0m\u001b[0m\n\u001b[1;32m      2\u001b[0m     \u001b[0mscrape\u001b[0m\u001b[0;34m(\u001b[0m\u001b[0mmy_cursor\u001b[0m\u001b[0;34m,\u001b[0m \u001b[0mmy_connection\u001b[0m\u001b[0;34m)\u001b[0m\u001b[0;34m\u001b[0m\u001b[0;34m\u001b[0m\u001b[0m\n\u001b[0;32m----> 3\u001b[0;31m     \u001b[0msleep\u001b[0m\u001b[0;34m(\u001b[0m\u001b[0mconfig\u001b[0m\u001b[0;34m[\u001b[0m\u001b[0;34m'sleep-times'\u001b[0m\u001b[0;34m]\u001b[0m\u001b[0;34m[\u001b[0m\u001b[0;34m'ooni-poll'\u001b[0m\u001b[0;34m]\u001b[0m\u001b[0;34m)\u001b[0m\u001b[0;34m\u001b[0m\u001b[0;34m\u001b[0m\u001b[0m\n\u001b[0m",
      "\u001b[0;31mKeyboardInterrupt\u001b[0m: "
     ]
    }
   ],
   "source": [
    "while True:\n",
    "    scrape(my_cursor, my_connection)\n",
    "    sleep(config['sleep-times']['ooni-poll'])"
   ]
  }
 ],
 "metadata": {
  "kernelspec": {
   "display_name": "Python 3",
   "language": "python",
   "name": "python3"
  },
  "language_info": {
   "codemirror_mode": {
    "name": "ipython",
    "version": 3
   },
   "file_extension": ".py",
   "mimetype": "text/x-python",
   "name": "python",
   "nbconvert_exporter": "python",
   "pygments_lexer": "ipython3",
   "version": "3.6.9"
  }
 },
 "nbformat": 4,
 "nbformat_minor": 2
}
