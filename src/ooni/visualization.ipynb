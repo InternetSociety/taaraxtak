{
 "cells": [
  {
   "cell_type": "code",
   "execution_count": 1,
   "metadata": {},
   "outputs": [],
   "source": [
    "import logging\n",
    "import coloredlogs\n",
    "import requests\n",
    "from time import sleep\n",
    "\n",
    "from psycopg2.extensions import cursor\n",
    "from psycopg2.extensions import connection\n",
    "import pandas as pd"
   ]
  },
  {
   "cell_type": "code",
   "execution_count": 2,
   "metadata": {},
   "outputs": [],
   "source": [
    "logging.basicConfig()\n",
    "# logger = logging.getLogger(\"poll-ooni\")\n",
    "# logger.setLevel(logging.DEBUG)\n",
    "coloredlogs.install()\n",
    "coloredlogs.install(level='DEBUG')\n",
    "# coloredlogs.install(level='INFO')"
   ]
  },
  {
   "cell_type": "code",
   "execution_count": 3,
   "metadata": {},
   "outputs": [
    {
     "name": "stderr",
     "output_type": "stream",
     "text": [
      "2021-06-01 14:45:02 congratulations root[19214] INFO Connected to database.\n"
     ]
    }
   ],
   "source": [
    "import config\n",
    "from imp import reload\n",
    "reload(config)\n",
    "from config import config\n",
    "import psycopg2\n",
    "\n",
    "# connect to the db\n",
    "my_connection = psycopg2.connect(**config['postgres'])\n",
    "my_cursor = my_connection.cursor()\n",
    "logging.info('Connected to database.')"
   ]
  },
  {
   "cell_type": "code",
   "execution_count": 5,
   "metadata": {},
   "outputs": [],
   "source": [
    "# import src.ooni.utils as utils"
   ]
  },
  {
   "cell_type": "code",
   "execution_count": 21,
   "metadata": {},
   "outputs": [],
   "source": [
    "def rollback():\n",
    "    my_cursor.execute(\"ROLLBACK\")\n",
    "    my_connection.commit()"
   ]
  },
  {
   "cell_type": "markdown",
   "metadata": {},
   "source": [
    "# Visualization!\n",
    "\n",
    "just connect to database to run cells below."
   ]
  },
  {
   "cell_type": "code",
   "execution_count": 6,
   "metadata": {},
   "outputs": [],
   "source": [
    "import json\n",
    "\n",
    "def load (f):\n",
    "    return json.load(open(f, 'r'))\n",
    "\n",
    "sampleData = load('../../visualizations/globe/data/sampleData.json')"
   ]
  },
  {
   "cell_type": "markdown",
   "metadata": {},
   "source": [
    "import country\n",
    "export country\n",
    "value\n",
    "\n",
    "e -> i\n",
    "\n",
    "\n",
    "countries are CC2s (perfect)"
   ]
  },
  {
   "cell_type": "markdown",
   "metadata": {},
   "source": [
    "# Get directed data from the db"
   ]
  },
  {
   "cell_type": "code",
   "execution_count": 7,
   "metadata": {},
   "outputs": [],
   "source": [
    "# rollback()\n",
    "\n",
    "import pandas as pd\n",
    "\n",
    "def unique_pairs (target_attribute:str, confirmed_only=True) -> pd.DataFrame:\n",
    "    '''\n",
    "    These are unique inputs that are blocked.\n",
    "    \n",
    "    We don't want every blocking example - if a site appears once or more, that's enough.\n",
    "    '''\n",
    "    my_cursor.execute(f'''\n",
    "    SELECT DISTINCT input_url, probe_alpha2, {target_attribute}\n",
    "    from ooni_web_connectivity_test\n",
    "    {\"where confirmed=True\" if confirmed_only else \"\"}\n",
    "    ''')\n",
    "    pairs = my_cursor.fetchall()\n",
    "    return pd.DataFrame(pairs, columns=['input', 'e', 'i']).dropna()\n"
   ]
  },
  {
   "cell_type": "code",
   "execution_count": 22,
   "metadata": {},
   "outputs": [
    {
     "data": {
      "text/plain": [
       "(datetime.datetime(2021, 5, 26, 0, 16, 33, tzinfo=psycopg2.tz.FixedOffsetTimezone(offset=-420, name=None)),)"
      ]
     },
     "execution_count": 22,
     "metadata": {},
     "output_type": "execute_result"
    }
   ],
   "source": [
    "rollback()\n",
    "my_cursor.execute(f'''\n",
    "    SELECT measurement_start_time\n",
    "    from ooni_web_connectivity_test\n",
    "    order by measurement_start_Time\n",
    "''')\n",
    "my_cursor.fetchone()"
   ]
  },
  {
   "cell_type": "code",
   "execution_count": 40,
   "metadata": {},
   "outputs": [],
   "source": [
    "import geoip2.database"
   ]
  },
  {
   "cell_type": "code",
   "execution_count": 8,
   "metadata": {},
   "outputs": [],
   "source": [
    "tlds = unique_pairs('input_ip_alpha2')"
   ]
  },
  {
   "cell_type": "code",
   "execution_count": 9,
   "metadata": {},
   "outputs": [
    {
     "data": {
      "text/html": [
       "<div>\n",
       "<style scoped>\n",
       "    .dataframe tbody tr th:only-of-type {\n",
       "        vertical-align: middle;\n",
       "    }\n",
       "\n",
       "    .dataframe tbody tr th {\n",
       "        vertical-align: top;\n",
       "    }\n",
       "\n",
       "    .dataframe thead th {\n",
       "        text-align: right;\n",
       "    }\n",
       "</style>\n",
       "<table border=\"1\" class=\"dataframe\">\n",
       "  <thead>\n",
       "    <tr style=\"text-align: right;\">\n",
       "      <th></th>\n",
       "      <th>input</th>\n",
       "      <th>e</th>\n",
       "      <th>i</th>\n",
       "    </tr>\n",
       "  </thead>\n",
       "  <tbody>\n",
       "    <tr>\n",
       "      <th>0</th>\n",
       "      <td>http://www.newnownext.com/</td>\n",
       "      <td>IR</td>\n",
       "      <td>NL</td>\n",
       "    </tr>\n",
       "    <tr>\n",
       "      <th>1</th>\n",
       "      <td>http://ilga.org/</td>\n",
       "      <td>IR</td>\n",
       "      <td>NL</td>\n",
       "    </tr>\n",
       "    <tr>\n",
       "      <th>2</th>\n",
       "      <td>http://alarabiya24.com/</td>\n",
       "      <td>SA</td>\n",
       "      <td>DE</td>\n",
       "    </tr>\n",
       "    <tr>\n",
       "      <th>3</th>\n",
       "      <td>http://ipvnews.org/</td>\n",
       "      <td>RU</td>\n",
       "      <td>NL</td>\n",
       "    </tr>\n",
       "    <tr>\n",
       "      <th>4</th>\n",
       "      <td>http://www.pokerstars.com/</td>\n",
       "      <td>RU</td>\n",
       "      <td>DE</td>\n",
       "    </tr>\n",
       "    <tr>\n",
       "      <th>...</th>\n",
       "      <td>...</td>\n",
       "      <td>...</td>\n",
       "      <td>...</td>\n",
       "    </tr>\n",
       "    <tr>\n",
       "      <th>1566</th>\n",
       "      <td>http://www.cbsnews.com/</td>\n",
       "      <td>IR</td>\n",
       "      <td>US</td>\n",
       "    </tr>\n",
       "    <tr>\n",
       "      <th>1567</th>\n",
       "      <td>http://www.medinkur.ru/</td>\n",
       "      <td>RU</td>\n",
       "      <td>VG</td>\n",
       "    </tr>\n",
       "    <tr>\n",
       "      <th>1568</th>\n",
       "      <td>http://abc.go.com/</td>\n",
       "      <td>IR</td>\n",
       "      <td>DE</td>\n",
       "    </tr>\n",
       "    <tr>\n",
       "      <th>1569</th>\n",
       "      <td>http://khodorkovsky.ru/</td>\n",
       "      <td>RU</td>\n",
       "      <td>DE</td>\n",
       "    </tr>\n",
       "    <tr>\n",
       "      <th>1570</th>\n",
       "      <td>http://www.giganews.com/</td>\n",
       "      <td>IR</td>\n",
       "      <td>NL</td>\n",
       "    </tr>\n",
       "  </tbody>\n",
       "</table>\n",
       "<p>1571 rows × 3 columns</p>\n",
       "</div>"
      ],
      "text/plain": [
       "                           input   e   i\n",
       "0     http://www.newnownext.com/  IR  NL\n",
       "1               http://ilga.org/  IR  NL\n",
       "2        http://alarabiya24.com/  SA  DE\n",
       "3            http://ipvnews.org/  RU  NL\n",
       "4     http://www.pokerstars.com/  RU  DE\n",
       "...                          ...  ..  ..\n",
       "1566     http://www.cbsnews.com/  IR  US\n",
       "1567     http://www.medinkur.ru/  RU  VG\n",
       "1568          http://abc.go.com/  IR  DE\n",
       "1569     http://khodorkovsky.ru/  RU  DE\n",
       "1570    http://www.giganews.com/  IR  NL\n",
       "\n",
       "[1571 rows x 3 columns]"
      ]
     },
     "execution_count": 9,
     "metadata": {},
     "output_type": "execute_result"
    }
   ],
   "source": [
    "tlds"
   ]
  },
  {
   "cell_type": "code",
   "execution_count": 10,
   "metadata": {},
   "outputs": [],
   "source": [
    "def find_attacks (**kwargs) -> pd.DataFrame:\n",
    "    # get data\n",
    "    pairs_tld = unique_pairs('tld_jurisdiction_alpha2', **kwargs)\n",
    "#     pairs_ip = unique_pairs('input_ip_alpha2', **kwargs)\n",
    "    attacks = pairs_tld\n",
    "#     attacks = pd.concat([pairs_tld, pairs_ip])\n",
    "    return attacks"
   ]
  },
  {
   "cell_type": "code",
   "execution_count": 11,
   "metadata": {},
   "outputs": [],
   "source": [
    "from typing import List\n",
    "\n",
    "def find_unsafe_alpha2s (alpha2s: List[str]):\n",
    "    '''\n",
    "    Find alpha 2 country codes that are in our list, but not in the GIOJS sample dataset.\n",
    "    '''\n",
    "    cc2_in_their =  set(flatten([(s['e'], s['i']) for s in sampleData]))\n",
    "    possibly_unsafe_cc2 = alpha2s.difference(cc2_in_their)\n",
    "    return possibly_unsafe_cc2"
   ]
  },
  {
   "cell_type": "code",
   "execution_count": 12,
   "metadata": {},
   "outputs": [],
   "source": [
    "def count_attacks (attacks_df: pd.DataFrame, from_alpha2: str, to_alpha2: str) -> int:\n",
    "    return len(attacks_df[\n",
    "        (attacks_df['e']==from_alpha2) & \n",
    "        (attacks_df['i']==to_alpha2)])"
   ]
  },
  {
   "cell_type": "code",
   "execution_count": 13,
   "metadata": {},
   "outputs": [],
   "source": [
    "# rollback()\n",
    "from funcy import flatten\n",
    "\n",
    "def create_weights (magic_constant=100000, **kwargs) -> dict:\n",
    "    '''\n",
    "    magic_constant scales number of attacks for the viz.\n",
    "    '''\n",
    "    attacks = find_attacks(**kwargs)\n",
    "    # find distinct lines of attack (unique attacker->attackee vectors) \n",
    "    lines_of_attack = set([(v[0], v[1]) for v in attacks[['e', 'i']].values])\n",
    "    # find the CC2s that GioJS won't support\n",
    "    observed_alpha2s =  set(flatten(attacks[['e', 'i']].values.tolist()))\n",
    "    possibly_unsafe_cc2 = find_unsafe_alpha2s(observed_alpha2s)\n",
    "    # construct weights\n",
    "    weights = []\n",
    "    for line in lines_of_attack:\n",
    "        e, i = line\n",
    "        if e not in possibly_unsafe_cc2 and i not in possibly_unsafe_cc2 and e != i:\n",
    "            # count the number of attacks across each line\n",
    "            num_attacks = count_attacks(attacks, e, i)\n",
    "            weight = num_attacks*magic_constant\n",
    "            weights.append({\n",
    "                'e': e,\n",
    "                'i': i,\n",
    "                'v': weight\n",
    "            })\n",
    "    return weights"
   ]
  },
  {
   "cell_type": "code",
   "execution_count": 14,
   "metadata": {},
   "outputs": [],
   "source": [
    "weights_confirmed = create_weights(confirmed_only=True)\n",
    "weights_all = create_weights(confirmed_only=False)"
   ]
  },
  {
   "cell_type": "code",
   "execution_count": 15,
   "metadata": {},
   "outputs": [],
   "source": [
    "\n",
    "weights = {\n",
    "    'dataSetKeys': ['confirmed', 'all'],\n",
    "    'initDataSetKey': 'confirmed',\n",
    "    'confirmed': weights_confirmed,\n",
    "    'all': weights_all\n",
    "}\n",
    "\n",
    "json.dump(weights, open('../../visualizations/globe/data/attacks.json', 'w'))"
   ]
  },
  {
   "cell_type": "code",
   "execution_count": 41,
   "metadata": {},
   "outputs": [],
   "source": []
  },
  {
   "cell_type": "markdown",
   "metadata": {},
   "source": [
    "# Some basic questions\n",
    "\n",
    "how many 'bullets' do we see going by?"
   ]
  },
  {
   "cell_type": "code",
   "execution_count": 58,
   "metadata": {},
   "outputs": [
    {
     "data": {
      "text/html": [
       "<div>\n",
       "<style scoped>\n",
       "    .dataframe tbody tr th:only-of-type {\n",
       "        vertical-align: middle;\n",
       "    }\n",
       "\n",
       "    .dataframe tbody tr th {\n",
       "        vertical-align: top;\n",
       "    }\n",
       "\n",
       "    .dataframe thead th {\n",
       "        text-align: right;\n",
       "    }\n",
       "</style>\n",
       "<table border=\"1\" class=\"dataframe\">\n",
       "  <thead>\n",
       "    <tr style=\"text-align: right;\">\n",
       "      <th></th>\n",
       "      <th>input</th>\n",
       "      <th>e</th>\n",
       "      <th>i</th>\n",
       "    </tr>\n",
       "  </thead>\n",
       "  <tbody>\n",
       "    <tr>\n",
       "      <th>0</th>\n",
       "      <td>http://www.turkpress.co/</td>\n",
       "      <td>SA</td>\n",
       "      <td>CO</td>\n",
       "    </tr>\n",
       "    <tr>\n",
       "      <th>1</th>\n",
       "      <td>http://www.anonymsurfen.com/</td>\n",
       "      <td>SA</td>\n",
       "      <td>US</td>\n",
       "    </tr>\n",
       "    <tr>\n",
       "      <th>2</th>\n",
       "      <td>http://www.babylon-x.com/</td>\n",
       "      <td>SA</td>\n",
       "      <td>US</td>\n",
       "    </tr>\n",
       "    <tr>\n",
       "      <th>3</th>\n",
       "      <td>http://thenationalcampaign.org/</td>\n",
       "      <td>IR</td>\n",
       "      <td>US</td>\n",
       "    </tr>\n",
       "    <tr>\n",
       "      <th>4</th>\n",
       "      <td>http://www.ansar.org/</td>\n",
       "      <td>IR</td>\n",
       "      <td>US</td>\n",
       "    </tr>\n",
       "    <tr>\n",
       "      <th>...</th>\n",
       "      <td>...</td>\n",
       "      <td>...</td>\n",
       "      <td>...</td>\n",
       "    </tr>\n",
       "    <tr>\n",
       "      <th>716</th>\n",
       "      <td>http://www.centcom.mil/</td>\n",
       "      <td>IR</td>\n",
       "      <td>US</td>\n",
       "    </tr>\n",
       "    <tr>\n",
       "      <th>717</th>\n",
       "      <td>http://baskino.me/</td>\n",
       "      <td>RU</td>\n",
       "      <td>US</td>\n",
       "    </tr>\n",
       "    <tr>\n",
       "      <th>718</th>\n",
       "      <td>http://www.cbsnews.com/</td>\n",
       "      <td>IR</td>\n",
       "      <td>US</td>\n",
       "    </tr>\n",
       "    <tr>\n",
       "      <th>719</th>\n",
       "      <td>http://www.hustler.com/</td>\n",
       "      <td>IR</td>\n",
       "      <td>US</td>\n",
       "    </tr>\n",
       "    <tr>\n",
       "      <th>720</th>\n",
       "      <td>http://www.thegailygrind.com/</td>\n",
       "      <td>IR</td>\n",
       "      <td>US</td>\n",
       "    </tr>\n",
       "  </tbody>\n",
       "</table>\n",
       "<p>720 rows × 3 columns</p>\n",
       "</div>"
      ],
      "text/plain": [
       "                               input   e   i\n",
       "0           http://www.turkpress.co/  SA  CO\n",
       "1       http://www.anonymsurfen.com/  SA  US\n",
       "2          http://www.babylon-x.com/  SA  US\n",
       "3    http://thenationalcampaign.org/  IR  US\n",
       "4              http://www.ansar.org/  IR  US\n",
       "..                               ...  ..  ..\n",
       "716          http://www.centcom.mil/  IR  US\n",
       "717               http://baskino.me/  RU  US\n",
       "718          http://www.cbsnews.com/  IR  US\n",
       "719          http://www.hustler.com/  IR  US\n",
       "720    http://www.thegailygrind.com/  IR  US\n",
       "\n",
       "[720 rows x 3 columns]"
      ]
     },
     "execution_count": 58,
     "metadata": {},
     "output_type": "execute_result"
    }
   ],
   "source": [
    "pairs_tld = unique_pairs('tld_jurisdiction_alpha2', confirmed_only=True)\n",
    "pairs_tld\n",
    "# about 418?"
   ]
  },
  {
   "cell_type": "markdown",
   "metadata": {},
   "source": [
    "about 418/day?\n",
    "\n",
    "by destination, who's receiving them?"
   ]
  },
  {
   "cell_type": "code",
   "execution_count": 38,
   "metadata": {},
   "outputs": [
    {
     "ename": "NameError",
     "evalue": "name 'pairs_ip' is not defined",
     "output_type": "error",
     "traceback": [
      "\u001b[0;31m---------------------------------------------------\u001b[0m",
      "\u001b[0;31mNameError\u001b[0m         Traceback (most recent call last)",
      "\u001b[0;32m<ipython-input-38-611fdd3b8051>\u001b[0m in \u001b[0;36m<module>\u001b[0;34m()\u001b[0m\n\u001b[0;32m----> 1\u001b[0;31m \u001b[0mpairs_ip\u001b[0m\u001b[0;34m.\u001b[0m\u001b[0mgroupby\u001b[0m\u001b[0;34m(\u001b[0m\u001b[0;34m'i'\u001b[0m\u001b[0;34m)\u001b[0m\u001b[0;34m.\u001b[0m\u001b[0mcount\u001b[0m\u001b[0;34m(\u001b[0m\u001b[0;34m)\u001b[0m\u001b[0;34m.\u001b[0m\u001b[0msort_values\u001b[0m\u001b[0;34m(\u001b[0m\u001b[0;34m'e'\u001b[0m\u001b[0;34m,\u001b[0m \u001b[0mascending\u001b[0m\u001b[0;34m=\u001b[0m\u001b[0;32mFalse\u001b[0m\u001b[0;34m)\u001b[0m\u001b[0;34m\u001b[0m\u001b[0;34m\u001b[0m\u001b[0m\n\u001b[0m",
      "\u001b[0;31mNameError\u001b[0m: name 'pairs_ip' is not defined"
     ]
    }
   ],
   "source": [
    "pairs_ip.groupby('i').count().sort_values('e', ascending=False)"
   ]
  },
  {
   "cell_type": "code",
   "execution_count": null,
   "metadata": {},
   "outputs": [],
   "source": []
  },
  {
   "cell_type": "markdown",
   "metadata": {},
   "source": [
    "maybe just a big datacenter there...? load balancer? unclear.\n",
    "unclear what to make of input IP in general..."
   ]
  }
 ],
 "metadata": {
  "kernelspec": {
   "display_name": "Python 3",
   "language": "python",
   "name": "python3"
  },
  "language_info": {
   "codemirror_mode": {
    "name": "ipython",
    "version": 3
   },
   "file_extension": ".py",
   "mimetype": "text/x-python",
   "name": "python",
   "nbconvert_exporter": "python",
   "pygments_lexer": "ipython3",
   "version": "3.6.9"
  }
 },
 "nbformat": 4,
 "nbformat_minor": 2
}
